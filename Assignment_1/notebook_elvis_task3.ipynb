{
 "cells": [
  {
   "cell_type": "code",
   "execution_count": 3,
   "id": "4c32491a",
   "metadata": {},
   "outputs": [],
   "source": [
    "import numpy as np"
   ]
  },
  {
   "cell_type": "code",
   "execution_count": 122,
   "id": "58367084",
   "metadata": {},
   "outputs": [],
   "source": [
    "class Neuron:\n",
    "    \"\"\"A class used for an intermediate or final layer neuron,\n",
    "    having three input weights\n",
    "    \"\"\"\n",
    "    def __init__(self,weights,intermediate=True):\n",
    "        self.weights = weights\n",
    "        if intermediate:\n",
    "            self.activation_func = self._sigmoid\n",
    "        else:\n",
    "            self.activation_func = self._sigmoid\n",
    "    \n",
    "    def predict(self, X):\n",
    "        \"\"\"Gives a prediction for a given value of X\n",
    "        \"\"\"\n",
    "        prediction_pre = np.dot(X, self.weights)\n",
    "        prediction = self.activation_func(prediction_pre)\n",
    "        return prediction\n",
    "    \n",
    "    def _sigmoid(self, x):\n",
    "        \"\"\"Sigmoid activation function\n",
    "        \"\"\"\n",
    "        \n",
    "        return 1/(1+np.exp(-x))\n",
    "\n",
    "    def _none(self,x):\n",
    "        return x\n",
    "    \n",
    "    def _relu(self, x):\n",
    "        \"\"\"ReLU activation function:\n",
    "        \"\"\"\n",
    "        \n",
    "        return np.where(x>=0,x,0)"
   ]
  },
  {
   "cell_type": "code",
   "execution_count": 166,
   "id": "2186f116",
   "metadata": {},
   "outputs": [],
   "source": [
    "def xor_net(inputs, weights):\n",
    "    \"\"\"Simulates an XOR network\n",
    "    \"\"\"\n",
    "    node1 = Neuron(weights[0:3])\n",
    "    node2 = Neuron(weights[3:6])\n",
    "    node3 = Neuron(weights[6:9],False)\n",
    "    \n",
    "    bias0 = bias1 = bias2 = 1\n",
    "    \n",
    "    in1 = np.array([bias0,inputs[0],inputs[1]])\n",
    "    in2 = np.array([bias1,inputs[0],inputs[1]])\n",
    "          \n",
    "    out1 = node1.predict(in1)\n",
    "    out2 = node2.predict(in2)\n",
    "    \n",
    "    out_final = node3.predict(np.array([bias2, out1, out2]))\n",
    "    \n",
    "    return out_final\n",
    "\n",
    "def mse(weights):\n",
    "    \"\"\"Creates an XOR network with given weights for all four input vectors\n",
    "    ans computes the mean square error for all of them\"\"\"\n",
    "    pred00 = xor_net([0,0],weights)\n",
    "    pred01 = xor_net([0,1],weights)\n",
    "    pred10 = xor_net([1,0],weights)\n",
    "    pred11 = xor_net([1,1],weights)\n",
    "    print(pred00,pred01,pred10,pred11)\n",
    "    \n",
    "    error = np.array([pred00-0,pred01-1,pred10-1,pred11-0])\n",
    "    print(error)\n",
    "    \n",
    "    mse = np.mean(error**2)\n",
    "    \n",
    "    return mse\n",
    "\n",
    "def one_one(index, change):\n",
    "    cx = np.zeros(9)\n",
    "    cx[index] = 1\n",
    "    return change*cx\n",
    "\n",
    "def mse_diff(weights1, weights2):\n",
    "    mse1 = mse(weights1)\n",
    "    mse2 = mse(weights2)\n",
    "    return mse2-mse1\n",
    "    \n",
    "\n",
    "def grdmse(weights):\n",
    "    \"\"\"Returns a vector of partial derivatives of dMSE/DW, i.e.;\n",
    "    the amount of change in the MSE as a result of a small change \n",
    "    in each weight.\n",
    "    \"\"\"\n",
    "    change = 0.1\n",
    "    cvs = []\n",
    "    for i in range(len(weights)):\n",
    "        ci = one_one(i, change)\n",
    "        cvs.append(ci)\n",
    "        \n",
    "\n",
    "    gradient = np.array([mse_diff(weights,weights+cvs[0]),mse_diff(weights,weights+cvs[1]),mse_diff(weights,weights+cvs[2]),\n",
    "                        mse_diff(weights,weights+cvs[3]),mse_diff(weights,weights+cvs[4]),mse_diff(weights,weights+cvs[5]),\n",
    "                        mse_diff(weights,weights+cvs[6]),mse_diff(weights,weights+cvs[7]),mse_diff(weights,weights+cvs[8])])\n",
    "    \n",
    "    return gradient"
   ]
  },
  {
   "cell_type": "code",
   "execution_count": 175,
   "id": "3e02454f",
   "metadata": {},
   "outputs": [
    {
     "name": "stdout",
     "output_type": "stream",
     "text": [
      "0.7550266794254394 0.7550266794254394 0.7618965819535792 0.7618965819535792\n",
      "[ 0.75502668 -0.24497332 -0.23810342  0.76189658]\n",
      "0.75548610599939 0.75548610599939 0.7622277632936291 0.7622277632936291\n",
      "[ 0.75548611 -0.24451389 -0.23777224  0.76222776]\n",
      "0.7550266794254394 0.7550266794254394 0.7618965819535792 0.7618965819535792\n",
      "[ 0.75502668 -0.24497332 -0.23810342  0.76189658]\n",
      "0.7550266794254394 0.7550266794254394 0.7622277632936291 0.7622277632936291\n",
      "[ 0.75502668 -0.24497332 -0.23777224  0.76222776]\n",
      "0.7550266794254394 0.7550266794254394 0.7618965819535792 0.7618965819535792\n",
      "[ 0.75502668 -0.24497332 -0.23810342  0.76189658]\n",
      "0.7550266794254394 0.75548610599939 0.7618965819535792 0.7622277632936291\n",
      "[ 0.75502668 -0.24451389 -0.23810342  0.76222776]\n",
      "0.7550266794254394 0.7550266794254394 0.7618965819535792 0.7618965819535792\n",
      "[ 0.75502668 -0.24497332 -0.23810342  0.76189658]\n",
      "0.7553816596031694 0.7553816596031694 0.762079868383952 0.762079868383952\n",
      "[ 0.75538166 -0.24461834 -0.23792013  0.76207987]\n",
      "0.7550266794254394 0.7550266794254394 0.7618965819535792 0.7618965819535792\n",
      "[ 0.75502668 -0.24497332 -0.23810342  0.76189658]\n",
      "0.7550266794254394 0.7550266794254394 0.762079868383952 0.762079868383952\n",
      "[ 0.75502668 -0.24497332 -0.23792013  0.76207987]\n",
      "0.7550266794254394 0.7550266794254394 0.7618965819535792 0.7618965819535792\n",
      "[ 0.75502668 -0.24497332 -0.23810342  0.76189658]\n",
      "0.7550266794254394 0.7553816596031694 0.7618965819535792 0.762079868383952\n",
      "[ 0.75502668 -0.24461834 -0.23810342  0.76207987]\n",
      "0.7550266794254394 0.7550266794254394 0.7618965819535792 0.7618965819535792\n",
      "[ 0.75502668 -0.24497332 -0.23810342  0.76189658]\n",
      "0.7730482062524475 0.7730482062524475 0.7795602765723412 0.7795602765723412\n",
      "[ 0.77304821 -0.22695179 -0.22043972  0.77956028]\n",
      "0.7550266794254394 0.7550266794254394 0.7618965819535792 0.7618965819535792\n",
      "[ 0.75502668 -0.24497332 -0.23810342  0.76189658]\n",
      "0.7646063118860003 0.7646063118860003 0.7752386472321019 0.7752386472321019\n",
      "[ 0.76460631 -0.23539369 -0.22476135  0.77523865]\n",
      "0.7550266794254394 0.7550266794254394 0.7618965819535792 0.7618965819535792\n",
      "[ 0.75502668 -0.24497332 -0.23810342  0.76189658]\n",
      "0.7682951551122668 0.7682951551122668 0.77750499666091 0.77750499666091\n",
      "[ 0.76829516 -0.23170484 -0.222495    0.777505  ]\n"
     ]
    },
    {
     "data": {
      "text/plain": [
       "array([2.04061671e-04, 8.67901015e-05, 6.99695273e-05, 1.38611308e-04,\n",
       "       4.80188866e-05, 2.63822172e-05, 9.54042216e-03, 6.07219318e-03,\n",
       "       7.68144329e-03])"
      ]
     },
     "execution_count": 175,
     "metadata": {},
     "output_type": "execute_result"
    }
   ],
   "source": [
    "w = [0.1,1,0,1,1,0,1,0.1,0.1]\n",
    "grdmse(w)"
   ]
  },
  {
   "cell_type": "code",
   "execution_count": 39,
   "id": "4c90d02f",
   "metadata": {},
   "outputs": [
    {
     "name": "stdout",
     "output_type": "stream",
     "text": [
      "[list([0, 1]) 1]\n"
     ]
    },
    {
     "name": "stderr",
     "output_type": "stream",
     "text": [
      "C:\\Users\\elvis\\anaconda3\\lib\\site-packages\\numpy\\core\\fromnumeric.py:43: VisibleDeprecationWarning: Creating an ndarray from ragged nested sequences (which is a list-or-tuple of lists-or-tuples-or ndarrays with different lengths or shapes) is deprecated. If you meant to do this, you must specify 'dtype=object' when creating the ndarray.\n",
      "  result = getattr(asarray(obj), method)(*args, **kwds)\n"
     ]
    }
   ],
   "source": [
    "a = [0,1]\n",
    "b = 1\n",
    "print(np.squeeze([a,b]))"
   ]
  },
  {
   "cell_type": "code",
   "execution_count": null,
   "id": "6b85a7a1",
   "metadata": {},
   "outputs": [],
   "source": []
  }
 ],
 "metadata": {
  "kernelspec": {
   "display_name": "Python 3 (ipykernel)",
   "language": "python",
   "name": "python3"
  },
  "language_info": {
   "codemirror_mode": {
    "name": "ipython",
    "version": 3
   },
   "file_extension": ".py",
   "mimetype": "text/x-python",
   "name": "python",
   "nbconvert_exporter": "python",
   "pygments_lexer": "ipython3",
   "version": "3.9.13"
  }
 },
 "nbformat": 4,
 "nbformat_minor": 5
}
