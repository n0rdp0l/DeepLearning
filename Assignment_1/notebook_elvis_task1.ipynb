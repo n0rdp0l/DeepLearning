{
 "cells": [
  {
   "cell_type": "code",
   "execution_count": null,
   "id": "daa6ba54",
   "metadata": {},
   "outputs": [],
   "source": [
    "import numpy as np\n",
    "import pandas as pd\n",
    "import itertools\n",
    "from sklearn.manifold import TSNE\n",
    "from sklearn.decomposition import PCA\n",
    "from sklearn.neighbors import KNeighborsClassifier"
   ]
  },
  {
   "cell_type": "code",
   "execution_count": null,
   "id": "2d6cf839",
   "metadata": {},
   "outputs": [],
   "source": [
    "train_in = np.array(pd.read_csv(\"train_in.csv\"))\n",
    "train_out = np.array(pd.read_csv(\"train_out.csv\"))\n",
    "test_in = np.array(pd.read_csv(\"test_in.csv\"))\n",
    "test_out = np.array(pd.read_csv(\"test_out.csv\"))"
   ]
  },
  {
   "cell_type": "code",
   "execution_count": null,
   "id": "f2f12384",
   "metadata": {},
   "outputs": [],
   "source": [
    "def generate_point(pixel_data, label_set):\n",
    "    \"\"\"Calculates the \"average\" (brightness at each pixel-wise) of a set of images\n",
    "    \"\"\"\n",
    "    cloud_sum = np.zeros(256)\n",
    "    for label in label_set:\n",
    "        cloud_sum += pixel_data[label]\n",
    "    cd = cloud_sum/len(label_set)\n",
    "    return cd\n",
    "\n",
    "def distance(point1, point2):\n",
    "    return np.linalg.norm(point1-point2)"
   ]
  },
  {
   "cell_type": "code",
   "execution_count": null,
   "id": "15671139",
   "metadata": {},
   "outputs": [],
   "source": [
    "\"\"\"Splitting up the labeled (train) set into separate label sets for each digit\n",
    "\"\"\"\n",
    "labels0 = []\n",
    "labels1 = []\n",
    "labels2 = []\n",
    "labels3 = []\n",
    "labels4 = []\n",
    "labels5 = []\n",
    "labels6 = []\n",
    "labels7 = []\n",
    "labels8 = []\n",
    "labels9 = []\n",
    "\n",
    "for i, label in enumerate(train_out):\n",
    "    for content in label:\n",
    "        if content == 0:\n",
    "            labels0.append(i)\n",
    "        elif content == 1:\n",
    "            labels1.append(i)\n",
    "        elif content == 2:\n",
    "            labels2.append(i)\n",
    "        elif content == 3:\n",
    "            labels3.append(i)\n",
    "        elif content == 4:\n",
    "            labels4.append(i)\n",
    "        elif content == 5:\n",
    "            labels5.append(i)\n",
    "        elif content == 6:\n",
    "            labels6.append(i)\n",
    "        elif content == 7:\n",
    "            labels7.append(i)\n",
    "        elif content == 8:\n",
    "            labels8.append(i)\n",
    "        elif content == 9:\n",
    "            labels9.append(i)\n",
    "            \n",
    "all_labels = [labels0, labels1, labels2, labels3, labels4, labels5, labels6, labels7, labels8, labels9]"
   ]
  },
  {
   "cell_type": "code",
   "execution_count": null,
   "id": "86384cec",
   "metadata": {},
   "outputs": [],
   "source": [
    "\"\"\"Calculates the average of the sets for each digit\n",
    "\"\"\"\n",
    "\n",
    "average_points = []\n",
    "distances = []\n",
    "for labelset in all_labels:\n",
    "    point = generate_point(train_in, labelset)\n",
    "    average_points.append(point)"
   ]
  },
  {
   "cell_type": "code",
   "execution_count": null,
   "id": "92ed1f76",
   "metadata": {},
   "outputs": [],
   "source": [
    "\"\"\"Make predictions using the given averages, classifying each piece of\n",
    "test data as the digit it is closest to (in 256-dimensional brightness-space)\n",
    "\"\"\"\n",
    "\n",
    "\n",
    "predictions = np.zeros(999)\n",
    "\n",
    "for j, test in enumerate(test_in):\n",
    "    digit_dists = np.zeros(10)\n",
    "    for i, point in enumerate(average_points):\n",
    "        dist = distance(test, point)\n",
    "        digit_dists[i] = dist\n",
    "    prediction = int(np.argmin(digit_dists))\n",
    "    predictions[j] = prediction"
   ]
  },
  {
   "cell_type": "code",
   "execution_count": null,
   "id": "03989f98",
   "metadata": {},
   "outputs": [],
   "source": [
    "\"\"\"Obtain the accuracy of said prediction\n",
    "\"\"\"\n",
    "\n",
    "corr_p = 0\n",
    "print(len(test_out))\n",
    "for i, predict in enumerate(predictions):\n",
    "    if predict == np.squeeze(test_out)[i]:\n",
    "        corr_p += 1\n",
    "        \n",
    "print(corr_p)"
   ]
  },
  {
   "cell_type": "code",
   "execution_count": null,
   "id": "54158710",
   "metadata": {},
   "outputs": [],
   "source": [
    "\"\"\"Does k nearest neightbor classification using\n",
    "the built in sklearn package\n",
    "\"\"\"\n",
    "\n",
    "KNN = KNeighborsClassifier(12)\n",
    "KNN.fit(train_in, train_out.ravel())\n",
    "KNN_predictions = KNN.predict(test_in)\n",
    "\n",
    "corr_p_knn = 0\n",
    "for i, predict in enumerate(KNN_predictions):\n",
    "    if predict == np.squeeze(test_out)[i]:\n",
    "        corr_p_knn += 1\n",
    "\n",
    "print(corr_p_knn)"
   ]
  },
  {
   "cell_type": "code",
   "execution_count": null,
   "id": "daba6085",
   "metadata": {},
   "outputs": [],
   "source": [
    "\"\"\"Obtain the distances (in 256-dim brightness space) matrix between each digit\n",
    "\"\"\"\n",
    "\n",
    "point_edges = itertools.product(average_points, repeat=2)\n",
    "\n",
    "for x,y in point_edges:\n",
    "    distance0 = distance(x,y)\n",
    "    distances.append(distance0)\n",
    "    \n",
    "distance_array = np.array(distances)\n",
    "distances = np.reshape(distance_array,(10,10))\n",
    "    \n",
    "print(distance_array)\n",
    "print(np.argmin(distance_array))"
   ]
  },
  {
   "cell_type": "code",
   "execution_count": null,
   "id": "06bfaef3",
   "metadata": {},
   "outputs": [],
   "source": [
    "print(train_in[51][218])"
   ]
  }
 ],
 "metadata": {
  "kernelspec": {
   "display_name": "Python 3 (ipykernel)",
   "language": "python",
   "name": "python3"
  },
  "language_info": {
   "codemirror_mode": {
    "name": "ipython",
    "version": 3
   },
   "file_extension": ".py",
   "mimetype": "text/x-python",
   "name": "python",
   "nbconvert_exporter": "python",
   "pygments_lexer": "ipython3",
   "version": "3.9.13"
  }
 },
 "nbformat": 4,
 "nbformat_minor": 5
}
