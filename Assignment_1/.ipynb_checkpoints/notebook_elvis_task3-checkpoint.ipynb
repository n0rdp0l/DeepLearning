{
 "cells": [
  {
   "cell_type": "code",
   "execution_count": 3,
   "id": "ce22bde7",
   "metadata": {},
   "outputs": [],
   "source": [
    "import numpy as np"
   ]
  },
  {
   "cell_type": "code",
   "execution_count": 99,
   "id": "32dce461",
   "metadata": {},
   "outputs": [],
   "source": [
    "class Neuron:\n",
    "    \"\"\"A class used for an intermediate or final layer neuron,\n",
    "    having three input weights\n",
    "    \"\"\"\n",
    "    def __init__(self,weights,intermediate=True):\n",
    "        self.weights = weights\n",
    "        if intermediate:\n",
    "            self.activation_func = self._sigmoid\n",
    "        else:\n",
    "            self.activation_func = self._none\n",
    "    \n",
    "    def predict(self, X):\n",
    "        \"\"\"Gives a prediction for a given value of X\n",
    "        \"\"\"\n",
    "        prediction_pre = np.dot(X, self.weights)\n",
    "        prediction = self.activation_func(prediction_pre)\n",
    "        return prediction\n",
    "    \n",
    "    def _sigmoid(self, x):\n",
    "        \"\"\"Sigmoid activation function\n",
    "        \"\"\"\n",
    "        \n",
    "        return 1/(1+np.exp(-x))\n",
    "\n",
    "    def _none(self,x):\n",
    "        return x\n",
    "    \n",
    "    def _relu(self, x):\n",
    "        \"\"\"ReLU activation function:\n",
    "        \"\"\"\n",
    "        \n",
    "        return np.where(x>=0,x,0)"
   ]
  },
  {
   "cell_type": "code",
   "execution_count": 100,
   "id": "dd54e669",
   "metadata": {},
   "outputs": [],
   "source": [
    "def xor_net(inputs, weights):\n",
    "    \"\"\"Simulates an XOR network\n",
    "    \"\"\"\n",
    "    node1 = Neuron(weights[0:3])\n",
    "    node2 = Neuron(weights[3:6])\n",
    "    node3 = Neuron(weights[6:9],False)\n",
    "    \n",
    "    bias0 = bias1 = bias2 = 1\n",
    "    \n",
    "    in1 = np.array([bias0,inputs[0],inputs[1]])\n",
    "    in2 = np.array([bias1,inputs[0],inputs[1]])\n",
    "          \n",
    "    out1 = node1.predict(in1)\n",
    "    out2 = node2.predict(in2)\n",
    "    \n",
    "    out_final = node3.predict(np.array([bias2, out1, out2]))\n",
    "    \n",
    "    return out_final\n",
    "\n",
    "def mse(weights):\n",
    "    \"\"\"Creates an XOR network with given weights for all four input vectors\n",
    "    ans computes the mean square error for all of them\"\"\"\n",
    "    pred00 = xor_net([0,0],weights)\n",
    "    pred01 = xor_net([0,1],weights)\n",
    "    pred10 = xor_net([1,0],weights)\n",
    "    pred11 = xor_net([1,1],weights)\n",
    "    \n",
    "    error = np.array([pred00-0,pred01-1,pred10-1,pred11-0])\n",
    "    \n",
    "    mse = np.mean(error**2)\n",
    "    \n",
    "    return mse\n",
    "\n",
    "def one_one(index, change):\n",
    "    cx = np.zeros(9)\n",
    "    cx[index] = 1\n",
    "    return change*cx\n",
    "\n",
    "def mse_diff(weights1, weights2):\n",
    "    mse1 = mse(weights1)\n",
    "    mse2 = mse(weights2)\n",
    "    return mse2-mse1\n",
    "    \n",
    "\n",
    "def grdmse(weights):\n",
    "    \"\"\"Returns a vector of partial derivatives of dMSE/DW, i.e.;\n",
    "    the amount of change in the MSE as a result of a small change \n",
    "    in each weight.\n",
    "    \"\"\"\n",
    "    change = 10\n",
    "    cvs = []\n",
    "    for i in range(len(weights)):\n",
    "        ci = one_one(i, change)\n",
    "        cvs.append(ci)\n",
    "        \n",
    "\n",
    "    gradient = np.array([mse_diff(weights,weights+cvs[0]),mse_diff(weights,weights+cvs[1]),mse_diff(weights,weights+cvs[2]),\n",
    "                        mse_diff(weights,weights+cvs[3]),mse_diff(weights,weights+cvs[4]),mse_diff(weights,weights+cvs[5]),\n",
    "                        mse_diff(weights,weights+cvs[6]),mse_diff(weights,weights+cvs[7]),mse_diff(weights,weights+cvs[8])])\n",
    "    \n",
    "    return gradient"
   ]
  },
  {
   "cell_type": "code",
   "execution_count": 101,
   "id": "cc29300b",
   "metadata": {},
   "outputs": [
    {
     "data": {
      "text/plain": [
       "array([ 0.,  0.,  0.,  0.,  0.,  0., 90., 20., 20.])"
      ]
     },
     "execution_count": 101,
     "metadata": {},
     "output_type": "execute_result"
    }
   ],
   "source": [
    "w = [0,0,0,0,0,0,0,0,0]\n",
    "grdmse(w)"
   ]
  },
  {
   "cell_type": "code",
   "execution_count": 39,
   "id": "ea953c21",
   "metadata": {},
   "outputs": [
    {
     "name": "stdout",
     "output_type": "stream",
     "text": [
      "[list([0, 1]) 1]\n"
     ]
    },
    {
     "name": "stderr",
     "output_type": "stream",
     "text": [
      "C:\\Users\\elvis\\anaconda3\\lib\\site-packages\\numpy\\core\\fromnumeric.py:43: VisibleDeprecationWarning: Creating an ndarray from ragged nested sequences (which is a list-or-tuple of lists-or-tuples-or ndarrays with different lengths or shapes) is deprecated. If you meant to do this, you must specify 'dtype=object' when creating the ndarray.\n",
      "  result = getattr(asarray(obj), method)(*args, **kwds)\n"
     ]
    }
   ],
   "source": [
    "a = [0,1]\n",
    "b = 1\n",
    "print(np.squeeze([a,b]))"
   ]
  },
  {
   "cell_type": "code",
   "execution_count": null,
   "id": "dfbf544c",
   "metadata": {},
   "outputs": [],
   "source": []
  }
 ],
 "metadata": {
  "kernelspec": {
   "display_name": "Python 3 (ipykernel)",
   "language": "python",
   "name": "python3"
  },
  "language_info": {
   "codemirror_mode": {
    "name": "ipython",
    "version": 3
   },
   "file_extension": ".py",
   "mimetype": "text/x-python",
   "name": "python",
   "nbconvert_exporter": "python",
   "pygments_lexer": "ipython3",
   "version": "3.9.13"
  }
 },
 "nbformat": 4,
 "nbformat_minor": 5
}
