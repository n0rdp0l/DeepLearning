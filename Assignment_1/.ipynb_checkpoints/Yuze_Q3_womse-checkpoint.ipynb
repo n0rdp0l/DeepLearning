{
 "cells": [
  {
   "cell_type": "code",
   "execution_count": 1,
   "id": "4cde199f",
   "metadata": {},
   "outputs": [],
   "source": [
    "import numpy as np"
   ]
  },
  {
   "cell_type": "code",
   "execution_count": 2,
   "id": "1631e0ef",
   "metadata": {},
   "outputs": [],
   "source": [
    "def xor_net(inputs, weights):\n",
    "    \"\"\"\n",
    "    A single forward pass through the network.\n",
    "    Implementation of wX + b\n",
    "    \"\"\"\n",
    "    \n",
    "    num_inputs = 2 \n",
    "    num_hidden = 2\n",
    "    num_output = 1\n",
    "    \n",
    "    weights_01 = np.zeros((num_inputs, num_hidden))\n",
    "    weights_12 = np.zeros((num_hidden, num_output))\n",
    "    \n",
    "    weights_01[0,0], weights_01[0,1] = weights[0], weights[1]\n",
    "    weights_01[1,0], weights_01[1,1] = weights[2], weights[3]\n",
    "    weights_12[0,0], weights_12[1,0] = weights[4], weights[5]\n",
    "    \n",
    "    b_01 = np.zeros((1,num_hidden))\n",
    "    b_12 = np.zeros((1,num_output))\n",
    "    \n",
    "    b_01[0,0], b_01[0,1] = weights[6], weights[7]\n",
    "    b_12[0,0] = weights[8]  # 4 weights from layer 0 to 1; \n",
    "                            # 2 weights from layer 1 to 2; \n",
    "                            # 2 biases from layer 0 to 1; \n",
    "                            # 1 bias from layer 1 to 2;\n",
    "                            # 9 values in total\n",
    "\n",
    "    hidden_in = np.dot(inputs, weights_01) + b_01\n",
    "    hidden_out = sigmoid(hidden_in)\n",
    "\n",
    "    output_in = np.dot(hidden_out, weights_12) + b_12\n",
    "    output_out = sigmoid(output_in)\n",
    "\n",
    "    return hidden_in, hidden_out, output_in, output_out"
   ]
  },
  {
   "cell_type": "code",
   "execution_count": 3,
   "id": "27a94a00",
   "metadata": {},
   "outputs": [],
   "source": [
    "def sigmoid(x):\n",
    "    \"\"\"\n",
    "    The sigmoid activation function.\n",
    "    \"\"\"\n",
    "    return 1 / (1 + np.exp(-x))\n",
    "    \n",
    "def delsigmoid(x):\n",
    "    \"\"\"\n",
    "    The first derivative of the sigmoid function wrt x\n",
    "    \"\"\"\n",
    "    return np.exp(x) / (1 + np.exp(x))**2"
   ]
  },
  {
   "cell_type": "code",
   "execution_count": 4,
   "id": "8e4b4772",
   "metadata": {},
   "outputs": [],
   "source": [
    "def grdmse(weights):\n",
    "    \"\"\"\n",
    "    Propagate change of weights to change of mse\n",
    "    \"\"\"\n",
    "    \n",
    "    w00, w01, w10, w11 = weights[0], weights[1], weights[2], weights[3]\n",
    "    w_00, w_10 = weights[4], weights[5]\n",
    "    b00, b01 = weights[6], weights[7]\n",
    "    b_00 = weights[8]\n",
    "    \n",
    "    hin_11, hout_11, oin_11, oout_11 = xor_net([1,1], weights)\n",
    "    \n",
    "    dw9_11 = delsigmoid(oin_11)\n",
    "    dw9 = float(dw9_11)\n",
    "    \n",
    "    dw8_11 = dw9_11*w_10*delsigmoid(hin_11[0][1])\n",
    "    dw8 = float(dw8_11)\n",
    "    \n",
    "    dw7_11 = dw9_11*w_00*delsigmoid(hin_11[0][0])\n",
    "    dw7 = float(dw7_11)\n",
    "    \n",
    "    dw6_11 = dw9_11*hout_11[0][1]\n",
    "    dw6 = float(dw6_11)\n",
    "    \n",
    "    dw5_11 = dw9_11*hout_11[0][0]\n",
    "    dw5 = float(dw5_11)\n",
    "    \n",
    "    dw4_11 = dw9_11*w_10*delsigmoid(hin_11[0][1])*0\n",
    "    dw4 = float(dw4_11)\n",
    "    \n",
    "    dw3_11 = dw9_11*w_10*delsigmoid(hin_11[0][1])*0\n",
    "    dw3 = float(dw3_11)\n",
    "    \n",
    "    dw2_11 = dw9_11*w_00*delsigmoid(hin_11[0][0])*0\n",
    "    dw2 = float(dw2_11)\n",
    "    \n",
    "    dw1_11 = dw9_11*w_00*delsigmoid(hin_11[0][0])*0\n",
    "    dw1 = float(dw1_11)\n",
    "    \n",
    "    DW1 = dw1*float((xor_net([1,1], weights)[-1]-0))\n",
    "    DW2 = dw2*float((xor_net([1,1], weights)[-1]-0))\n",
    "    DW3 = dw3*float((xor_net([1,1], weights)[-1]-0))\n",
    "    DW4 = dw4*float((xor_net([1,1], weights)[-1]-0))\n",
    "    DW5 = dw5*float((xor_net([1,1], weights)[-1]-0))\n",
    "    DW6 = dw6*float((xor_net([1,1], weights)[-1]-0))\n",
    "    DW7 = dw7*float((xor_net([1,1], weights)[-1]-0))\n",
    "    DW8 = dw8*float((xor_net([1,1], weights)[-1]-0))\n",
    "    DW9 = dw9*float((xor_net([1,1], weights)[-1]-0))\n",
    "\n",
    "    dmse = np.array([DW1, DW2, DW3, DW4, DW5, DW6, DW7, DW8, DW9])\n",
    "    \n",
    "    return dmse"
   ]
  },
  {
   "cell_type": "code",
   "execution_count": 5,
   "id": "f8fcbc99",
   "metadata": {},
   "outputs": [],
   "source": [
    "weights = np.random.uniform(size = 9)\n",
    "\n",
    "lr = 0.01\n",
    "for i in range(10000):\n",
    "\n",
    "    grd = grdmse(weights)\n",
    "    weights = weights - lr*grd\n",
    "\n",
    "Pred_11 = xor_net([1,1], weights)[-1]"
   ]
  },
  {
   "cell_type": "code",
   "execution_count": 6,
   "id": "41a6c4eb",
   "metadata": {},
   "outputs": [
    {
     "data": {
      "text/plain": [
       "array([[0.05124228]])"
      ]
     },
     "execution_count": 6,
     "metadata": {},
     "output_type": "execute_result"
    }
   ],
   "source": [
    "Pred_11"
   ]
  },
  {
   "cell_type": "code",
   "execution_count": 7,
   "id": "be77194c",
   "metadata": {},
   "outputs": [],
   "source": [
    "def grdmse(weights):\n",
    "    \"\"\"\n",
    "    Propagate change of weights to change of mse\n",
    "    \"\"\"\n",
    "    \n",
    "    w00, w01, w10, w11 = weights[0], weights[1], weights[2], weights[3]\n",
    "    w_00, w_10 = weights[4], weights[5]\n",
    "    b00, b01 = weights[6], weights[7]\n",
    "    b_00 = weights[8]\n",
    "    \n",
    "    hin_01, hout_01, oin_01, oout_01 = xor_net([0,1], weights)\n",
    "    \n",
    "    dw9_01 = delsigmoid(oin_01)\n",
    "    dw9 = float(dw9_01)\n",
    "    \n",
    "    dw8_01 = dw9_01*w_10*delsigmoid(hin_01[0][1])\n",
    "    dw8 = float(dw8_01)\n",
    "    \n",
    "    dw7_01 = dw9_01*w_00*delsigmoid(hin_01[0][0])\n",
    "    dw7 = float(dw7_01)\n",
    "    \n",
    "    dw6_01 = dw9_01*hout_01[0][1]\n",
    "    dw6 = float(dw6_01)\n",
    "    \n",
    "    dw5_01 = dw9_01*hout_01[0][0]\n",
    "    dw5 = float(dw5_01)\n",
    "    \n",
    "    dw4_01 = dw9_01*w_10*delsigmoid(hin_01[0][1])*0\n",
    "    dw4 = float(dw4_01)\n",
    "    \n",
    "    dw3_01 = dw9_01*w_10*delsigmoid(hin_01[0][1])*0\n",
    "    dw3 = float(dw3_01)\n",
    "    \n",
    "    dw2_01 = dw9_01*w_00*delsigmoid(hin_01[0][0])*0\n",
    "    dw2 = float(dw2_01)\n",
    "    \n",
    "    dw1_01 = dw9_01*w_00*delsigmoid(hin_01[0][0])*0\n",
    "    dw1 = float(dw1_01)\n",
    "    \n",
    "    DW1 = dw1*float((xor_net([0,1], weights)[-1]-1))\n",
    "    DW2 = dw2*float((xor_net([0,1], weights)[-1]-1))\n",
    "    DW3 = dw3*float((xor_net([0,1], weights)[-1]-1))\n",
    "    DW4 = dw4*float((xor_net([0,1], weights)[-1]-1))\n",
    "    DW5 = dw5*float((xor_net([0,1], weights)[-1]-1))\n",
    "    DW6 = dw6*float((xor_net([0,1], weights)[-1]-1))\n",
    "    DW7 = dw7*float((xor_net([0,1], weights)[-1]-1))\n",
    "    DW8 = dw8*float((xor_net([0,1], weights)[-1]-1))\n",
    "    DW9 = dw9*float((xor_net([0,1], weights)[-1]-1))\n",
    "\n",
    "    dmse = np.array([DW1, DW2, DW3, DW4, DW5, DW6, DW7, DW8, DW9])\n",
    "    \n",
    "    return dmse"
   ]
  },
  {
   "cell_type": "code",
   "execution_count": 8,
   "id": "349aa04d",
   "metadata": {},
   "outputs": [],
   "source": [
    "weights = np.random.uniform(size = 9)\n",
    "\n",
    "lr = 0.01\n",
    "for i in range(10000):\n",
    "\n",
    "    grd = grdmse(weights)\n",
    "    weights = weights - lr*grd\n",
    "\n",
    "Pred_01 = xor_net([0,1], weights)[-1]"
   ]
  },
  {
   "cell_type": "code",
   "execution_count": 9,
   "id": "3b2e0338",
   "metadata": {},
   "outputs": [
    {
     "data": {
      "text/plain": [
       "array([[0.94830318]])"
      ]
     },
     "execution_count": 9,
     "metadata": {},
     "output_type": "execute_result"
    }
   ],
   "source": [
    "Pred_01"
   ]
  },
  {
   "cell_type": "code",
   "execution_count": 10,
   "id": "2d32b3e9",
   "metadata": {},
   "outputs": [],
   "source": [
    "def grdmse(weights):\n",
    "    \"\"\"\n",
    "    Propagate change of weights to change of mse\n",
    "    \"\"\"\n",
    "    \n",
    "    w00, w01, w10, w11 = weights[0], weights[1], weights[2], weights[3]\n",
    "    w_00, w_10 = weights[4], weights[5]\n",
    "    b00, b01 = weights[6], weights[7]\n",
    "    b_00 = weights[8]\n",
    "    \n",
    "    hin_00, hout_00, oin_00, oout_00 = xor_net([0,0], weights)\n",
    "    \n",
    "    dw9_00 = delsigmoid(oin_00)\n",
    "    dw9 = float(dw9_00)\n",
    "    \n",
    "    dw8_00 = dw9_00*w_10*delsigmoid(hin_00[0][1])\n",
    "    dw8 = float(dw8_00)\n",
    "    \n",
    "    dw7_00 = dw9_00*w_00*delsigmoid(hin_00[0][0])\n",
    "    dw7 = float(dw7_00)\n",
    "    \n",
    "    dw6_00 = dw9_00*hout_00[0][1]\n",
    "    dw6 = float(dw6_00)\n",
    "    \n",
    "    dw5_00 = dw9_00*hout_00[0][0]\n",
    "    dw5 = float(dw5_00)\n",
    "    \n",
    "    dw4_00 = dw9_00*w_10*delsigmoid(hin_00[0][1])*0\n",
    "    dw4 = float(dw4_00)\n",
    "    \n",
    "    dw3_00 = dw9_00*w_10*delsigmoid(hin_00[0][1])*0\n",
    "    dw3 = float(dw3_00)\n",
    "    \n",
    "    dw2_00 = dw9_00*w_00*delsigmoid(hin_00[0][0])*0\n",
    "    dw2 = float(dw2_00)\n",
    "    \n",
    "    dw1_00 = dw9_00*w_00*delsigmoid(hin_00[0][0])*0\n",
    "    dw1 = float(dw1_00)\n",
    "    \n",
    "    DW1 = dw1*float((xor_net([0,0], weights)[-1]-0))\n",
    "    DW2 = dw2*float((xor_net([0,0], weights)[-1]-0))\n",
    "    DW3 = dw3*float((xor_net([0,0], weights)[-1]-0))\n",
    "    DW4 = dw4*float((xor_net([0,0], weights)[-1]-0))\n",
    "    DW5 = dw5*float((xor_net([0,0], weights)[-1]-0))\n",
    "    DW6 = dw6*float((xor_net([0,0], weights)[-1]-0))\n",
    "    DW7 = dw7*float((xor_net([0,0], weights)[-1]-0))\n",
    "    DW8 = dw8*float((xor_net([0,0], weights)[-1]-0))\n",
    "    DW9 = dw9*float((xor_net([0,0], weights)[-1]-0))\n",
    "\n",
    "    dmse = np.array([DW1, DW2, DW3, DW4, DW5, DW6, DW7, DW8, DW9])\n",
    "    \n",
    "    return dmse"
   ]
  },
  {
   "cell_type": "code",
   "execution_count": null,
   "id": "fd99b674",
   "metadata": {},
   "outputs": [],
   "source": [
    "weights = np.random.uniform(size = 9)\n",
    "\n",
    "lr = 0.01\n",
    "for i in range(10000):\n",
    "\n",
    "    grd = grdmse(weights)\n",
    "    weights = weights - lr*grd\n",
    "\n",
    "Pred_00 = xor_net([0,0], weights)[-1]"
   ]
  },
  {
   "cell_type": "code",
   "execution_count": null,
   "id": "4e0a7899",
   "metadata": {},
   "outputs": [],
   "source": [
    "Pred_00"
   ]
  },
  {
   "cell_type": "code",
   "execution_count": null,
   "id": "bae66803",
   "metadata": {},
   "outputs": [],
   "source": [
    "def grdmse(weights):\n",
    "    \"\"\"\n",
    "    Propagate change of weights to change of mse\n",
    "    \"\"\"\n",
    "    \n",
    "    w00, w01, w10, w11 = weights[0], weights[1], weights[2], weights[3]\n",
    "    w_00, w_10 = weights[4], weights[5]\n",
    "    b00, b01 = weights[6], weights[7]\n",
    "    b_00 = weights[8]\n",
    "    \n",
    "    hin_10, hout_10, oin_10, oout_10 = xor_net([1,0], weights)\n",
    "    \n",
    "    dw9_10 = delsigmoid(oin_10)\n",
    "    dw9 = float(dw9_10)\n",
    "    \n",
    "    dw8_10 = dw9_10*w_10*delsigmoid(hin_10[0][1])\n",
    "    dw8 = float(dw8_10)\n",
    "    \n",
    "    dw7_10 = dw9_10*w_00*delsigmoid(hin_10[0][0])\n",
    "    dw7 = float(dw7_10)\n",
    "    \n",
    "    dw6_10 = dw9_10*hout_10[0][1]\n",
    "    dw6 = float(dw6_10)\n",
    "    \n",
    "    dw5_10 = dw9_10*hout_10[0][0]\n",
    "    dw5 = float(dw5_10)\n",
    "    \n",
    "    dw4_10 = dw9_10*w_10*delsigmoid(hin_10[0][1])*0\n",
    "    dw4 = float(dw4_10)\n",
    "    \n",
    "    dw3_10 = dw9_10*w_10*delsigmoid(hin_10[0][1])*0\n",
    "    dw3 = float(dw3_10)\n",
    "    \n",
    "    dw2_10 = dw9_10*w_00*delsigmoid(hin_10[0][0])*0\n",
    "    dw2 = float(dw2_10)\n",
    "    \n",
    "    dw1_10 = dw9_10*w_00*delsigmoid(hin_10[0][0])*0\n",
    "    dw1 = float(dw1_10)\n",
    "    \n",
    "    DW1 = dw1*float((xor_net([1,0], weights)[-1]-1))\n",
    "    DW2 = dw2*float((xor_net([1,0], weights)[-1]-1))\n",
    "    DW3 = dw3*float((xor_net([1,0], weights)[-1]-1))\n",
    "    DW4 = dw4*float((xor_net([1,0], weights)[-1]-1))\n",
    "    DW5 = dw5*float((xor_net([1,0], weights)[-1]-1))\n",
    "    DW6 = dw6*float((xor_net([1,0], weights)[-1]-1))\n",
    "    DW7 = dw7*float((xor_net([1,0], weights)[-1]-1))\n",
    "    DW8 = dw8*float((xor_net([1,0], weights)[-1]-1))\n",
    "    DW9 = dw9*float((xor_net([1,0], weights)[-1]-1))\n",
    "\n",
    "    dmse = np.array([DW1, DW2, DW3, DW4, DW5, DW6, DW7, DW8, DW9])\n",
    "    \n",
    "    return dmse"
   ]
  },
  {
   "cell_type": "code",
   "execution_count": null,
   "id": "b02b214f",
   "metadata": {},
   "outputs": [],
   "source": [
    "weights = np.random.uniform(size = 9)\n",
    "\n",
    "lr = 0.01\n",
    "for i in range(10000):\n",
    "\n",
    "    grd = grdmse(weights)\n",
    "    weights = weights - lr*grd\n",
    "\n",
    "Pred_10 = xor_net([1,0], weights)[-1]"
   ]
  },
  {
   "cell_type": "code",
   "execution_count": null,
   "id": "43e8ba70",
   "metadata": {},
   "outputs": [],
   "source": [
    "Pred_10"
   ]
  },
  {
   "cell_type": "code",
   "execution_count": null,
   "id": "9e579a17",
   "metadata": {},
   "outputs": [],
   "source": [
    "def classify(num):\n",
    "    if num>=0.5:\n",
    "        return 1\n",
    "    return 0"
   ]
  },
  {
   "cell_type": "code",
   "execution_count": null,
   "id": "c6478487",
   "metadata": {},
   "outputs": [],
   "source": [
    "output = np.array([classify(Pred_00), classify(Pred_01), classify(Pred_10), classify(Pred_11)])"
   ]
  },
  {
   "cell_type": "code",
   "execution_count": null,
   "id": "b22e6655",
   "metadata": {},
   "outputs": [],
   "source": [
    "output"
   ]
  },
  {
   "cell_type": "code",
   "execution_count": null,
   "id": "a6ed451e",
   "metadata": {},
   "outputs": [],
   "source": []
  }
 ],
 "metadata": {
  "kernelspec": {
   "display_name": "Python 3 (ipykernel)",
   "language": "python",
   "name": "python3"
  },
  "language_info": {
   "codemirror_mode": {
    "name": "ipython",
    "version": 3
   },
   "file_extension": ".py",
   "mimetype": "text/x-python",
   "name": "python",
   "nbconvert_exporter": "python",
   "pygments_lexer": "ipython3",
   "version": "3.9.13"
  }
 },
 "nbformat": 4,
 "nbformat_minor": 5
}
