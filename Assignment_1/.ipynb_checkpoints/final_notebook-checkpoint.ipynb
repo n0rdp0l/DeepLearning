{
 "cells": [
  {
   "cell_type": "code",
   "execution_count": 1,
   "id": "2534e857",
   "metadata": {},
   "outputs": [],
   "source": [
    "import pandas as pd\n",
    "import numpy as np\n",
    "import itertools \n",
    "import matplotlib.pyplot as plt"
   ]
  },
  {
   "cell_type": "code",
   "execution_count": 2,
   "id": "1ddffd1d",
   "metadata": {},
   "outputs": [],
   "source": [
    "train_in = pd.read_csv(\"train_in.csv\")\n",
    "train_out = pd.read_csv(\"train_out.csv\")\n",
    "train_in = np.array(train_in)\n",
    "train_out = np.array(train_out)"
   ]
  },
  {
   "cell_type": "code",
   "execution_count": 4,
   "id": "cb40ddb1",
   "metadata": {},
   "outputs": [],
   "source": [
    "def get_distances(train_in, train_out):\n",
    "    \"\"\"Method do get the distance in 256-dimensional pace between digits 0-9.\n",
    "    \n",
    "    This method considers 16x16 pixel images as points in 256 dimensional space,\n",
    "    where each dimension is the brightness of a specific pixel. The method then \n",
    "    averages all point of a given digit to obtain an average point for each digit\n",
    "    (0-9). It then computes the distances in these space between all average points.\n",
    "    \n",
    "    Arguments:\n",
    "        train_in (array): An array of 16x16 images, represented by pixel brightness\n",
    "        train_out (array): An array of labels indicating which digit (0-9) is represented\n",
    "                           by the same indexed data point in train_in\n",
    "    \n",
    "    Returns:\n",
    "        distances (array): A 10x10 array representing the distances in 256-dimensional\n",
    "                           space between all digits 0-9\n",
    "    \"\"\"\n",
    "    clouds = dict()\n",
    "\n",
    "    for x in range(10):\n",
    "        clouds[x] = train_in[np.where(train_out == x)[0],:]\n",
    "\n",
    "\n",
    "    means = dict()\n",
    "    for x in range(10):\n",
    "        means[x] =  np.mean(clouds[x], axis=0)\n",
    "\n",
    "\n",
    "    distances = []\n",
    "    for i in range(10):\n",
    "        for j in range(10):\n",
    "            distances.append(np.linalg.norm(means[i]-means[j]))\n",
    "    distances = np.array(distances)\n",
    "    distances = np.reshape(distances,(10,10))\n",
    "    \n",
    "    return distances"
   ]
  },
  {
   "cell_type": "code",
   "execution_count": null,
   "id": "0e6e601b",
   "metadata": {},
   "outputs": [],
   "source": []
  }
 ],
 "metadata": {
  "kernelspec": {
   "display_name": "Python 3 (ipykernel)",
   "language": "python",
   "name": "python3"
  },
  "language_info": {
   "codemirror_mode": {
    "name": "ipython",
    "version": 3
   },
   "file_extension": ".py",
   "mimetype": "text/x-python",
   "name": "python",
   "nbconvert_exporter": "python",
   "pygments_lexer": "ipython3",
   "version": "3.9.13"
  }
 },
 "nbformat": 4,
 "nbformat_minor": 5
}
