{
 "cells": [
  {
   "cell_type": "code",
   "execution_count": 75,
   "id": "daa6ba54",
   "metadata": {},
   "outputs": [],
   "source": [
    "import numpy as np\n",
    "import pandas as pd\n",
    "import itertools\n",
    "from sklearn.manifold import TSNE\n",
    "from sklearn.decomposition import PCA"
   ]
  },
  {
   "cell_type": "code",
   "execution_count": 76,
   "id": "2d6cf839",
   "metadata": {},
   "outputs": [],
   "source": [
    "train_in = np.array(pd.read_csv(\"train_in.csv\"))\n",
    "train_out = np.array(pd.read_csv(\"train_out.csv\"))\n",
    "test_in = np.array(pd.read_csv(\"test_in.csv\"))\n",
    "test_out = np.array(pd.read_csv(\"test_out.csv\"))"
   ]
  },
  {
   "cell_type": "code",
   "execution_count": 77,
   "id": "f2f12384",
   "metadata": {},
   "outputs": [],
   "source": [
    "def generate_point(pixel_data, label_set):\n",
    "    ##\n",
    "    cloud_sum = np.zeros(256)\n",
    "    for label in label_set:\n",
    "        cloud_sum += pixel_data[label]\n",
    "    cd = cloud_sum/len(label_set)\n",
    "    return cd\n",
    "\n",
    "def distance(point1, point2):\n",
    "    return np.linalg.norm(point1-point2)"
   ]
  },
  {
   "cell_type": "code",
   "execution_count": 78,
   "id": "15671139",
   "metadata": {},
   "outputs": [],
   "source": [
    "## Just point 0\n",
    "labels0 = []\n",
    "labels1 = []\n",
    "labels2 = []\n",
    "labels3 = []\n",
    "labels4 = []\n",
    "labels5 = []\n",
    "labels6 = []\n",
    "labels7 = []\n",
    "labels8 = []\n",
    "labels9 = []\n",
    "\n",
    "for i, label in enumerate(train_out):\n",
    "    for content in label:\n",
    "        if content == 0:\n",
    "            labels0.append(i)\n",
    "        elif content == 1:\n",
    "            labels1.append(i)\n",
    "        elif content == 2:\n",
    "            labels2.append(i)\n",
    "        elif content == 3:\n",
    "            labels3.append(i)\n",
    "        elif content == 4:\n",
    "            labels4.append(i)\n",
    "        elif content == 5:\n",
    "            labels5.append(i)\n",
    "        elif content == 6:\n",
    "            labels6.append(i)\n",
    "        elif content == 7:\n",
    "            labels7.append(i)\n",
    "        elif content == 8:\n",
    "            labels8.append(i)\n",
    "        elif content == 9:\n",
    "            labels9.append(i)\n",
    "            \n",
    "all_labels = [labels0, labels1, labels2, labels3, labels4, labels5, labels6, labels7, labels8, labels9]"
   ]
  },
  {
   "cell_type": "code",
   "execution_count": 80,
   "id": "86384cec",
   "metadata": {},
   "outputs": [],
   "source": [
    "average_points = []\n",
    "distances = []\n",
    "for labelset in all_labels:\n",
    "    point = generate_point(train_in, labelset)\n",
    "    average_points.append(point)"
   ]
  },
  {
   "cell_type": "code",
   "execution_count": 107,
   "id": "92ed1f76",
   "metadata": {},
   "outputs": [],
   "source": [
    "predictions = np.zeros(999)\n",
    "\n",
    "for j, test in enumerate(test_in):\n",
    "    digit_dists = np.zeros(10)\n",
    "    for i, point in enumerate(average_points):\n",
    "        dist = distance(test, point)\n",
    "        digit_dists[i] = dist\n",
    "    prediction = int(np.argmin(digit_dists))\n",
    "    predictions[j] = prediction"
   ]
  },
  {
   "cell_type": "code",
   "execution_count": 108,
   "id": "03989f98",
   "metadata": {},
   "outputs": [
    {
     "name": "stdout",
     "output_type": "stream",
     "text": [
      "999\n",
      "803\n"
     ]
    }
   ],
   "source": [
    "corr_p = 0\n",
    "test_out = np.squeeze(test_out)\n",
    "print(len(test_out))\n",
    "for i, predict in enumerate(predictions):\n",
    "    if predict == np.squeeze(test_out)[i]:\n",
    "        corr_p += 1\n",
    "        \n",
    "print(corr_p)"
   ]
  },
  {
   "cell_type": "code",
   "execution_count": 68,
   "id": "daba6085",
   "metadata": {},
   "outputs": [
    {
     "name": "stdout",
     "output_type": "stream",
     "text": [
      "[ 0.         14.44960797  9.33455587  9.14373367 10.76984444  7.51929626\n",
      "  8.16301949 11.86455505  9.90790174 11.48887494 14.44960797  0.\n",
      " 10.12532258 11.7332329  10.17378643 11.11880041 10.59793273 10.74315367\n",
      " 10.08677677  9.9320937   9.33455587 10.12532258  0.          8.17828489\n",
      "  7.93254148  7.90679632  7.31795234  8.87253107  7.07751618  8.88774785\n",
      "  9.14373367 11.7332329   8.17828489  0.          9.0876078   6.11875002\n",
      "  9.29242591  8.92240093  7.02042489  8.35435012 10.76984444 10.17378643\n",
      "  7.93254148  9.0876078   0.          8.00151741  8.76599667  7.58301228\n",
      "  7.38090899  6.01040793  7.51929626 11.11880041  7.90679632  6.11875002\n",
      "  8.00151741  0.          6.68862915  9.21195402  6.96738648  8.25853807\n",
      "  8.16301949 10.59793273  7.31795234  9.29242591  8.76599667  6.68862915\n",
      "  0.         10.8681573   8.57020763 10.41974352 11.86455505 10.74315367\n",
      "  8.87253107  8.92240093  7.58301228  9.21195402 10.8681573   0.\n",
      "  8.4677853   5.42647412  9.90790174 10.08677677  7.07751618  7.02042489\n",
      "  7.38090899  6.96738648  8.57020763  8.4677853   0.          6.40116587\n",
      " 11.48887494  9.9320937   8.88774785  8.35435012  6.01040793  8.25853807\n",
      " 10.41974352  5.42647412  6.40116587  0.        ]\n",
      "0\n"
     ]
    }
   ],
   "source": [
    "point_edges = itertools.product(average_points, repeat=2)\n",
    "\n",
    "for x,y in point_edges:\n",
    "    distance0 = distance(x,y)\n",
    "    distances.append(distance0)\n",
    "    \n",
    "distance_array = np.array(distances)\n",
    "distances = np.reshape(distance_array,(10,10))\n",
    "    \n",
    "print(distance_array)\n",
    "print(np.argmin(distance_array))"
   ]
  },
  {
   "cell_type": "code",
   "execution_count": 29,
   "id": "06bfaef3",
   "metadata": {},
   "outputs": [
    {
     "name": "stdout",
     "output_type": "stream",
     "text": [
      "-1.0\n"
     ]
    }
   ],
   "source": [
    "print(train_in[51][218])"
   ]
  }
 ],
 "metadata": {
  "kernelspec": {
   "display_name": "Python 3 (ipykernel)",
   "language": "python",
   "name": "python3"
  },
  "language_info": {
   "codemirror_mode": {
    "name": "ipython",
    "version": 3
   },
   "file_extension": ".py",
   "mimetype": "text/x-python",
   "name": "python",
   "nbconvert_exporter": "python",
   "pygments_lexer": "ipython3",
   "version": "3.9.13"
  }
 },
 "nbformat": 4,
 "nbformat_minor": 5
}
