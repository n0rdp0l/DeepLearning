{
 "cells": [
  {
   "cell_type": "code",
   "execution_count": 2,
   "id": "760035d9",
   "metadata": {},
   "outputs": [],
   "source": [
    "import numpy as np\n",
    "import pandas as pd"
   ]
  },
  {
   "cell_type": "code",
   "execution_count": 3,
   "id": "1e3b1712",
   "metadata": {},
   "outputs": [],
   "source": [
    "train_in = pd.read_csv(\"train_in.csv\")\n",
    "train_out = pd.read_csv(\"train_out.csv\")\n",
    "test_in = pd.read_csv(\"test_in.csv\")\n",
    "test_out = pd.read_csv(\"test_out.csv\")"
   ]
  },
  {
   "cell_type": "code",
   "execution_count": 4,
   "id": "7c9cc053",
   "metadata": {},
   "outputs": [],
   "source": [
    "train_in = np.array(train_in)\n",
    "train_out = np.array(train_out)\n",
    "test_in = np.array(test_in)\n",
    "test_out = np.array(test_out)"
   ]
  },
  {
   "cell_type": "code",
   "execution_count": 5,
   "id": "b1d1ed65",
   "metadata": {},
   "outputs": [],
   "source": [
    "train_out = np.squeeze(train_out, axis=1)\n",
    "test_out = np.squeeze(test_out, axis=1)"
   ]
  },
  {
   "cell_type": "code",
   "execution_count": 6,
   "id": "27598a97",
   "metadata": {},
   "outputs": [
    {
     "name": "stdout",
     "output_type": "stream",
     "text": [
      "[[0 0 0 ... 0 0 0]\n",
      " [1 1 1 ... 1 1 1]\n",
      " [2 2 2 ... 2 2 2]\n",
      " ...\n",
      " [7 7 7 ... 7 7 7]\n",
      " [8 8 8 ... 8 8 8]\n",
      " [9 9 9 ... 9 9 9]]\n"
     ]
    }
   ],
   "source": [
    "d_x = np.arange(0,1706,1)\n",
    "d_y = np.arange(0,10,1)\n",
    "digit_x, digit_y = np.meshgrid(d_x, d_y)\n",
    "print(digit_y)"
   ]
  },
  {
   "cell_type": "code",
   "execution_count": 120,
   "id": "8fa31a34",
   "metadata": {},
   "outputs": [],
   "source": [
    "class Perceptron:\n",
    "    \n",
    "    def __init__(self, digit=digit_y, weight=np.random.uniform(size=(256, 10)), bias=0, learning_rate=0.01, n_iters=100):\n",
    "        self.lr = learning_rate\n",
    "        self.n_iter = n_iters\n",
    "        self.activation = self._val_func\n",
    "        \n",
    "        self.weights = weight\n",
    "        self.bias = bias\n",
    "        self.digit = digit\n",
    "        \n",
    "    def fit(self, x, y):\n",
    "        \n",
    "        y_m = np.repeat([y], [10], axis=0)\n",
    "        y_ = np.ones(shape=y_m.shape)*(y_m==self.digit)\n",
    "        \n",
    "        for _ in range(self.n_iter):\n",
    "            for i, x_i in enumerate(x):\n",
    "                prediction = self.predict(x_i)\n",
    "                update = self.lr*(y_[:,i]-self._u_step(prediction))\n",
    "\n",
    "                self.weights += update * np.transpose(np.repeat(x_i[None,...], [10], axis=0))\n",
    "                self.bias += update\n",
    "                \n",
    "    def predict(self, x):\n",
    "        linear_output = np.dot(x, self.weights)+self.bias\n",
    "        y_predicted = self.activation(linear_output)\n",
    "        return linear_output\n",
    "    \n",
    "    \n",
    "    def _val_func(self, x):\n",
    "        return np.where(x>=0,x,0)\n",
    "    \n",
    "    def _u_step(self, x):\n",
    "        \n",
    "        return np.where(x>0,1,0)"
   ]
  },
  {
   "cell_type": "code",
   "execution_count": 121,
   "id": "8b2fe5e6",
   "metadata": {},
   "outputs": [
    {
     "name": "stdout",
     "output_type": "stream",
     "text": [
      "(999, 10)\n",
      "[[ 20.89733963 -15.62665968  -9.30455182 ... -18.94264536  -5.64585537\n",
      "  -16.01263427]\n",
      " [  9.04912003 -19.98410253  -8.6840069  ... -15.09188237  -6.0442054\n",
      "   -4.45662856]\n",
      " [ 17.03008089 -23.18220737  -9.45330149 ... -15.50024395  -8.03531285\n",
      "  -17.33609847]\n",
      " ...\n",
      " [-15.63027629 -28.58186279  -5.91872087 ... -16.1773893    3.68181244\n",
      "   -6.18388162]\n",
      " [-21.17668712 -15.70229186  -4.20557177 ...   2.12570213  -9.68894691\n",
      "   -1.18730629]\n",
      " [ 18.59430783 -22.29960062 -12.02423478 ... -14.96633388 -11.39230883\n",
      "  -14.78433899]]\n"
     ]
    }
   ],
   "source": [
    "p = Perceptron()\n",
    "p.fit(train_in, train_out)\n",
    "predictions = p.predict(test_in)\n",
    "print(np.shape(predictions))\n",
    "print(predictions)"
   ]
  },
  {
   "cell_type": "code",
   "execution_count": 122,
   "id": "9fd01645",
   "metadata": {},
   "outputs": [
    {
     "name": "stdout",
     "output_type": "stream",
     "text": [
      "[0 0 0 0 0 0 0 0 0 0 0 0 0 2 0 0 6 9 0 9 2 9 0 0 9 0 0 0 0 4 0 0 6 0 0 2 6\n",
      " 0 0 0 0 0 2 0 6 0 9 0 9 0 2 0 2 2 2 2 9 6 1 5 1 6 1 0 1 8 3 6 0 4 8 4 0 0\n",
      " 4 0 9 2 8 0 6 0 1 2 6 6 6 3 2 0 6 6 8 2 0 1 9 9 9 9 6 6 7 9 7 7 9 9 7 6 8\n",
      " 2 7 2 8 1 0 1 1 1 6 7 6 8 0 9 4 8 1 8 6 8 0 8 4 0 0 6 4 4 1 3 1 6 4 1 6 1\n",
      " 7 0 5 2 4 9 0 0 0 1 1 0 0 1 2 1 0 0 0 7 1 0 0 1 7 1 0 0 2 0 1 3 9 7 1 0 1\n",
      " 0 8 1 0 1 0 1 1 0 0 0 1 1 0 1 6 3 1 0 0 2 2 1 0 0 2 1 1 0 0 5 4 1 8 0 1 0\n",
      " 1 0 0 0 3 1 0 0 3 6 8 9 1 6 7 8 9 1 0 8 0 0 3 0 2 5 7 1 1 7 0 2 8 8 7 0 4\n",
      " 9 5 0 2 8 8 9 1 6 9 2 0 7 7 0 0 8 9 9 4 7 5 7 7 8 0 1 9 6 5 2 4 0 0 4 4 4\n",
      " 8 8 8 3 4 0 1 6 0 4 2 7 3 4 2 0 1 1 7 9 1 5 0 3 3 0 9 1 5 8 2 0 0 0 9 8 4\n",
      " 1 1 9 8 0 8 7 9 4 6 1 8 9 4 2 5 0 0 0 0 0 7 5 2 3 1 7 3 0 0 6 4 3 0 6 8 4\n",
      " 8 1 7 0 4 3 6 1 3 9 3 8 1 2 1 4 2 6 6 9 6 8 1 3 9 0 0 2 5 3 5 0 4 4 1 4 2\n",
      " 1 9 3 3 0 3 6 0 4 8 8 1 9 7 1 2 2 3 2 3 1 2 3 2 6 0 2 3 2 6 0 2 5 5 6 1 4\n",
      " 0 4 3 9 0 5 0 1 7 6 6 7 7 2 0 0 0 5 2 1 0 2 2 0 0 0 5 2 0 0 1 3 2 0 4 6 0\n",
      " 3 0 0 1 6 7 9 9 6 6 2 0 0 0 1 4 6 1 3 1 4 6 2 6 4 0 6 7 7 0 4 6 2 8 2 8 8\n",
      " 0 3 7 6 4 1 0 8 4 4 6 3 8 3 4 6 2 9 1 0 0 1 0 1 4 0 1 4 4 6 0 5 2 4 8 2 7\n",
      " 8 4 6 1 4 0 4 7 8 1 1 1 1 2 9 5 6 9 2 3 4 6 0 6 8 4 7 4 0 1 9 6 3 8 3 3 9\n",
      " 9 9 9 2 3 7 4 2 3 3 9 3 2 5 3 5 4 7 4 4 9 4 2 2 0 3 0 6 4 6 3 8 3 4 3 2 3\n",
      " 2 2 7 6 0 4 0 8 9 0 2 9 6 6 0 4 4 6 2 9 1 9 6 2 9 0 9 2 1 0 5 8 0 0 2 7 5\n",
      " 8 0 9 8 3 3 0 6 9 7 9 4 9 5 3 8 1 3 8 9 0 2 1 0 2 8 2 0 2 1 2 8 8 1 5 7 1\n",
      " 8 4 5 2 7 3 6 0 4 7 7 0 9 8 3 0 2 9 6 8 2 1 9 6 8 2 2 9 6 7 2 2 9 6 8 9 6\n",
      " 8 1 3 9 6 8 1 9 0 0 1 4 7 7 0 9 8 3 0 3 5 8 2 0 5 4 3 8 1 1 6 8 8 4 8 6 4\n",
      " 1 2 2 6 0 0 0 9 6 8 1 4 5 2 3 0 4 9 9 3 3 6 9 8 0 4 6 8 2 0 0 0 5 5 1 0 1\n",
      " 5 9 7 6 1 0 3 7 5 3 9 9 9 1 0 3 2 5 6 0 3 4 5 4 0 5 4 0 1 0 7 1 5 3 0 0 3\n",
      " 4 6 0 5 7 5 3 0 3 4 0 2 0 5 0 9 1 3 7 3 9 7 3 7 3 1 1 3 7 8 1 5 0 0 4 0 3\n",
      " 7 6 3 5 3 7 9 0 2 2 9 0 0 0 0 0 7 5 7 3 7 2 0 2 7 2 2 0 4 4 0 1 0 3 9 0 2\n",
      " 2 9 0 5 0 8 7 5 4 3 9 7 0 3 8 9 7 3 0 2 9 7 1 1 1 9 4 1 0 7 6 9 1 6 0 6 8\n",
      " 0 0 9 6 8 0 0 9 6 8 1 2 7 2 1 1 3 0 5 7 1 0 5 5 7 1 0 2 4 9 7 0 9 5 8 7 0]\n"
     ]
    }
   ],
   "source": [
    "predictions = np.argmax(np.squeeze(predictions), axis=1)\n",
    "print(predictions)"
   ]
  },
  {
   "cell_type": "code",
   "execution_count": 123,
   "id": "37ba2b0b",
   "metadata": {},
   "outputs": [
    {
     "name": "stdout",
     "output_type": "stream",
     "text": [
      "0.8618618618618619\n"
     ]
    }
   ],
   "source": [
    "diff = predictions-test_out\n",
    "success_rate = len(np.where(diff==0)[0])/len(test_out)\n",
    "print(success_rate)"
   ]
  },
  {
   "cell_type": "code",
   "execution_count": 42,
   "id": "79e75152",
   "metadata": {},
   "outputs": [
    {
     "name": "stdout",
     "output_type": "stream",
     "text": [
      "[1 3 5 6 7]\n",
      "[[1 3 5 6 7]]\n"
     ]
    }
   ],
   "source": [
    "abb = np.array([1, 3, 5, 6, 7])\n",
    "print(abb)\n",
    "print(abb[None,...])\n",
    "bbb = np.array([list(abb)])"
   ]
  },
  {
   "cell_type": "code",
   "execution_count": null,
   "id": "949b45b4",
   "metadata": {},
   "outputs": [],
   "source": []
  }
 ],
 "metadata": {
  "kernelspec": {
   "display_name": "Python 3 (ipykernel)",
   "language": "python",
   "name": "python3"
  },
  "language_info": {
   "codemirror_mode": {
    "name": "ipython",
    "version": 3
   },
   "file_extension": ".py",
   "mimetype": "text/x-python",
   "name": "python",
   "nbconvert_exporter": "python",
   "pygments_lexer": "ipython3",
   "version": "3.9.13"
  }
 },
 "nbformat": 4,
 "nbformat_minor": 5
}
