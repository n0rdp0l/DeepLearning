{
 "cells": [
  {
   "cell_type": "code",
   "execution_count": 1,
   "id": "760035d9",
   "metadata": {},
   "outputs": [],
   "source": [
    "import numpy as np\n",
    "import pandas as pd"
   ]
  },
  {
   "cell_type": "code",
   "execution_count": 2,
   "id": "1e3b1712",
   "metadata": {},
   "outputs": [],
   "source": [
    "train_in = pd.read_csv(\"train_in.csv\")\n",
    "train_out = pd.read_csv(\"train_out.csv\")\n",
    "test_in = pd.read_csv(\"test_in.csv\")\n",
    "test_out = pd.read_csv(\"test_out.csv\")"
   ]
  },
  {
   "cell_type": "code",
   "execution_count": 3,
   "id": "7c9cc053",
   "metadata": {},
   "outputs": [],
   "source": [
    "train_in = np.array(train_in)\n",
    "train_out = np.array(train_out)\n",
    "test_in = np.array(test_in)\n",
    "test_out = np.array(test_out)"
   ]
  },
  {
   "cell_type": "code",
   "execution_count": 4,
   "id": "b1d1ed65",
   "metadata": {},
   "outputs": [],
   "source": [
    "train_out = np.squeeze(train_out, axis=1)\n",
    "test_out = np.squeeze(test_out, axis=1)"
   ]
  },
  {
   "cell_type": "code",
   "execution_count": 5,
   "id": "27598a97",
   "metadata": {},
   "outputs": [],
   "source": [
    "d_x = np.arange(0,1706,1)\n",
    "d_y = np.arange(0,10,1)\n",
    "digit_x, digit_y = np.meshgrid(d_x, d_y)"
   ]
  },
  {
   "cell_type": "code",
   "execution_count": 14,
   "id": "8fa31a34",
   "metadata": {},
   "outputs": [],
   "source": [
    "class Perceptron:\n",
    "    \n",
    "    def __init__(self, digit=digit_y, weight=np.zeros(shape=(256, 10)), bias=0, learning_rate=0.01, n_iters=10):\n",
    "        self.lr = learning_rate\n",
    "        self.n_iter = n_iters\n",
    "        self.activation = self._val_func\n",
    "        \n",
    "        self.weights = weight\n",
    "        self.bias = bias\n",
    "        self.digit = digit\n",
    "        \n",
    "    def fit(self, x, y):\n",
    "        \n",
    "        y_m = np.repeat(np.array([list(y)]), [10], axis=0)\n",
    "        y_ = np.ones(shape=y_m.shape)*(y_m==self.digit)\n",
    "        \n",
    "        for _ in range(self.n_iter):\n",
    "            for i, x_i in enumerate(x):\n",
    "                prediction = self.predict(x_i)\n",
    "                update = self.lr*(y_[:,i]-self._u_step(prediction))\n",
    "\n",
    "                self.weights += update*np.repeat(x_i[...,None], 10, axis=1)\n",
    "                self.bias += update\n",
    "                \n",
    "    def predict(self, x):\n",
    "        linear_output = np.dot(x, self.weights)+self.bias\n",
    "        y_predicted = self.activation(linear_output)\n",
    "        return y_predicted\n",
    "    \n",
    "    def _val_func(self, x):\n",
    "        return np.where(x>=0,x,0)\n",
    "    \n",
    "    def _u_step(self, x):\n",
    "        \n",
    "        return np.where(x>0,1,0)"
   ]
  },
  {
   "cell_type": "code",
   "execution_count": 21,
   "id": "8b2fe5e6",
   "metadata": {},
   "outputs": [
    {
     "name": "stdout",
     "output_type": "stream",
     "text": [
      "[[5.27524443 0.         0.         ... 0.         0.         0.        ]\n",
      " [2.48907031 0.         0.         ... 0.         0.         0.        ]\n",
      " [3.76822477 0.         0.         ... 0.         0.         0.        ]\n",
      " ...\n",
      " [0.         0.         0.         ... 0.         0.88141903 0.        ]\n",
      " [0.         0.         0.         ... 1.04644321 0.         0.        ]\n",
      " [4.48707211 0.         0.         ... 0.         0.         0.        ]]\n"
     ]
    }
   ],
   "source": [
    "p = Perceptron()\n",
    "p.fit(train_in, train_out)\n",
    "predictions = p.predict(test_in)\n",
    "print(predictions)"
   ]
  },
  {
   "cell_type": "code",
   "execution_count": 20,
   "id": "9fd01645",
   "metadata": {},
   "outputs": [
    {
     "ename": "AxisError",
     "evalue": "axis 1 is out of bounds for array of dimension 1",
     "output_type": "error",
     "traceback": [
      "\u001b[1;31m---------------------------------------------------------------------------\u001b[0m",
      "\u001b[1;31mAxisError\u001b[0m                                 Traceback (most recent call last)",
      "Input \u001b[1;32mIn [20]\u001b[0m, in \u001b[0;36m<cell line: 1>\u001b[1;34m()\u001b[0m\n\u001b[1;32m----> 1\u001b[0m predictions \u001b[38;5;241m=\u001b[39m \u001b[43mnp\u001b[49m\u001b[38;5;241;43m.\u001b[39;49m\u001b[43margmax\u001b[49m\u001b[43m(\u001b[49m\u001b[43mpredictions\u001b[49m\u001b[43m,\u001b[49m\u001b[43m \u001b[49m\u001b[43maxis\u001b[49m\u001b[38;5;241;43m=\u001b[39;49m\u001b[38;5;241;43m1\u001b[39;49m\u001b[43m)\u001b[49m\n\u001b[0;32m      2\u001b[0m \u001b[38;5;28mprint\u001b[39m(predictions)\n",
      "File \u001b[1;32m<__array_function__ internals>:5\u001b[0m, in \u001b[0;36margmax\u001b[1;34m(*args, **kwargs)\u001b[0m\n",
      "File \u001b[1;32m~\\anaconda3\\lib\\site-packages\\numpy\\core\\fromnumeric.py:1195\u001b[0m, in \u001b[0;36margmax\u001b[1;34m(a, axis, out)\u001b[0m\n\u001b[0;32m   1121\u001b[0m \u001b[38;5;129m@array_function_dispatch\u001b[39m(_argmax_dispatcher)\n\u001b[0;32m   1122\u001b[0m \u001b[38;5;28;01mdef\u001b[39;00m \u001b[38;5;21margmax\u001b[39m(a, axis\u001b[38;5;241m=\u001b[39m\u001b[38;5;28;01mNone\u001b[39;00m, out\u001b[38;5;241m=\u001b[39m\u001b[38;5;28;01mNone\u001b[39;00m):\n\u001b[0;32m   1123\u001b[0m     \u001b[38;5;124;03m\"\"\"\u001b[39;00m\n\u001b[0;32m   1124\u001b[0m \u001b[38;5;124;03m    Returns the indices of the maximum values along an axis.\u001b[39;00m\n\u001b[0;32m   1125\u001b[0m \n\u001b[1;32m   (...)\u001b[0m\n\u001b[0;32m   1193\u001b[0m \n\u001b[0;32m   1194\u001b[0m \u001b[38;5;124;03m    \"\"\"\u001b[39;00m\n\u001b[1;32m-> 1195\u001b[0m     \u001b[38;5;28;01mreturn\u001b[39;00m \u001b[43m_wrapfunc\u001b[49m\u001b[43m(\u001b[49m\u001b[43ma\u001b[49m\u001b[43m,\u001b[49m\u001b[43m \u001b[49m\u001b[38;5;124;43m'\u001b[39;49m\u001b[38;5;124;43margmax\u001b[39;49m\u001b[38;5;124;43m'\u001b[39;49m\u001b[43m,\u001b[49m\u001b[43m \u001b[49m\u001b[43maxis\u001b[49m\u001b[38;5;241;43m=\u001b[39;49m\u001b[43maxis\u001b[49m\u001b[43m,\u001b[49m\u001b[43m \u001b[49m\u001b[43mout\u001b[49m\u001b[38;5;241;43m=\u001b[39;49m\u001b[43mout\u001b[49m\u001b[43m)\u001b[49m\n",
      "File \u001b[1;32m~\\anaconda3\\lib\\site-packages\\numpy\\core\\fromnumeric.py:57\u001b[0m, in \u001b[0;36m_wrapfunc\u001b[1;34m(obj, method, *args, **kwds)\u001b[0m\n\u001b[0;32m     54\u001b[0m     \u001b[38;5;28;01mreturn\u001b[39;00m _wrapit(obj, method, \u001b[38;5;241m*\u001b[39margs, \u001b[38;5;241m*\u001b[39m\u001b[38;5;241m*\u001b[39mkwds)\n\u001b[0;32m     56\u001b[0m \u001b[38;5;28;01mtry\u001b[39;00m:\n\u001b[1;32m---> 57\u001b[0m     \u001b[38;5;28;01mreturn\u001b[39;00m bound(\u001b[38;5;241m*\u001b[39margs, \u001b[38;5;241m*\u001b[39m\u001b[38;5;241m*\u001b[39mkwds)\n\u001b[0;32m     58\u001b[0m \u001b[38;5;28;01mexcept\u001b[39;00m \u001b[38;5;167;01mTypeError\u001b[39;00m:\n\u001b[0;32m     59\u001b[0m     \u001b[38;5;66;03m# A TypeError occurs if the object does have such a method in its\u001b[39;00m\n\u001b[0;32m     60\u001b[0m     \u001b[38;5;66;03m# class, but its signature is not identical to that of NumPy's. This\u001b[39;00m\n\u001b[1;32m   (...)\u001b[0m\n\u001b[0;32m     64\u001b[0m     \u001b[38;5;66;03m# Call _wrapit from within the except clause to ensure a potential\u001b[39;00m\n\u001b[0;32m     65\u001b[0m     \u001b[38;5;66;03m# exception has a traceback chain.\u001b[39;00m\n\u001b[0;32m     66\u001b[0m     \u001b[38;5;28;01mreturn\u001b[39;00m _wrapit(obj, method, \u001b[38;5;241m*\u001b[39margs, \u001b[38;5;241m*\u001b[39m\u001b[38;5;241m*\u001b[39mkwds)\n",
      "\u001b[1;31mAxisError\u001b[0m: axis 1 is out of bounds for array of dimension 1"
     ]
    }
   ],
   "source": [
    "predictions = np.argmax(predictions, axis=1)\n",
    "print(predictions)"
   ]
  },
  {
   "cell_type": "code",
   "execution_count": 13,
   "id": "37ba2b0b",
   "metadata": {},
   "outputs": [
    {
     "name": "stdout",
     "output_type": "stream",
     "text": [
      "[ 0  0  0  0  0  0  0  0  0  0  0  0  0  0  0  0  4  0  0  0  0  0  0  0\n",
      "  0  0  0  0  0 -6  0  0  0  0  0  0 -6  0  0  0  0  0 -2  0  0  0  0  0\n",
      "  0  0  0  0  0  0  5  0 -2  0  0  0  0 -1  0  0  0 -7 -8  0  0  0  0  0\n",
      "  0 -8  0  0 -9 -2  0 -4  0  0  0  0  0  0  0  1 -2  0  0  0  0  0  0  0\n",
      "  0  0  0  0  0  0  0 -9 -9  0  0  0  0  0  0  0  0  0  0  0  0  0  0  0\n",
      "  0  0  0  0  0 -2  0  1  0  0  0  0  0  0 -2  0  0  0 -3  0  0  0  0  0\n",
      "  0  0  0  0 -8  0  0  0  0 -1  0  0  0  0  0  0  0  0 -6  0  0  0  0  0\n",
      "  0  0  0  0  0  0  0  0  0  0  0  0  0  5  0  0  0  0  0  0  0  0  0  0\n",
      "  0  0  0  0  0  0  0  0  0  0  0  0  0  0  0  0  0  0  0  0  0  0  0  2\n",
      "  0  0  8  0  0  0  0  0  0  0  0  0  0  0  0  0  0  0  0  5  0  0  0  0\n",
      "  0  0 -8  0  6  0  0 -5  0  0  0  0  0  0  0  0  0  0  0  0  0  0  0  0\n",
      "  0  0 -8  0 -7  0  0 -2  0 -2  0  0  0  0  4  0  0 -2  0  1  0  0  0  0\n",
      "  0  0  0  0  0  4  4  0  6  6  6  0  0  0  0  0  0  0  0  0  1 -4 -2  0\n",
      "  0  0  0  1  0  0  0  0 -5  0  0  0 -1 -8  2 -2  0 -6  0  0  0  0  0 -2\n",
      "  0  0  0  0  0  0  0  0  0  0  0  0  1  0  0  0  0  0  0  0  0  0  0  0\n",
      " -2  0  0  0  0  2  0  0  0  0  0  0  0  0  0  0  0  0 -3  3  0  0  0  0\n",
      "  0  0  0  0  0  0  0  0  0  0  0  0  0  0 -5  0  0  0  0  4  0  0  0  0\n",
      "  0  0  0  0 -5  0  0  0  0  0  0  0  0  0 -2  0  0  0  0  0  0  0  0  0\n",
      "  0  0  0  0  0  0  0  0 -1  0  0  0  0  2 -3  0  0  0  0  0 -2  0  0  4\n",
      "  0  0  0  0  0  0  0  0  0  0  0  0  0  0  0  0  0  0  0  0  0  0  0  0\n",
      "  0  1  0  0  0  0  0  0  0  0  0  0  0  0  0  0  0 -2  0  0  0  0  0  0\n",
      "  0 -8  3  0 -9  0  0  0  0  0  0 -3  0  0  0  0  3  0  0  0  0  0  3  0\n",
      "  0  0  0  0  0  0  0  0  0  0  0  0  0  0  0  0  0  0  0  0  0  0  0  0\n",
      " -6  0  0  0  0 -1  0  0  0  0  0 -8  0  0  0  0  0  0  1  0  0  0  0  0\n",
      "  0 -3  0 -8  0  0  0  0  0  5  0  0  0  0  0  6  4  2  4  0  0 -5  0  0\n",
      "  0  0  0  0 -2 -3 -3  0  0 -1  0  0  0  0 -2  0  0 -4  0  0  0  0  0  0\n",
      " -3  0  0  0  0  0  0  0  0  0  0  0  0  0  0  0  0  0  0  0  0  0  0  0\n",
      "  0  0  0  0  0  6  0  0  0  0  0  0 -1  0  0  0  0 -4  0  0  0  0  0  0\n",
      "  0  0  0  0  0  0  0 -5  0  0  0  0  0  0  0  0  0  0  0  0 -4  0 -1  0\n",
      "  0 -8 -8  0 -8  0  0  0  0  0  0  0  0  0 -4  0  0  5  0  0  0 -2  0  2\n",
      "  0  0  0  0  0  0  0  6  0 -4  0  0  0  0  0  0  0  0  0  0  0  0  0  0\n",
      "  0  0  0  0  0  0 -4 -5  0  0  0  0  0  0  0  0  0  0  0  0  0 -8  0  0\n",
      "  0 -3  0  0  0  0  0  0 -8  0 -2  0  0 -8  0  0  0  0  0  0  0  1  0  0\n",
      " -5  4  0  0  0  0  0  0  0  0  0  0 -8  2 -2  0 -6  0  0  0  0  6 -8  0\n",
      " -1  0  0  0  0  0  0  0  0  0  0 -8  0  0  0  0 -5  0  0  0  0 -3  0  0\n",
      "  0  0  0  0 -5 -3  0  0  0 -2  0  0  0  0 -5 -1  0  0  0  0  0  0  0  0\n",
      "  0  0 -2  0  0  0  0  0  0  0  0  0  0  0  0  0  0  0 -1  0  0  0  0  0\n",
      "  0  5  0 -3  2  0 -1  0  0 -2  0  0  0  0  0 -3  0 -8  0  0  0  0  0 -2\n",
      "  0  0  0  0  0 -7  0  0 -4  0  0  0  2  0 -5  0 -8  0  0  0  0  5  0  0\n",
      "  0  0  0  0  0  0  0  0  0  0  3  0  0  0  0  0  0  0  0  0  0  0  0  0\n",
      "  0  0  0  0  0  0  0  0  0  0  0  0  0  0  0 -5  0  0  0  0  0  0  0  0\n",
      "  0  0  0  0  0  0 -5  0  0  0  0  0  0  0  0]\n",
      "0.8458458458458459\n"
     ]
    }
   ],
   "source": [
    "diff = predictions-test_out\n",
    "success_rate = len(np.where(diff==0)[0])/len(test_out)\n",
    "print(success_rate)"
   ]
  },
  {
   "cell_type": "code",
   "execution_count": null,
   "id": "79e75152",
   "metadata": {},
   "outputs": [],
   "source": []
  }
 ],
 "metadata": {
  "kernelspec": {
   "display_name": "Python 3 (ipykernel)",
   "language": "python",
   "name": "python3"
  },
  "language_info": {
   "codemirror_mode": {
    "name": "ipython",
    "version": 3
   },
   "file_extension": ".py",
   "mimetype": "text/x-python",
   "name": "python",
   "nbconvert_exporter": "python",
   "pygments_lexer": "ipython3",
   "version": "3.9.13"
  }
 },
 "nbformat": 4,
 "nbformat_minor": 5
}
