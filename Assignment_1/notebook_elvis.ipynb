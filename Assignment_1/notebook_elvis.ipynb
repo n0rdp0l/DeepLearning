{
 "cells": [
  {
   "cell_type": "code",
   "execution_count": 43,
   "id": "daa6ba54",
   "metadata": {},
   "outputs": [],
   "source": [
    "import numpy as np\n",
    "import pandas as pd\n",
    "import itertools"
   ]
  },
  {
   "cell_type": "code",
   "execution_count": 44,
   "id": "2d6cf839",
   "metadata": {},
   "outputs": [],
   "source": [
    "train_in = np.array(pd.read_csv(\"train_in.csv\"))\n",
    "train_out = np.array(pd.read_csv(\"train_out.csv\"))"
   ]
  },
  {
   "cell_type": "code",
   "execution_count": 49,
   "id": "ff51aaad",
   "metadata": {},
   "outputs": [],
   "source": [
    "def generate_point(pixel_data, label_set):\n",
    "    ##\n",
    "    cloud_sum = np.zeros(256)\n",
    "    for label in label_set:\n",
    "        cloud_sum += pixel_data[label]\n",
    "    cd = cloud_sum/len(label_set)\n",
    "    return cd\n",
    "\n",
    "def distance(point1, point2):\n",
    "    return np.linalg.norm(point1-point2)"
   ]
  },
  {
   "cell_type": "code",
   "execution_count": 50,
   "id": "3ceab3ed",
   "metadata": {},
   "outputs": [],
   "source": [
    "## Just point 0\n",
    "labels0 = []\n",
    "labels1 = []\n",
    "labels2 = []\n",
    "labels3 = []\n",
    "labels4 = []\n",
    "labels5 = []\n",
    "labels6 = []\n",
    "labels7 = []\n",
    "labels8 = []\n",
    "labels9 = []\n",
    "\n",
    "for i, label in enumerate(train_out):\n",
    "    for content in label:\n",
    "        if content == 0:\n",
    "            labels0.append(i)\n",
    "        elif content == 1:\n",
    "            labels1.append(i)\n",
    "        elif content == 2:\n",
    "            labels2.append(i)\n",
    "        elif content == 3:\n",
    "            labels3.append(i)\n",
    "        elif content == 4:\n",
    "            labels4.append(i)\n",
    "        elif content == 5:\n",
    "            labels5.append(i)\n",
    "        elif content == 6:\n",
    "            labels6.append(i)\n",
    "        elif content == 7:\n",
    "            labels7.append(i)\n",
    "        elif content == 8:\n",
    "            labels8.append(i)\n",
    "        elif content == 9:\n",
    "            labels9.append(i)\n",
    "            \n",
    "all_labels = [labels0, labels1, labels2, labels3, labels4, labels5, labels6, labels7, labels8, labels9]"
   ]
  },
  {
   "cell_type": "code",
   "execution_count": 54,
   "id": "34b451a7",
   "metadata": {},
   "outputs": [
    {
     "name": "stdout",
     "output_type": "stream",
     "text": [
      "[14.44960796590658, 9.334555870229641, 9.143733671882783, 10.769844437633486, 7.5192962595971835, 8.16301949032239, 11.864555054634076, 9.90790173732039, 11.488874937417041, 10.12532257709667, 11.733232901831071, 10.173786431281785, 11.118800407467436, 10.59793273083376, 10.743153673524732, 10.086776773038181, 9.932093699343712, 8.17828488564782, 7.932541482770051, 7.906796320949824, 7.3179523391739, 8.87253106930718, 7.077516177863561, 8.887747852000189, 9.087607799539475, 6.118750020921418, 9.29242590811942, 8.922400934698304, 7.020424894700361, 8.354350120111869, 8.001517414291124, 8.765996673586288, 7.583012282564444, 7.380908991053923, 6.0104079308959975, 6.68862915054493, 9.211954024577228, 6.967386475240774, 8.258538068421224, 10.868157300450722, 8.570207629092348, 10.41974351710015, 8.467785300988439, 5.426474119055888, 6.40116586858544]\n"
     ]
    }
   ],
   "source": [
    "average_points = []\n",
    "distances = []\n",
    "for labelset in all_labels:\n",
    "    point = generate_point(train_in, labelset)\n",
    "    average_points.append(point)\n",
    "\n",
    "point_edges = itertools.combinations(average_points, 2)\n",
    "\n",
    "for x,y in point_edges:\n",
    "    distance0 = distance(x,y)\n",
    "    distances.append(distance0)\n",
    "    \n",
    "print(distances)"
   ]
  },
  {
   "cell_type": "code",
   "execution_count": 29,
   "id": "a9ad1499",
   "metadata": {},
   "outputs": [
    {
     "name": "stdout",
     "output_type": "stream",
     "text": [
      "-1.0\n"
     ]
    }
   ],
   "source": [
    "print(train_in[51][218])"
   ]
  }
 ],
 "metadata": {
  "kernelspec": {
   "display_name": "Python 3 (ipykernel)",
   "language": "python",
   "name": "python3"
  },
  "language_info": {
   "codemirror_mode": {
    "name": "ipython",
    "version": 3
   },
   "file_extension": ".py",
   "mimetype": "text/x-python",
   "name": "python",
   "nbconvert_exporter": "python",
   "pygments_lexer": "ipython3",
   "version": "3.9.13"
  }
 },
 "nbformat": 4,
 "nbformat_minor": 5
}
