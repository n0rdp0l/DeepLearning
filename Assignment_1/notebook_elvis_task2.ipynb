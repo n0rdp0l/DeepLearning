{
 "cells": [
  {
   "cell_type": "code",
   "execution_count": null,
   "id": "b4e9d5aa",
   "metadata": {},
   "outputs": [],
   "source": [
    "import numpy as np\n",
    "import pandas as pd"
   ]
  },
  {
   "cell_type": "code",
   "execution_count": null,
   "id": "59b059d7",
   "metadata": {},
   "outputs": [],
   "source": [
    "train_in = np.array(pd.read_csv(\"train_in.csv\"))\n",
    "train_out = np.array(pd.read_csv(\"train_out.csv\"))\n",
    "test_in = np.array(pd.read_csv(\"test_in.csv\"))\n",
    "test_out = np.array(pd.read_csv(\"test_out.csv\"))"
   ]
  },
  {
   "cell_type": "code",
   "execution_count": null,
   "id": "9112993c",
   "metadata": {},
   "outputs": [],
   "source": [
    "class Perceptron:\n",
    "    \"\"\"A binary perceptron is used to make a prediction for a single digit,\n",
    "    predicting whether an input is either that digit or any other digit.\n",
    "    \"\"\"\n",
    "    \n",
    "    def __init__(self, digit, weights, bias=0, learning_rate=0.001, n_repeats=10):\n",
    "        \"\"\"Initialisation function\n",
    "        \"\"\"\n",
    "        self.digit = digit\n",
    "        self.weights = weights\n",
    "        self.bias = bias\n",
    "        \n",
    "        self.lr = learning_rate\n",
    "        self.n_repeats = n_repeats\n",
    "        self.activation_func = self._u_step\n",
    "        \n",
    "    \n",
    "    def fit(self, X, y):\n",
    "        \"\"\"Updates \n",
    "        \"\"\"\n",
    "        ## \"All or none\" encoding; changed y into a binary variable that is zero\n",
    "        ## for all digits except the one this perceptron looks for\n",
    "        y_ = np.array([self.digit if i==self.digit else 0 for i in y])\n",
    "        \n",
    "        for _ in range(self.n_repeats):\n",
    "            for i, x_i in enumerate(X):\n",
    "                prediction = self.predict(x_i)\n",
    "                update = self.lr * (y_[i]-prediction)\n",
    "               \n",
    "                self.weights += update * x_i\n",
    "                self.bias += update\n",
    "        \n",
    "    \n",
    "    def predict(self, X):\n",
    "        \"\"\"Gives a prediction for a given value of X\n",
    "        \"\"\"\n",
    "        prediction_pre = np.dot(X, self.weights) + self.bias\n",
    "        prediction = self.activation_func(prediction_pre)\n",
    "        return prediction\n",
    "    \n",
    "        \n",
    "    def _u_step(self, x):\n",
    "        \"\"\"Activation function that returns a binary classifier\n",
    "        ## TODO: Change this into a continuous activation function (elu, relu etc)\n",
    "        \"\"\"\n",
    "        \n",
    "        return np.where(x>=0,self.digit,0)\n",
    "    "
   ]
  },
  {
   "cell_type": "code",
   "execution_count": null,
   "id": "ca0b1c54",
   "metadata": {},
   "outputs": [],
   "source": [
    "class Perceptrate:\n",
    "    ## TODO\n",
    "    \"\"\"The perceptrate will be a network of 10 \"all or none\" perceptrons, giving a continuous \n",
    "    variable representing their \"being sure-ness\" of having their respective digits.\n",
    "    We can then predict the digit by taking the \"most sure\" perceptrons value as the right one.\n",
    "    \"\"\"\n",
    "    def __init__(self):\n",
    "        self.digit_list = range(10)\n",
    "        self.perceptron_list = []\n",
    "        \n",
    "        for digit in self.digit_list:\n",
    "            self.perceptron_list.append(Perceptron(digit, np.zeros(256)))\n",
    "        \n",
    "    "
   ]
  },
  {
   "cell_type": "code",
   "execution_count": null,
   "id": "4192bf8c",
   "metadata": {},
   "outputs": [],
   "source": [
    "def test_perceptron(digit):\n",
    "    \"\"\"Tests the accuracy of a given perceptron\n",
    "    \"\"\"\n",
    "    newpercept = Perceptron(digit, np.zeros(256))\n",
    "    newpercept.fit(train_in, train_out)\n",
    "    predictions = newpercept.predict(test_in)\n",
    "    \n",
    "    y_ = np.array([digit if i==digit else 0 for i in test_out])\n",
    "    \n",
    "    correct_arr = (y_ == predictions)\n",
    "    return correct_arr\n",
    "    \n",
    "yp = test_perceptron(9)\n",
    "print(sum(yp))"
   ]
  },
  {
   "cell_type": "code",
   "execution_count": null,
   "id": "1a6c3f54",
   "metadata": {},
   "outputs": [],
   "source": [
    "np.dot([[0.15]], [[1, 5, 1, 51, 10, 0, 1]])"
   ]
  }
 ],
 "metadata": {
  "kernelspec": {
   "display_name": "Python 3 (ipykernel)",
   "language": "python",
   "name": "python3"
  },
  "language_info": {
   "codemirror_mode": {
    "name": "ipython",
    "version": 3
   },
   "file_extension": ".py",
   "mimetype": "text/x-python",
   "name": "python",
   "nbconvert_exporter": "python",
   "pygments_lexer": "ipython3",
   "version": "3.9.13"
  }
 },
 "nbformat": 4,
 "nbformat_minor": 5
}
