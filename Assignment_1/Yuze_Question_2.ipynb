{
 "cells": [
  {
   "cell_type": "code",
   "execution_count": 1,
   "id": "760035d9",
   "metadata": {},
   "outputs": [],
   "source": [
    "import numpy as np\n",
    "import pandas as pd"
   ]
  },
  {
   "cell_type": "code",
   "execution_count": 2,
   "id": "1e3b1712",
   "metadata": {},
   "outputs": [],
   "source": [
    "train_in = pd.read_csv(\"train_in.csv\")\n",
    "train_out = pd.read_csv(\"train_out.csv\")\n",
    "test_in = pd.read_csv(\"test_in.csv\")\n",
    "test_out = pd.read_csv(\"test_out.csv\")"
   ]
  },
  {
   "cell_type": "code",
   "execution_count": 3,
   "id": "7c9cc053",
   "metadata": {},
   "outputs": [],
   "source": [
    "train_in = np.array(train_in)\n",
    "train_out = np.array(train_out)\n",
    "test_in = np.array(test_in)\n",
    "test_out = np.array(test_out)"
   ]
  },
  {
   "cell_type": "code",
   "execution_count": 4,
   "id": "b1d1ed65",
   "metadata": {},
   "outputs": [],
   "source": [
    "train_out = np.squeeze(train_out, axis=1)\n",
    "test_out = np.squeeze(test_out, axis=1)"
   ]
  },
  {
   "cell_type": "code",
   "execution_count": 5,
   "id": "27598a97",
   "metadata": {},
   "outputs": [],
   "source": [
    "d_x = np.arange(0,1706,1)\n",
    "d_y = np.arange(0,10,1)\n",
    "digit_x, digit_y = np.meshgrid(d_x, d_y)"
   ]
  },
  {
   "cell_type": "code",
   "execution_count": 209,
   "id": "8fa31a34",
   "metadata": {},
   "outputs": [],
   "source": [
    "class Perceptron:\n",
    "    \n",
    "    def __init__(self, digit=digit_y, weight=np.ones(shape=(256, 10)), bias=0, learning_rate=0.01, n_iters=10):\n",
    "        self.lr = learning_rate\n",
    "        self.n_iter = n_iters\n",
    "        self.activation = self._val_func\n",
    "        \n",
    "        self.weights = weight\n",
    "        self.bias = bias\n",
    "        self.digit = digit\n",
    "        \n",
    "    def fit(self, x, y):\n",
    "        \n",
    "        y_m = np.repeat([y], [10], axis=0)\n",
    "        y_ = np.ones(shape=y_m.shape)*(y_m==self.digit)\n",
    "        \n",
    "        for _ in range(self.n_iter):\n",
    "            for i, x_i in enumerate(x):\n",
    "                prediction = self.predict(x_i)\n",
    "                update = self.lr*(y_[:,i]-self._u_step(prediction))\n",
    "                print(update)\n",
    "                print(np.repeat([x_i[None,...]], 10, axis=1))\n",
    "\n",
    "                self.weights += update * np.repeat([x_i[None,...]], 10, axis=1)\n",
    "                self.bias += update\n",
    "                \n",
    "    def predict(self, x):\n",
    "        linear_output = np.dot(x, self.weights)+self.bias\n",
    "        y_predicted = self.activation(linear_output)\n",
    "        return y_predicted\n",
    "    \n",
    "    \n",
    "    def _val_func(self, x):\n",
    "        return np.where(x>=0,x,0)\n",
    "    \n",
    "    def _u_step(self, x):\n",
    "        \n",
    "        return np.where(x>0,1,0)"
   ]
  },
  {
   "cell_type": "code",
   "execution_count": 210,
   "id": "8b2fe5e6",
   "metadata": {},
   "outputs": [
    {
     "name": "stdout",
     "output_type": "stream",
     "text": [
      "[0.   0.   0.   0.   0.   0.01 0.   0.   0.   0.  ]\n",
      "[[[-1.    -1.    -1.    ... -0.671 -0.828 -1.   ]\n",
      "  [-1.    -1.    -1.    ... -0.671 -0.828 -1.   ]\n",
      "  [-1.    -1.    -1.    ... -0.671 -0.828 -1.   ]\n",
      "  ...\n",
      "  [-1.    -1.    -1.    ... -0.671 -0.828 -1.   ]\n",
      "  [-1.    -1.    -1.    ... -0.671 -0.828 -1.   ]\n",
      "  [-1.    -1.    -1.    ... -0.671 -0.828 -1.   ]]]\n"
     ]
    },
    {
     "ename": "ValueError",
     "evalue": "operands could not be broadcast together with shapes (10,) (1,10,256) ",
     "output_type": "error",
     "traceback": [
      "\u001b[1;31m---------------------------------------------------------------------------\u001b[0m",
      "\u001b[1;31mValueError\u001b[0m                                Traceback (most recent call last)",
      "Input \u001b[1;32mIn [210]\u001b[0m, in \u001b[0;36m<cell line: 2>\u001b[1;34m()\u001b[0m\n\u001b[0;32m      1\u001b[0m p \u001b[38;5;241m=\u001b[39m Perceptron()\n\u001b[1;32m----> 2\u001b[0m \u001b[43mp\u001b[49m\u001b[38;5;241;43m.\u001b[39;49m\u001b[43mfit\u001b[49m\u001b[43m(\u001b[49m\u001b[43mtrain_in\u001b[49m\u001b[43m,\u001b[49m\u001b[43m \u001b[49m\u001b[43mtrain_out\u001b[49m\u001b[43m)\u001b[49m\n\u001b[0;32m      3\u001b[0m predictions \u001b[38;5;241m=\u001b[39m p\u001b[38;5;241m.\u001b[39mpredict(test_in)\n",
      "Input \u001b[1;32mIn [209]\u001b[0m, in \u001b[0;36mPerceptron.fit\u001b[1;34m(self, x, y)\u001b[0m\n\u001b[0;32m     21\u001b[0m \u001b[38;5;28mprint\u001b[39m(update)\n\u001b[0;32m     22\u001b[0m \u001b[38;5;28mprint\u001b[39m(np\u001b[38;5;241m.\u001b[39mrepeat([x_i[\u001b[38;5;28;01mNone\u001b[39;00m,\u001b[38;5;241m.\u001b[39m\u001b[38;5;241m.\u001b[39m\u001b[38;5;241m.\u001b[39m]], \u001b[38;5;241m10\u001b[39m, axis\u001b[38;5;241m=\u001b[39m\u001b[38;5;241m1\u001b[39m))\n\u001b[1;32m---> 24\u001b[0m \u001b[38;5;28mself\u001b[39m\u001b[38;5;241m.\u001b[39mweights \u001b[38;5;241m+\u001b[39m\u001b[38;5;241m=\u001b[39m \u001b[43mupdate\u001b[49m\u001b[43m \u001b[49m\u001b[38;5;241;43m*\u001b[39;49m\u001b[43m \u001b[49m\u001b[43mnp\u001b[49m\u001b[38;5;241;43m.\u001b[39;49m\u001b[43mrepeat\u001b[49m\u001b[43m(\u001b[49m\u001b[43m[\u001b[49m\u001b[43mx_i\u001b[49m\u001b[43m[\u001b[49m\u001b[38;5;28;43;01mNone\u001b[39;49;00m\u001b[43m,\u001b[49m\u001b[38;5;241;43m.\u001b[39;49m\u001b[38;5;241;43m.\u001b[39;49m\u001b[38;5;241;43m.\u001b[39;49m\u001b[43m]\u001b[49m\u001b[43m]\u001b[49m\u001b[43m,\u001b[49m\u001b[43m \u001b[49m\u001b[38;5;241;43m10\u001b[39;49m\u001b[43m,\u001b[49m\u001b[43m \u001b[49m\u001b[43maxis\u001b[49m\u001b[38;5;241;43m=\u001b[39;49m\u001b[38;5;241;43m1\u001b[39;49m\u001b[43m)\u001b[49m\n\u001b[0;32m     25\u001b[0m \u001b[38;5;28mself\u001b[39m\u001b[38;5;241m.\u001b[39mbias \u001b[38;5;241m+\u001b[39m\u001b[38;5;241m=\u001b[39m update\n",
      "\u001b[1;31mValueError\u001b[0m: operands could not be broadcast together with shapes (10,) (1,10,256) "
     ]
    }
   ],
   "source": [
    "p = Perceptron()\n",
    "p.fit(train_in, train_out)\n",
    "predictions = p.predict(test_in)"
   ]
  },
  {
   "cell_type": "code",
   "execution_count": 186,
   "id": "9fd01645",
   "metadata": {},
   "outputs": [],
   "source": [
    "predictions = np.argmax(predictions, axis=1)"
   ]
  },
  {
   "cell_type": "code",
   "execution_count": 187,
   "id": "37ba2b0b",
   "metadata": {},
   "outputs": [
    {
     "name": "stdout",
     "output_type": "stream",
     "text": [
      "0.8418418418418419\n"
     ]
    }
   ],
   "source": [
    "diff = predictions-test_out\n",
    "success_rate = len(np.where(diff==0)[0])/len(test_out)\n",
    "print(success_rate)"
   ]
  },
  {
   "cell_type": "code",
   "execution_count": 200,
   "id": "79e75152",
   "metadata": {},
   "outputs": [
    {
     "name": "stdout",
     "output_type": "stream",
     "text": [
      "[1 3 5 6 7]\n"
     ]
    },
    {
     "ename": "IndexError",
     "evalue": "an index can only have a single ellipsis ('...')",
     "output_type": "error",
     "traceback": [
      "\u001b[1;31m---------------------------------------------------------------------------\u001b[0m",
      "\u001b[1;31mIndexError\u001b[0m                                Traceback (most recent call last)",
      "Input \u001b[1;32mIn [200]\u001b[0m, in \u001b[0;36m<cell line: 3>\u001b[1;34m()\u001b[0m\n\u001b[0;32m      1\u001b[0m abb \u001b[38;5;241m=\u001b[39m np\u001b[38;5;241m.\u001b[39marray([\u001b[38;5;241m1\u001b[39m, \u001b[38;5;241m3\u001b[39m, \u001b[38;5;241m5\u001b[39m, \u001b[38;5;241m6\u001b[39m, \u001b[38;5;241m7\u001b[39m])\n\u001b[0;32m      2\u001b[0m \u001b[38;5;28mprint\u001b[39m(abb)\n\u001b[1;32m----> 3\u001b[0m \u001b[38;5;28mprint\u001b[39m(\u001b[43mabb\u001b[49m\u001b[43m[\u001b[49m\u001b[38;5;241;43m.\u001b[39;49m\u001b[38;5;241;43m.\u001b[39;49m\u001b[38;5;241;43m.\u001b[39;49m\u001b[43m,\u001b[49m\u001b[38;5;241;43m.\u001b[39;49m\u001b[38;5;241;43m.\u001b[39;49m\u001b[38;5;241;43m.\u001b[39;49m\u001b[43m]\u001b[49m)\n\u001b[0;32m      4\u001b[0m bbb \u001b[38;5;241m=\u001b[39m np\u001b[38;5;241m.\u001b[39marray([\u001b[38;5;28mlist\u001b[39m(abb)])\n\u001b[0;32m      5\u001b[0m \u001b[38;5;28mprint\u001b[39m(bbb)\n",
      "\u001b[1;31mIndexError\u001b[0m: an index can only have a single ellipsis ('...')"
     ]
    }
   ],
   "source": [
    "abb = np.array([1, 3, 5, 6, 7])\n",
    "print(abb)\n",
    "print(abb[...,...])\n",
    "bbb = np.array([list(abb)])\n",
    "print(bbb)"
   ]
  }
 ],
 "metadata": {
  "kernelspec": {
   "display_name": "Python 3.10.8 64-bit (microsoft store)",
   "language": "python",
   "name": "python3"
  },
  "language_info": {
   "codemirror_mode": {
    "name": "ipython",
    "version": 3
   },
   "file_extension": ".py",
   "mimetype": "text/x-python",
   "name": "python",
   "nbconvert_exporter": "python",
   "pygments_lexer": "ipython3",
   "version": "3.10.8"
  },
  "vscode": {
   "interpreter": {
    "hash": "473bd935c211c1cc7330dee73f905db51261e2fba90e83aea02ccfc3f3d92c14"
   }
  }
 },
 "nbformat": 4,
 "nbformat_minor": 5
}
