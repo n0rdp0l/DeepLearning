{
 "cells": [
  {
   "cell_type": "code",
   "execution_count": 1,
   "id": "760035d9",
   "metadata": {},
   "outputs": [],
   "source": [
    "import numpy as np\n",
    "import pandas as pd"
   ]
  },
  {
   "cell_type": "code",
   "execution_count": 2,
   "id": "1e3b1712",
   "metadata": {},
   "outputs": [],
   "source": [
    "train_in = pd.read_csv(\"train_in.csv\")\n",
    "train_out = pd.read_csv(\"train_out.csv\")\n",
    "test_in = pd.read_csv(\"test_in.csv\")\n",
    "test_out = pd.read_csv(\"test_out.csv\")"
   ]
  },
  {
   "cell_type": "code",
   "execution_count": 3,
   "id": "7c9cc053",
   "metadata": {},
   "outputs": [],
   "source": [
    "train_in = np.array(train_in)\n",
    "train_out = np.array(train_out)\n",
    "test_in = np.array(test_in)\n",
    "test_out = np.array(test_out)"
   ]
  },
  {
   "cell_type": "code",
   "execution_count": 4,
   "id": "b1d1ed65",
   "metadata": {},
   "outputs": [],
   "source": [
    "train_out = np.squeeze(train_out, axis=1)\n",
    "test_out = np.squeeze(test_out, axis=1)"
   ]
  },
  {
   "cell_type": "code",
   "execution_count": 5,
   "id": "27598a97",
   "metadata": {},
   "outputs": [
    {
     "name": "stdout",
     "output_type": "stream",
     "text": [
      "[[0 0 0 ... 0 0 0]\n",
      " [1 1 1 ... 1 1 1]\n",
      " [2 2 2 ... 2 2 2]\n",
      " ...\n",
      " [7 7 7 ... 7 7 7]\n",
      " [8 8 8 ... 8 8 8]\n",
      " [9 9 9 ... 9 9 9]]\n"
     ]
    }
   ],
   "source": [
    "d_x = np.arange(0,1706,1)\n",
    "d_y = np.arange(0,10,1)\n",
    "digit_x, digit_y = np.meshgrid(d_x, d_y)\n",
    "print(digit_y)"
   ]
  },
  {
   "cell_type": "code",
   "execution_count": 23,
   "id": "8fa31a34",
   "metadata": {},
   "outputs": [],
   "source": [
    "class Perceptron:\n",
    "    \n",
    "    def __init__(self, digit=digit_y, weight=np.random.uniform(size=(256, 10)), bias=np.random.uniform(size=(10)), learning_rate=0.01, n_iters=100):\n",
    "        self.lr = learning_rate\n",
    "        self.n_iter = n_iters\n",
    "        self.activation = self._val_func\n",
    "        \n",
    "        self.weights = weight\n",
    "        self.bias = bias\n",
    "        self.digit = digit\n",
    "        \n",
    "    def fit(self, x, y):\n",
    "        \n",
    "        y_m = np.repeat([y], [10], axis=0)\n",
    "        y_ = np.ones(shape=y_m.shape)*(y_m==self.digit)\n",
    "        \n",
    "        for _ in range(self.n_iter):\n",
    "            for i, x_i in enumerate(x):\n",
    "                prediction = self.predict(x_i)\n",
    "                update = self.lr*(y_[:,i]-self._u_step(prediction))\n",
    "\n",
    "                self.weights += update * np.transpose(np.repeat(x_i[None,...], [10], axis=0))\n",
    "                self.bias += update\n",
    "                \n",
    "    def predict(self, x):\n",
    "        linear_output = np.dot(x, self.weights)+self.bias\n",
    "        y_predicted = self.activation(linear_output)\n",
    "        return linear_output\n",
    "    \n",
    "    \n",
    "    def _val_func(self, x):\n",
    "        return np.where(x>=0,x,0)\n",
    "    \n",
    "    def _u_step(self, x):\n",
    "        \n",
    "        return np.where(x>0,1,0)"
   ]
  },
  {
   "cell_type": "code",
   "execution_count": 24,
   "id": "8b2fe5e6",
   "metadata": {},
   "outputs": [
    {
     "name": "stdout",
     "output_type": "stream",
     "text": [
      "(999, 10)\n",
      "[[ 20.15317051 -19.12543239  -8.02285727 ... -17.73755444  -3.46962854\n",
      "  -14.86028197]\n",
      " [  6.49536853 -22.44211984  -9.32420105 ... -15.35883967  -5.19760883\n",
      "   -5.3425802 ]\n",
      " [ 13.57407331 -29.10430927 -10.12913747 ... -13.52622771  -4.30146653\n",
      "  -20.03310167]\n",
      " ...\n",
      " [-12.91003941 -25.65268463  -6.0833196  ... -16.9747651    2.31727575\n",
      "   -8.17996223]\n",
      " [-22.25410273 -16.76479354  -3.65983067 ...   0.7480921   -8.9218745\n",
      "   -2.30850967]\n",
      " [ 15.06963619 -24.3221397  -11.75749719 ... -17.69671916 -10.67962016\n",
      "  -18.9148352 ]]\n"
     ]
    }
   ],
   "source": [
    "p = Perceptron()\n",
    "p.fit(train_in, train_out)\n",
    "predictions = p.predict(test_in)\n",
    "print(np.shape(predictions))\n",
    "print(predictions)\n",
    "\n",
    "predictions = np.argmax(np.squeeze(predictions), axis=1)\n",
    "print(predictions)\n",
    "\n",
    "diff = predictions-test_out\n",
    "success_rate = len(np.where(diff==0)[0])/len(test_out)\n",
    "print(success_rate)"
   ]
  },
  {
   "cell_type": "code",
   "execution_count": null,
   "id": "949b45b4",
   "metadata": {},
   "outputs": [],
   "source": []
  }
 ],
 "metadata": {
  "kernelspec": {
   "display_name": "Python 3 (ipykernel)",
   "language": "python",
   "name": "python3"
  },
  "language_info": {
   "codemirror_mode": {
    "name": "ipython",
    "version": 3
   },
   "file_extension": ".py",
   "mimetype": "text/x-python",
   "name": "python",
   "nbconvert_exporter": "python",
   "pygments_lexer": "ipython3",
   "version": "3.9.13"
  },
  "vscode": {
   "interpreter": {
    "hash": "473bd935c211c1cc7330dee73f905db51261e2fba90e83aea02ccfc3f3d92c14"
   }
  }
 },
 "nbformat": 4,
 "nbformat_minor": 5
}
