{
 "cells": [
  {
   "cell_type": "code",
   "execution_count": 1,
   "id": "760035d9",
   "metadata": {},
   "outputs": [],
   "source": [
    "import numpy as np\n",
    "import pandas as pd"
   ]
  },
  {
   "cell_type": "code",
   "execution_count": 2,
   "id": "1e3b1712",
   "metadata": {},
   "outputs": [],
   "source": [
    "train_in = pd.read_csv(\"train_in.csv\")\n",
    "train_out = pd.read_csv(\"train_out.csv\")\n",
    "test_in = pd.read_csv(\"test_in.csv\")\n",
    "test_out = pd.read_csv(\"test_out.csv\")"
   ]
  },
  {
   "cell_type": "code",
   "execution_count": 3,
   "id": "7c9cc053",
   "metadata": {},
   "outputs": [],
   "source": [
    "train_in = np.array(train_in)\n",
    "train_out = np.array(train_out)\n",
    "test_in = np.array(test_in)\n",
    "test_out = np.array(test_out)"
   ]
  },
  {
   "cell_type": "code",
   "execution_count": 4,
   "id": "b1d1ed65",
   "metadata": {},
   "outputs": [],
   "source": [
    "train_out = np.squeeze(train_out, axis=1)\n",
    "test_out = np.squeeze(test_out, axis=1)"
   ]
  },
  {
   "cell_type": "code",
   "execution_count": 5,
   "id": "27598a97",
   "metadata": {},
   "outputs": [
    {
     "name": "stdout",
     "output_type": "stream",
     "text": [
      "[[0 0 0 ... 0 0 0]\n",
      " [1 1 1 ... 1 1 1]\n",
      " [2 2 2 ... 2 2 2]\n",
      " ...\n",
      " [7 7 7 ... 7 7 7]\n",
      " [8 8 8 ... 8 8 8]\n",
      " [9 9 9 ... 9 9 9]]\n"
     ]
    }
   ],
   "source": [
    "d_x = np.arange(0,1706,1)\n",
    "d_y = np.arange(0,10,1)\n",
    "digit_x, digit_y = np.meshgrid(d_x, d_y)\n",
    "print(digit_y)"
   ]
  },
  {
   "cell_type": "code",
   "execution_count": 23,
   "id": "8fa31a34",
   "metadata": {},
   "outputs": [],
   "source": [
    "class Perceptron:\n",
    "    \n",
    "    def __init__(self, digit=digit_y, weight=np.random.uniform(size=(256, 10)), bias=np.random.uniform(size=(10)), learning_rate=0.01, n_iters=100):\n",
    "        self.lr = learning_rate\n",
    "        self.n_iter = n_iters\n",
    "        self.activation = self._val_func\n",
    "        \n",
    "        self.weights = weight\n",
    "        self.bias = bias\n",
    "        self.digit = digit\n",
    "        \n",
    "    def fit(self, x, y):\n",
    "        \n",
    "        y_m = np.repeat([y], [10], axis=0)\n",
    "        y_ = np.ones(shape=y_m.shape)*(y_m==self.digit)\n",
    "        \n",
    "        for _ in range(self.n_iter):\n",
    "            for i, x_i in enumerate(x):\n",
    "                prediction = self.predict(x_i)\n",
    "                update = self.lr*(y_[:,i]-self._u_step(prediction))\n",
    "\n",
    "                self.weights += update * np.transpose(np.repeat(x_i[None,...], [10], axis=0))\n",
    "                self.bias += update\n",
    "                \n",
    "    def predict(self, x):\n",
    "        linear_output = np.dot(x, self.weights)+self.bias\n",
    "        y_predicted = self.activation(linear_output)\n",
    "        return linear_output\n",
    "    \n",
    "    \n",
    "    def _val_func(self, x):\n",
    "        return np.where(x>=0,x,0)\n",
    "    \n",
    "    def _u_step(self, x):\n",
    "        \n",
    "        return np.where(x>0,1,0)"
   ]
  },
  {
   "cell_type": "code",
   "execution_count": 24,
   "id": "8b2fe5e6",
   "metadata": {},
   "outputs": [
    {
     "name": "stdout",
     "output_type": "stream",
     "text": [
      "(999, 10)\n",
      "[[ 20.15317051 -19.12543239  -8.02285727 ... -17.73755444  -3.46962854\n",
      "  -14.86028197]\n",
      " [  6.49536853 -22.44211984  -9.32420105 ... -15.35883967  -5.19760883\n",
      "   -5.3425802 ]\n",
      " [ 13.57407331 -29.10430927 -10.12913747 ... -13.52622771  -4.30146653\n",
      "  -20.03310167]\n",
      " ...\n",
      " [-12.91003941 -25.65268463  -6.0833196  ... -16.9747651    2.31727575\n",
      "   -8.17996223]\n",
      " [-22.25410273 -16.76479354  -3.65983067 ...   0.7480921   -8.9218745\n",
      "   -2.30850967]\n",
      " [ 15.06963619 -24.3221397  -11.75749719 ... -17.69671916 -10.67962016\n",
      "  -18.9148352 ]]\n"
     ]
    }
   ],
   "source": [
    "p = Perceptron()\n",
    "p.fit(train_in, train_out)\n",
    "predictions = p.predict(test_in)\n",
    "print(np.shape(predictions))\n",
    "print(predictions)"
   ]
  },
  {
   "cell_type": "code",
   "execution_count": 25,
   "id": "9fd01645",
   "metadata": {},
   "outputs": [
    {
     "name": "stdout",
     "output_type": "stream",
     "text": [
      "[0 0 0 0 0 0 0 0 0 0 0 0 0 2 0 0 6 9 7 9 2 9 0 0 9 0 0 0 0 3 0 0 6 0 0 2 6\n",
      " 0 0 0 0 0 5 0 6 0 9 0 9 0 2 0 2 2 6 2 9 6 1 2 1 6 1 0 1 8 3 6 0 4 8 4 0 0\n",
      " 4 0 9 2 8 4 6 0 1 2 6 6 6 3 4 0 6 6 8 3 0 1 9 9 9 9 6 6 7 7 9 7 9 9 7 6 8\n",
      " 2 7 2 8 1 0 1 1 1 6 7 6 8 0 9 4 8 1 8 6 8 0 8 4 0 0 6 4 4 1 3 1 6 4 1 6 1\n",
      " 4 0 5 2 4 9 0 0 0 1 1 0 0 1 2 1 0 0 0 7 1 0 0 1 7 1 0 0 2 0 1 8 9 3 1 0 1\n",
      " 0 8 1 0 1 0 1 1 0 0 0 1 1 0 1 6 3 1 0 0 2 2 1 0 0 2 1 1 0 0 5 4 1 8 0 1 0\n",
      " 1 0 0 0 3 1 0 0 3 6 8 9 1 6 7 8 9 1 0 8 0 0 9 0 2 5 7 1 1 7 0 2 8 8 7 0 4\n",
      " 9 5 0 2 8 8 9 1 6 9 2 0 9 7 0 0 8 9 9 4 7 5 7 7 8 0 1 9 6 5 2 4 0 0 4 8 4\n",
      " 8 8 8 3 4 0 1 6 0 4 2 7 3 4 2 0 1 1 7 9 1 5 0 3 3 0 9 1 6 3 3 0 0 0 9 8 4\n",
      " 1 1 9 4 0 8 7 9 4 6 1 8 9 4 2 5 0 0 0 0 0 7 5 2 3 1 7 3 0 0 6 4 3 0 6 8 4\n",
      " 8 1 7 0 4 3 6 1 3 9 3 8 1 2 1 4 2 6 6 9 6 8 1 3 9 0 0 2 5 3 5 0 4 9 1 4 2\n",
      " 1 9 3 1 0 3 6 0 4 8 8 1 9 7 1 2 2 3 2 3 1 2 3 2 6 0 2 3 2 6 0 2 5 6 6 1 2\n",
      " 0 2 3 9 0 5 0 1 6 4 4 7 7 2 0 0 0 5 2 1 0 2 2 0 0 0 5 2 0 0 1 3 2 0 4 6 0\n",
      " 2 0 0 1 6 7 9 9 6 6 2 0 0 0 1 4 4 1 3 1 4 6 2 6 4 0 6 9 7 0 4 6 2 8 2 8 8\n",
      " 0 3 7 6 4 1 0 8 4 4 6 3 8 3 4 6 2 9 1 0 0 1 0 1 4 0 1 4 4 6 0 5 2 4 3 2 7\n",
      " 8 4 5 1 4 0 4 7 8 1 1 1 1 2 9 5 6 9 2 3 2 6 0 6 4 4 7 4 0 1 9 6 3 8 3 3 3\n",
      " 9 9 9 3 3 5 6 2 3 3 9 3 2 8 3 5 9 7 4 4 9 4 2 2 0 3 0 6 4 6 3 8 0 4 3 2 3\n",
      " 2 2 7 6 0 4 0 8 9 0 2 9 6 6 0 4 4 6 2 9 1 9 6 2 3 0 9 2 1 0 5 8 0 0 2 1 4\n",
      " 8 0 9 8 2 3 0 6 9 7 9 4 9 5 3 8 1 3 8 9 0 2 1 0 2 8 2 0 2 1 6 8 8 1 4 7 1\n",
      " 8 4 5 2 7 3 6 0 4 7 7 0 9 8 3 0 4 9 6 8 2 1 9 6 8 2 2 9 6 7 9 2 9 6 8 9 6\n",
      " 8 1 3 9 6 8 1 9 0 0 4 4 7 7 0 9 8 3 0 3 5 8 2 0 5 8 3 8 1 1 6 8 8 4 8 6 8\n",
      " 1 2 2 6 8 0 0 9 6 8 1 6 2 2 3 0 4 9 9 3 3 6 9 8 0 4 6 3 2 0 0 0 5 5 1 0 1\n",
      " 8 9 4 0 1 0 3 7 5 5 9 9 9 8 0 3 7 5 6 0 3 4 5 4 0 5 4 0 1 0 7 4 5 3 0 0 4\n",
      " 4 6 0 5 7 5 3 0 5 4 0 2 0 5 0 7 1 3 7 3 9 7 3 7 3 1 1 3 7 8 1 5 0 0 4 0 3\n",
      " 7 6 5 5 5 7 0 0 2 2 4 0 0 0 0 2 7 8 7 3 7 8 0 2 7 2 2 0 4 4 0 1 0 3 4 0 2\n",
      " 2 8 0 8 0 8 7 5 4 3 9 7 0 3 8 9 7 3 0 2 9 7 1 1 1 9 4 1 0 7 6 9 1 6 0 6 8\n",
      " 0 0 9 6 8 0 0 9 6 8 1 2 7 2 1 1 3 0 5 7 1 0 5 5 7 1 0 2 9 9 7 0 9 5 8 7 0]\n"
     ]
    }
   ],
   "source": [
    "predictions = np.argmax(np.squeeze(predictions), axis=1)\n",
    "print(predictions)"
   ]
  },
  {
   "cell_type": "code",
   "execution_count": 26,
   "id": "37ba2b0b",
   "metadata": {},
   "outputs": [
    {
     "name": "stdout",
     "output_type": "stream",
     "text": [
      "0.8678678678678678\n"
     ]
    }
   ],
   "source": [
    "diff = predictions-test_out\n",
    "success_rate = len(np.where(diff==0)[0])/len(test_out)\n",
    "print(success_rate)"
   ]
  },
  {
   "cell_type": "code",
   "execution_count": null,
   "id": "949b45b4",
   "metadata": {},
   "outputs": [],
   "source": []
  }
 ],
 "metadata": {
  "kernelspec": {
   "display_name": "Python 3 (ipykernel)",
   "language": "python",
   "name": "python3"
  },
  "language_info": {
   "codemirror_mode": {
    "name": "ipython",
    "version": 3
   },
   "file_extension": ".py",
   "mimetype": "text/x-python",
   "name": "python",
   "nbconvert_exporter": "python",
   "pygments_lexer": "ipython3",
   "version": "3.9.13"
  },
  "vscode": {
   "interpreter": {
    "hash": "473bd935c211c1cc7330dee73f905db51261e2fba90e83aea02ccfc3f3d92c14"
   }
  }
 },
 "nbformat": 4,
 "nbformat_minor": 5
}
