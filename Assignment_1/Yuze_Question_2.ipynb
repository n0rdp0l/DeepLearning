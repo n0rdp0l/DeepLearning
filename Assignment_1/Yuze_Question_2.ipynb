{
 "cells": [
  {
   "cell_type": "code",
   "execution_count": 1,
   "id": "a8164267",
   "metadata": {},
   "outputs": [],
   "source": [
    "import numpy as np"
   ]
  },
  {
   "cell_type": "code",
   "execution_count": 61,
   "id": "86706e5a",
   "metadata": {},
   "outputs": [],
   "source": [
    "d_x = np.arange(0,1706,1)\n",
    "d_y = np.arange(0,10,1)\n",
    "digit_x, digit_y = np.meshgrid(d_x, d_y)"
   ]
  },
  {
   "cell_type": "code",
   "execution_count": 76,
   "id": "ea467020",
   "metadata": {},
   "outputs": [],
   "source": [
    "class Perceptron:\n",
    "    \n",
    "    def _init_(self, learning_rate=0.01, n_iters=10):\n",
    "        self.lr = learning_rate\n",
    "        self.n_iter = n_iters\n",
    "        self.activation = self._val_func\n",
    "        \n",
    "        self.weights = np.zeros(shape=(256, 10))\n",
    "        self.bias = 0\n",
    "        self.digit = digit_y\n",
    "        \n",
    "    def fit(self, x, y):\n",
    "        \n",
    "        y_m = np.repeat(np.array([list(y)]), [10], axis=0)\n",
    "        y_ = np.ones(shape=y_m.shape)*(y_m==self.digit)\n",
    "        \n",
    "        for _ in range(self.n_iter):\n",
    "            for i, x_i in enumerate(x):\n",
    "                prediction = self.predict(x_i)\n",
    "                update = self.lr*(y[:,i]-self._u_step(prediction))\n",
    "\n",
    "                self.weights += update*np.repeat(x_i[...,None], 10, axis=1)\n",
    "                self.bias += update\n",
    "                \n",
    "    def predict(self, x):\n",
    "        linear_output = np.dot(x, self.weights)+self.bias\n",
    "        y_predicted = self.activation(linear_output)\n",
    "        return y_predicted\n",
    "    \n",
    "    def _val_func(self, x):\n",
    "        return np.where(x>=0,x,0)\n",
    "    \n",
    "    def _u_step(self, x):\n",
    "        \n",
    "        return np.where(x>0,1,0)"
   ]
  },
  {
   "cell_type": "code",
   "execution_count": null,
   "id": "1bd8bbf9",
   "metadata": {},
   "outputs": [],
   "source": []
  }
 ],
 "metadata": {
  "kernelspec": {
   "display_name": "Python 3",
   "language": "python",
   "name": "python3"
  },
  "language_info": {
   "codemirror_mode": {
    "name": "ipython",
    "version": 3
   },
   "file_extension": ".py",
   "mimetype": "text/x-python",
   "name": "python",
   "nbconvert_exporter": "python",
   "pygments_lexer": "ipython3",
   "version": "3.8.8"
  }
 },
 "nbformat": 4,
 "nbformat_minor": 5
}
