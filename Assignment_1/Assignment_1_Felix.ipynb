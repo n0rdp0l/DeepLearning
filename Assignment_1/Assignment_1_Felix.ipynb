{
 "cells": [
  {
   "cell_type": "code",
   "execution_count": 1,
   "metadata": {},
   "outputs": [],
   "source": [
    "import pandas as pd\n",
    "import numpy as np\n",
    "import itertools \n",
    "import matplotlib.pyplot as plt"
   ]
  },
  {
   "cell_type": "code",
   "execution_count": 2,
   "metadata": {},
   "outputs": [],
   "source": [
    "train_in = pd.read_csv(\"train_in.csv\")\n",
    "train_out = pd.read_csv(\"train_out.csv\")\n",
    "train_in = np.array(train_in)\n",
    "train_out = np.array(train_out)"
   ]
  },
  {
   "cell_type": "markdown",
   "metadata": {},
   "source": [
    "## 1.1"
   ]
  },
  {
   "cell_type": "code",
   "execution_count": 3,
   "metadata": {},
   "outputs": [
    {
     "data": {
      "text/plain": [
       "array([[-1.   , -1.   , -1.   , ..., -0.671, -0.828, -1.   ],\n",
       "       [-1.   , -1.   , -1.   , ..., -1.   , -1.   , -1.   ],\n",
       "       [-1.   , -1.   , -1.   , ..., -1.   , -1.   , -1.   ],\n",
       "       ...,\n",
       "       [-1.   , -1.   , -1.   , ..., -1.   , -1.   , -1.   ],\n",
       "       [-1.   , -1.   , -1.   , ..., -1.   , -1.   , -1.   ],\n",
       "       [-1.   , -1.   , -1.   , ..., -1.   , -1.   , -1.   ]])"
      ]
     },
     "metadata": {},
     "output_type": "display_data"
    },
    {
     "data": {
      "text/plain": [
       "array([[5],\n",
       "       [4],\n",
       "       [7],\n",
       "       ...,\n",
       "       [7],\n",
       "       [9],\n",
       "       [8]], dtype=int64)"
      ]
     },
     "metadata": {},
     "output_type": "display_data"
    },
    {
     "name": "stdout",
     "output_type": "stream",
     "text": [
      "(1706, 256)\n",
      "(1706, 1)\n",
      "(1706,)\n"
     ]
    }
   ],
   "source": [
    "display(train_in)\n",
    "display(train_out)\n",
    "print(np.shape(train_in))\n",
    "print(np.shape(train_out)) \n",
    "train_out = np.squeeze(train_out)\n",
    "print(np.shape(train_out)) "
   ]
  },
  {
   "cell_type": "code",
   "execution_count": 4,
   "metadata": {},
   "outputs": [],
   "source": [
    "clouds = dict()\n",
    "\n",
    "for x in range(10):\n",
    "    clouds[x] = train_in[np.where(train_out == x)[0],:]\n"
   ]
  },
  {
   "cell_type": "code",
   "execution_count": 5,
   "metadata": {},
   "outputs": [],
   "source": [
    "means = dict()\n",
    "for x in range(10):\n",
    "    means[x] =  np.mean(clouds[x], axis=0)"
   ]
  },
  {
   "cell_type": "code",
   "execution_count": 6,
   "metadata": {},
   "outputs": [],
   "source": [
    "\n",
    "distances = []\n",
    "for i in range(10):\n",
    "    for j in range(10):\n",
    "        distances.append(np.linalg.norm(means[i]-means[j]))\n",
    "distances = np.array(distances)\n",
    "distances = np.reshape(distances,(10,10))"
   ]
  },
  {
   "cell_type": "code",
   "execution_count": 7,
   "metadata": {},
   "outputs": [
    {
     "data": {
      "text/plain": [
       "array([[ 0.        , 14.44960797,  9.33455587,  9.14373367, 10.76984444,\n",
       "         7.51929626,  8.16301949, 11.86455505,  9.90790174, 11.48887494],\n",
       "       [14.44960797,  0.        , 10.12532258, 11.7332329 , 10.17378643,\n",
       "        11.11880041, 10.59793273, 10.74315367, 10.08677677,  9.9320937 ],\n",
       "       [ 9.33455587, 10.12532258,  0.        ,  8.17828489,  7.93254148,\n",
       "         7.90679632,  7.31795234,  8.87253107,  7.07751618,  8.88774785],\n",
       "       [ 9.14373367, 11.7332329 ,  8.17828489,  0.        ,  9.0876078 ,\n",
       "         6.11875002,  9.29242591,  8.92240093,  7.02042489,  8.35435012],\n",
       "       [10.76984444, 10.17378643,  7.93254148,  9.0876078 ,  0.        ,\n",
       "         8.00151741,  8.76599667,  7.58301228,  7.38090899,  6.01040793],\n",
       "       [ 7.51929626, 11.11880041,  7.90679632,  6.11875002,  8.00151741,\n",
       "         0.        ,  6.68862915,  9.21195402,  6.96738648,  8.25853807],\n",
       "       [ 8.16301949, 10.59793273,  7.31795234,  9.29242591,  8.76599667,\n",
       "         6.68862915,  0.        , 10.8681573 ,  8.57020763, 10.41974352],\n",
       "       [11.86455505, 10.74315367,  8.87253107,  8.92240093,  7.58301228,\n",
       "         9.21195402, 10.8681573 ,  0.        ,  8.4677853 ,  5.42647412],\n",
       "       [ 9.90790174, 10.08677677,  7.07751618,  7.02042489,  7.38090899,\n",
       "         6.96738648,  8.57020763,  8.4677853 ,  0.        ,  6.40116587],\n",
       "       [11.48887494,  9.9320937 ,  8.88774785,  8.35435012,  6.01040793,\n",
       "         8.25853807, 10.41974352,  5.42647412,  6.40116587,  0.        ]])"
      ]
     },
     "execution_count": 7,
     "metadata": {},
     "output_type": "execute_result"
    }
   ],
   "source": [
    "distances"
   ]
  },
  {
   "cell_type": "markdown",
   "metadata": {},
   "source": [
    "## 1.2"
   ]
  },
  {
   "cell_type": "markdown",
   "metadata": {},
   "source": [
    "### PCA"
   ]
  },
  {
   "cell_type": "code",
   "execution_count": 8,
   "metadata": {},
   "outputs": [],
   "source": [
    "\n",
    "from sklearn.decomposition import PCA"
   ]
  },
  {
   "cell_type": "code",
   "execution_count": 9,
   "metadata": {},
   "outputs": [],
   "source": [
    "pca = PCA(n_components=2)\n",
    "\n",
    "PCs = pca.fit_transform(train_in)\n",
    "\n",
    "\n",
    "plt.figure(figsize=(10,10)) \n",
    "\n",
    "for i in range(10):\n",
    "    ind = train_out == i\n",
    "    plt.scatter(PCs[ind, 0], PCs[ind, 1], label=i, s=25, alpha=1)\n",
    "\n",
    "plt.legend(bbox_to_anchor=(1.00, 1), loc='upper left',fontsize=20)\n",
    "plt.title(\"PCA\")\n",
    "plt.xlabel(\"Dim 1\")\n",
    "plt.ylabel(\"Dim 2\")"
   ]
  },
  {
   "cell_type": "markdown",
   "metadata": {},
   "source": [
    "### UMAP"
   ]
  },
  {
   "cell_type": "code",
   "execution_count": 11,
   "metadata": {},
   "outputs": [
    {
     "ename": "ModuleNotFoundError",
     "evalue": "No module named 'umap'",
     "output_type": "error",
     "traceback": [
      "\u001b[1;31m---------------------------------------------------------------------------\u001b[0m",
      "\u001b[1;31mModuleNotFoundError\u001b[0m                       Traceback (most recent call last)",
      "Input \u001b[1;32mIn [11]\u001b[0m, in \u001b[0;36m<cell line: 1>\u001b[1;34m()\u001b[0m\n\u001b[1;32m----> 1\u001b[0m \u001b[38;5;28;01mimport\u001b[39;00m \u001b[38;5;21;01mumap\u001b[39;00m\n",
      "\u001b[1;31mModuleNotFoundError\u001b[0m: No module named 'umap'"
     ]
    }
   ],
   "source": [
    "import umap"
   ]
  },
  {
   "cell_type": "code",
   "execution_count": null,
   "metadata": {},
   "outputs": [],
   "source": [
    "umap = umap.UMAP()\n",
    "X_u = umap.fit_transform(train_in)\n",
    "\n",
    "plt.figure(figsize=(10,10))\n",
    "\n",
    "for i in range(10):\n",
    "    ind = train_out == i\n",
    "    plt.scatter(X_u[ind, 0], X_u[ind, 1], label=i, s=25, alpha=1)\n",
    "plt.legend(bbox_to_anchor=(1.00, 1), loc='upper left', fontsize=20)\n",
    "plt.title(\"UMAP\")\n",
    "plt.xlabel(\"Dim 1\")\n",
    "plt.ylabel(\"Dim 2\")"
   ]
  },
  {
   "cell_type": "markdown",
   "metadata": {},
   "source": [
    "### t-SNE"
   ]
  },
  {
   "cell_type": "code",
   "execution_count": null,
   "metadata": {},
   "outputs": [],
   "source": [
    "from sklearn.manifold import TSNE"
   ]
  },
  {
   "cell_type": "code",
   "execution_count": null,
   "metadata": {},
   "outputs": [],
   "source": [
    "t_sne = TSNE(n_components=2)\n",
    "X_tsne = t_sne.fit_transform(train_in)\n",
    "\n",
    "plt.figure(figsize=(10,10))\n",
    "\n",
    "for i in range(10):\n",
    "    ind = train_out == i\n",
    "    plt.scatter(X_tsne[ind, 0], X_tsne[ind, 1], label=i, s=25, alpha=1)\n",
    "plt.legend(bbox_to_anchor=(1.00, 1), loc='upper left', fontsize=20)\n",
    "plt.title(\"t-SNE\")\n",
    "plt.xlabel(\"Dim 1\")\n",
    "plt.ylabel(\"Dim 2\")"
   ]
  },
  {
   "cell_type": "markdown",
   "metadata": {},
   "source": [
    "## 1.3"
   ]
  },
  {
   "cell_type": "code",
   "execution_count": 13,
   "metadata": {},
   "outputs": [],
   "source": [
    "test_in = pd.read_csv(\"test_in.csv\")\n",
    "test_out = pd.read_csv(\"test_out.csv\")\n",
    "test_in = np.array(test_in)\n",
    "test_out = np.array(test_out)\n",
    "\n",
    "test_out = np.squeeze(test_out, axis=1)"
   ]
  },
  {
   "cell_type": "code",
   "execution_count": 14,
   "metadata": {},
   "outputs": [],
   "source": [
    "Class = []\n",
    "for i in train_in:\n",
    "    Dis = []\n",
    "    for j in range(10):\n",
    "        Mean = means[j]\n",
    "        dis = np.linalg.norm(Mean-i)\n",
    "        Dis.append(dis)\n",
    "    dis_min = np.amin(Dis)\n",
    "    clas = float(np.where(Dis==dis_min)[0])\n",
    "    Class.append(clas)\n",
    "\n",
    "Class = np.array(Class)\n",
    "diff = train_out-Class\n",
    "\n",
    "success_rate = len(np.where(diff==0)[0])/len(train_out)\n",
    "print(success_rate)"
   ]
  },
  {
   "cell_type": "code",
   "execution_count": 17,
   "metadata": {},
   "outputs": [],
   "source": [
    "Class_test = []\n",
    "for i in test_in:\n",
    "    Dis = []\n",
    "    for j in range(10):\n",
    "        Mean = means[j]\n",
    "        dis = np.linalg.norm(Mean-i)\n",
    "        Dis.append(dis)\n",
    "    dis_min = np.amin(Dis)\n",
    "    clas = float(np.where(Dis==dis_min)[0])\n",
    "    Class_test.append(clas)"
   ]
  },
  {
   "cell_type": "code",
   "execution_count": 18,
   "metadata": {},
   "outputs": [],
   "source": [
    "Class_test = np.array(Class_test)\n",
    "diff_test = test_out - Class_test"
   ]
  },
  {
   "cell_type": "code",
   "execution_count": 19,
   "metadata": {},
   "outputs": [
    {
     "name": "stdout",
     "output_type": "stream",
     "text": [
      "0.8038038038038038\n"
     ]
    }
   ],
   "source": [
    "success_rate_test = len(np.where(diff_test==0)[0])/len(test_out)\n",
    "print(success_rate_test)"
   ]
  },
  {
   "cell_type": "markdown",
   "metadata": {},
   "source": [
    "## 1.4"
   ]
  },
  {
   "cell_type": "code",
   "execution_count": 30,
   "metadata": {},
   "outputs": [],
   "source": [
    "from sklearn.neighbors import KNeighborsClassifier"
   ]
  },
  {
   "cell_type": "code",
   "execution_count": 21,
   "metadata": {},
   "outputs": [],
   "source": [
    "k = len(train_in)/10\n",
    "\n",
    "knn = KNeighborsClassifier(n_neighbors=12)\n",
    "\n",
    "knn.fit(train_in, train_out)\n",
    "knn_out_train = knn.predict(train_in)\n",
    "knn_out = knn.predict(test_in)\n",
    "\n",
    "diff_knn_train = knn_out_train - train_out\n",
    "success_rate_train = len(np.where(diff_knn_train==0)[0])/len(train_out)\n",
    "print(success_rate_train)\n",
    "diff_knn = knn_out - test_out\n",
    "success_rate_test = len(np.where(diff_knn==0)[0])/len(test_out)\n",
    "print(success_rate_test)"
   ]
  },
  {
   "cell_type": "code",
   "execution_count": 26,
   "metadata": {},
   "outputs": [],
   "source": [
    "from sklearn.metrics import confusion_matrix\n",
    "conf_m_knn = confusion_matrix(test_out, knn_out)\n",
    "conf_m_knn_train = confusion_matrix(train_out, knn_out_train)\n",
    "\n",
    "conf_m_simp = confusion_matrix(test_out, Class_test)\n",
    "conf_m_simp_train = confusion_matrix(train_out, Class)"
   ]
  },
  {
   "cell_type": "code",
   "execution_count": 28,
   "metadata": {},
   "outputs": [
    {
     "name": "stdout",
     "output_type": "stream",
     "text": [
      "[[318   0   1   0   0   0   0   0   0   0]\n",
      " [  0 252   0   0   0   0   0   0   0   0]\n",
      " [  4   4 183   1   2   0   0   5   2   1]\n",
      " [  0   0   1 127   0   0   0   1   2   0]\n",
      " [  1   8   0   0 103   0   0   0   0  10]\n",
      " [  4   1   2   4   2  70   3   1   0   1]\n",
      " [  6   2   0   0   1   0 141   0   0   0]\n",
      " [  0   2   0   0   0   0   0 161   1   2]\n",
      " [  2   5   1   8   0   1   0   0 126   1]\n",
      " [  0   0   0   1   1   0   0   4   0 126]]\n",
      "[[271   0   0   0   2   4  36   0   6   0]\n",
      " [  0 252   0   0   0   0   0   0   0   0]\n",
      " [  3   0 167   9   9   1   3   4   6   0]\n",
      " [  0   0   2 120   1   3   0   1   3   1]\n",
      " [  0   8   1   0  95   0   3   0   0  15]\n",
      " [  3   0   2   3   4  67   3   1   2   3]\n",
      " [ 10   4   5   0   2   0 128   0   1   0]\n",
      " [  0   4   0   0   2   2   0 140   1  17]\n",
      " [  1   2   1  10   2   3   1   0 121   3]\n",
      " [  0   3   0   1  10   0   0   6   0 112]]\n"
     ]
    }
   ],
   "source": [
    "print(conf_m_knn_train)\n",
    "print(conf_m_simp_train)\n"
   ]
  },
  {
   "cell_type": "code",
   "execution_count": 29,
   "metadata": {},
   "outputs": [
    {
     "name": "stdout",
     "output_type": "stream",
     "text": [
      "[[217   0   2   0   1   0   2   0   0   1]\n",
      " [  0 119   0   0   0   0   2   0   0   0]\n",
      " [  7   3  82   2   0   0   0   3   4   0]\n",
      " [  5   0   1  69   0   1   0   0   1   2]\n",
      " [  0   5   2   0  71   0   0   1   0   7]\n",
      " [  7   0   1   8   2  32   0   2   0   3]\n",
      " [  9   1   0   0   1   0  79   0   0   0]\n",
      " [  0   4   0   1   2   0   0  56   0   1]\n",
      " [  3   3   0   5   0   0   1   2  76   2]\n",
      " [  1   2   0   0   1   0   0   6   1  77]]\n",
      "[[177   0   3   2   4   2  23   1  10   1]\n",
      " [  0 120   0   0   0   0   1   0   0   0]\n",
      " [  2   0  69   6   8   1   0   2  13   0]\n",
      " [  3   0   3  61   1   8   0   0   1   2]\n",
      " [  1   3   3   0  69   0   1   1   0   8]\n",
      " [  3   0   0   6   3  38   1   0   0   4]\n",
      " [  7   0   2   0   2   1  78   0   0   0]\n",
      " [  0   2   1   0   5   0   0  50   0   6]\n",
      " [  3   2   0   6   3   3   0   0  73   2]\n",
      " [  0   5   0   0   8   0   0   5   2  68]]\n"
     ]
    }
   ],
   "source": [
    "print(conf_m_knn)\n",
    "print(conf_m_simp)"
   ]
  },
  {
   "cell_type": "code",
   "execution_count": null,
   "metadata": {},
   "outputs": [],
   "source": []
  }
 ],
 "metadata": {
  "kernelspec": {
   "display_name": "Python 3 (ipykernel)",
   "language": "python",
   "name": "python3"
  },
  "language_info": {
   "codemirror_mode": {
    "name": "ipython",
    "version": 3
   },
   "file_extension": ".py",
   "mimetype": "text/x-python",
   "name": "python",
   "nbconvert_exporter": "python",
   "pygments_lexer": "ipython3",
   "version": "3.9.13"
  },
  "vscode": {
   "interpreter": {
    "hash": "16a0f2890d1def7920885bcd7e8b768c0e805614be8083e52d1bdef4cb90280f"
   }
  }
 },
 "nbformat": 4,
 "nbformat_minor": 2
}
