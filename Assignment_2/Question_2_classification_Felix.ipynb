{
 "cells": [
  {
   "cell_type": "code",
   "execution_count": 131,
   "id": "e38945d3",
   "metadata": {},
   "outputs": [],
   "source": [
    "import tensorflow as tf\n",
    "from tensorflow import keras\n",
    "import pandas as pd\n",
    "import matplotlib.pyplot as plt\n",
    "import numpy as np\n",
    "import keras_tuner\n",
    "from tensorflow.keras import layers\n",
    "import keras.backend as K"
   ]
  },
  {
   "cell_type": "code",
   "execution_count": 101,
   "id": "a0825904",
   "metadata": {},
   "outputs": [],
   "source": [
    "data_in = np.load(\"Data/images.npy\")\n",
    "data_out = np.load(\"Data/labels.npy\")"
   ]
  },
  {
   "cell_type": "code",
   "execution_count": 102,
   "id": "6b8a045c",
   "metadata": {},
   "outputs": [
    {
     "data": {
      "text/plain": [
       "(18000, 2)"
      ]
     },
     "execution_count": 102,
     "metadata": {},
     "output_type": "execute_result"
    }
   ],
   "source": [
    "data_out.shape"
   ]
  },
  {
   "cell_type": "code",
   "execution_count": 103,
   "id": "1ddb75d1",
   "metadata": {},
   "outputs": [],
   "source": [
    "def convert_to_num(hour, minute):\n",
    "    num = hour+minute/60\n",
    "    return num\n",
    "\n",
    "def group(num):\n",
    "    array = np.zeros(48)\n",
    "    category = num//0.25\n",
    "    category = int(category)\n",
    "    array[category]=1\n",
    "    return array\n",
    "    \n",
    "def unison_shuffled_copies(a, b):\n",
    "    assert len(a) == len(b)\n",
    "    p = np.random.permutation(len(a))\n",
    "    return a[p], b[p]\n",
    "\n"
   ]
  },
  {
   "cell_type": "code",
   "execution_count": 136,
   "id": "5de53f4b",
   "metadata": {},
   "outputs": [],
   "source": [
    "def clock_loss_class_mae(y_true, y_pred):\n",
    "    absdiff = K.abs(y_pred - y_true)\n",
    "    norm_c = absdiff <= 6\n",
    "    norm_c = tf.cast(norm_c, tf.float32)\n",
    "    round_c = absdiff > 6\n",
    "    round_c = tf.cast(round_c, tf.float32)\n",
    "    normdiff = K.abs(y_pred - y_true)\n",
    "    rounddiff = 12 - K.abs((y_pred - y_true))\n",
    "    \n",
    "    diff = norm_c * normdiff + round_c * rounddiff\n",
    "    mae = K.mean(K.abs(diff))\n",
    "    return mae"
   ]
  },
  {
   "cell_type": "code",
   "execution_count": 151,
   "id": "7a9473e6",
   "metadata": {},
   "outputs": [
    {
     "data": {
      "text/plain": [
       "<keras.engine.sequential.Sequential at 0x222e15568b0>"
      ]
     },
     "execution_count": 151,
     "metadata": {},
     "output_type": "execute_result"
    }
   ],
   "source": [
    "def build_model_cnn(hp):\n",
    "    model = keras.Sequential()\n",
    "    model.add(layers.Conv2D(\n",
    "        #adding filter \n",
    "        filters=hp.Int('conv_fixed_filter',default=96, min_value=32, max_value=128, step=10),\n",
    "        # adding kernel size\n",
    "        kernel_size=hp.Choice('conv_fixed_kernel', values = [3,5,7]),\n",
    "        #activation function\n",
    "        activation='relu',\n",
    "        input_shape=[150,150,1],\n",
    "        padding='same',)\n",
    "    )\n",
    "    model.add(\n",
    "    layers.MaxPooling2D(pool_size = hp.Choice('pool_size', values = [2,3,4]),\n",
    "    ),\n",
    "    )\n",
    "    # Tune the number of layers.\n",
    "    for i in range(hp.Int(\"num_cnn_layers\",default=4, min_value=1, max_value=4)):\n",
    "        if i == 1:\n",
    "            model.add(\n",
    "                layers.Conv2D(\n",
    "                    #adding filter \n",
    "                    filters=hp.Int(f'conv_{i+1}_filter',default=256, min_value=32, max_value=512, step=16),\n",
    "                    # adding kernel size\n",
    "                    kernel_size=hp.Choice(f'conv_{i+1}_kernel', values = [3,5]),\n",
    "                    #activation function\n",
    "                    activation='relu',\n",
    "                    padding='same'),\n",
    "            )\n",
    "\n",
    "        elif i == 2:\n",
    "            model.add(\n",
    "                layers.Conv2D(\n",
    "                    #adding filter \n",
    "                    filters=hp.Int(f'conv_{i+1}_filter',default=348, min_value=32, max_value=512, step=16),\n",
    "                    # adding kernel size\n",
    "                    kernel_size=hp.Choice(f'conv_{i+1}_kernel', values = [3,5]),\n",
    "                    #activation function\n",
    "                    activation='relu',\n",
    "                    padding='same'),\n",
    "            )\n",
    "\n",
    "        elif i == 3:\n",
    "            model.add(\n",
    "                layers.Conv2D(\n",
    "                    #adding filter \n",
    "                    filters=hp.Int(f'conv_{i+1}_filter',default=348, min_value=32, max_value=512, step=16),\n",
    "                    # adding kernel size\n",
    "                    kernel_size=hp.Choice(f'conv_{i+1}_kernel', values = [3,5]),\n",
    "                    #activation function\n",
    "                    activation='relu',\n",
    "                    padding='same'),\n",
    "            )\n",
    "\n",
    "        else:\n",
    "            model.add(\n",
    "                layers.Conv2D(\n",
    "                    #adding filter \n",
    "                    filters=hp.Int(f'conv_{i+1}_filter',default=256, min_value=32, max_value=512, step=16),\n",
    "                    # adding kernel size\n",
    "                    kernel_size=hp.Choice(f'conv_{i+1}_kernel', values = [3,5]),\n",
    "                    #activation function\n",
    "                    activation='relu',\n",
    "                    padding='same'),\n",
    "            )\n",
    "\n",
    "        model.add(\n",
    "            layers.MaxPooling2D(\n",
    "                pool_size = 2\n",
    "            ),\n",
    "            )\n",
    "                \n",
    "    model.add(layers.Flatten())        \n",
    "\n",
    "    for i in range(hp.Int(\"num_dense_layers\", default=2, min_value=1, max_value=3)):\n",
    "        if i == 1:\n",
    "            model.add(\n",
    "                layers.Dense(\n",
    "                    units=hp.Int(f\"units_{i+1}\",default=128, min_value=60, max_value=515, step=20),\n",
    "                    activation=hp.Choice(\"activation\", [\"relu\", \"tanh\"]),),\n",
    "            )\n",
    "        \n",
    "        elif i == 2:\n",
    "            model.add(\n",
    "                layers.Dense(\n",
    "                    units=hp.Int(f\"units_{i+1}\",default=60, min_value=60, max_value=515, step=20),\n",
    "                    activation=hp.Choice(\"activation\", [\"relu\", \"tanh\"]),),\n",
    "            )\n",
    "\n",
    "        else:\n",
    "            model.add(\n",
    "                layers.Dense(\n",
    "                    units=hp.Int(f\"units_{i+1}\",default=60, min_value=60, max_value=515, step=20),\n",
    "                    activation=hp.Choice(\"activation\", [\"relu\", \"tanh\"]),),\n",
    "            )\n",
    "\n",
    "        if hp.Boolean(\"dropout\", default=True):\n",
    "            model.add(layers.Dropout(rate=hp.Choice(f'rate_{i+1}', default=0.25, values = [0.25,0.5,0.75])))\n",
    "    \n",
    "    model.add(layers.Dense(48, activation=\"softmax\"))\n",
    "\n",
    "    learning_rate = hp.Float(\"lr\", min_value=1e-4, max_value=1e-2, sampling=\"log\")\n",
    "    model.compile(\n",
    "        optimizer=keras.optimizers.RMSprop(learning_rate=learning_rate),\n",
    "        loss=\"categorical_crossentropy\", \n",
    "        metrics=[\"accuracy\", clock_loss_reg_mae],\n",
    "    )\n",
    "    return model\n",
    "\n",
    "build_model_cnn(keras_tuner.HyperParameters())"
   ]
  },
  {
   "cell_type": "code",
   "execution_count": 152,
   "id": "e990cad0",
   "metadata": {},
   "outputs": [],
   "source": [
    "data_in, data_out = unison_shuffled_copies(data_in, data_out)"
   ]
  },
  {
   "cell_type": "code",
   "execution_count": 153,
   "id": "d545fddb",
   "metadata": {},
   "outputs": [],
   "source": [
    "class_out = []\n",
    "for i in range(len(data_out)):\n",
    "    hour = data_out[i][0]\n",
    "    minute = data_out[i][1]\n",
    "    hr_min_num = convert_to_num(hour, minute)\n",
    "    hr_min_class = group(hr_min_num)\n",
    "    class_out.append(hr_min_class)\n",
    "class_out = np.array(class_out)"
   ]
  },
  {
   "cell_type": "code",
   "execution_count": 154,
   "id": "b910e5b2",
   "metadata": {},
   "outputs": [],
   "source": [
    "X_test, X_train, X_valid = data_in[12000:15000]/np.amax(data_in), data_in[:12000]/np.amax(data_in), data_in[15000:]/np.amax(data_in)\n",
    "y_test, y_train, y_valid = class_out[12000:15000], class_out[:12000], class_out[15000:]"
   ]
  },
  {
   "cell_type": "code",
   "execution_count": 155,
   "id": "3cdb8bb3",
   "metadata": {},
   "outputs": [],
   "source": [
    "hp = keras_tuner.HyperParameters()\n",
    "\n",
    "tuner = keras_tuner.BayesianOptimization(\n",
    "    hypermodel=build_model_cnn,\n",
    "    objective=\"val_accuracy\",\n",
    "    max_trials=30,\n",
    "    num_initial_points=2,\n",
    "    seed=90,\n",
    "    directory=\"Task2\",\n",
    "    project_name=\"CNN3\",\n",
    "    overwrite=True,\n",
    "    #executions_per_trial,\n",
    ")"
   ]
  },
  {
   "cell_type": "code",
   "execution_count": 141,
   "id": "40cacd55",
   "metadata": {},
   "outputs": [
    {
     "name": "stdout",
     "output_type": "stream",
     "text": [
      "Search space summary\n",
      "Default search space size: 19\n",
      "conv_fixed_filter (Int)\n",
      "{'default': None, 'conditions': [], 'min_value': 32, 'max_value': 128, 'step': 16, 'sampling': None}\n",
      "conv_fixed_kernel (Choice)\n",
      "{'default': 3, 'conditions': [], 'values': [3, 5, 7], 'ordered': True}\n",
      "pool_size (Choice)\n",
      "{'default': 2, 'conditions': [], 'values': [2, 3, 4], 'ordered': True}\n",
      "num_cnn_layers (Int)\n",
      "{'default': None, 'conditions': [], 'min_value': 1, 'max_value': 4, 'step': 1, 'sampling': None}\n",
      "conv_1_filter (Int)\n",
      "{'default': None, 'conditions': [], 'min_value': 32, 'max_value': 512, 'step': 16, 'sampling': None}\n",
      "conv_1_kernel (Choice)\n",
      "{'default': 3, 'conditions': [], 'values': [3, 5], 'ordered': True}\n",
      "num_dense_layers (Int)\n",
      "{'default': None, 'conditions': [], 'min_value': 1, 'max_value': 3, 'step': 1, 'sampling': None}\n",
      "units_1 (Int)\n",
      "{'default': None, 'conditions': [], 'min_value': 60, 'max_value': 515, 'step': 20, 'sampling': None}\n",
      "activation (Choice)\n",
      "{'default': 'relu', 'conditions': [], 'values': ['relu', 'tanh'], 'ordered': False}\n",
      "dropout (Boolean)\n",
      "{'default': False, 'conditions': []}\n",
      "lr (Float)\n",
      "{'default': 0.0001, 'conditions': [], 'min_value': 0.0001, 'max_value': 0.01, 'step': None, 'sampling': 'log'}\n",
      "conv_2_filter (Int)\n",
      "{'default': None, 'conditions': [], 'min_value': 32, 'max_value': 512, 'step': 16, 'sampling': None}\n",
      "conv_2_kernel (Choice)\n",
      "{'default': 3, 'conditions': [], 'values': [3, 5], 'ordered': True}\n",
      "conv_3_filter (Int)\n",
      "{'default': None, 'conditions': [], 'min_value': 32, 'max_value': 512, 'step': 16, 'sampling': None}\n",
      "conv_3_kernel (Choice)\n",
      "{'default': 3, 'conditions': [], 'values': [3, 5], 'ordered': True}\n",
      "conv_4_filter (Int)\n",
      "{'default': None, 'conditions': [], 'min_value': 32, 'max_value': 512, 'step': 16, 'sampling': None}\n",
      "conv_4_kernel (Choice)\n",
      "{'default': 3, 'conditions': [], 'values': [3, 5], 'ordered': True}\n",
      "units_2 (Int)\n",
      "{'default': None, 'conditions': [], 'min_value': 60, 'max_value': 515, 'step': 20, 'sampling': None}\n",
      "units_3 (Int)\n",
      "{'default': None, 'conditions': [], 'min_value': 60, 'max_value': 515, 'step': 20, 'sampling': None}\n"
     ]
    }
   ],
   "source": [
    "tuner.search_space_summary()\n"
   ]
  },
  {
   "cell_type": "code",
   "execution_count": 156,
   "id": "ffb5f622",
   "metadata": {},
   "outputs": [
    {
     "name": "stdout",
     "output_type": "stream",
     "text": [
      "Trial 1 Complete [00h 19m 45s]\n",
      "val_accuracy: 0.7609999775886536\n",
      "\n",
      "Best val_accuracy So Far: 0.7609999775886536\n",
      "Total elapsed time: 00h 19m 45s\n",
      "\n",
      "Search: Running Trial #2\n",
      "\n",
      "Value             |Best Value So Far |Hyperparameter\n",
      "122               |52                |conv_fixed_filter\n",
      "3                 |3                 |conv_fixed_kernel\n",
      "3                 |3                 |pool_size\n",
      "1                 |4                 |num_cnn_layers\n",
      "144               |288               |conv_1_filter\n",
      "5                 |3                 |conv_1_kernel\n",
      "432               |208               |conv_2_filter\n",
      "3                 |3                 |conv_2_kernel\n",
      "368               |208               |conv_3_filter\n",
      "5                 |5                 |conv_3_kernel\n",
      "272               |96                |conv_4_filter\n",
      "3                 |3                 |conv_4_kernel\n",
      "2                 |1                 |num_dense_layers\n",
      "80                |500               |units_1\n",
      "tanh              |relu              |activation\n",
      "True              |False             |dropout\n",
      "0.75              |0.75              |rate_1\n",
      "80                |180               |units_2\n",
      "0.25              |0.25              |rate_2\n",
      "0.0014866         |0.00036238        |lr\n",
      "\n",
      "Epoch 1/400\n"
     ]
    }
   ],
   "source": [
    "tuner.search(X_train, y_train, epochs=400, validation_data=(X_valid, y_valid), \n",
    "            callbacks=[tf.keras.callbacks.EarlyStopping(monitor='val_accuracy', patience=40)], batch_size=300,use_multiprocessing=True, workers=15)\n"
   ]
  },
  {
   "cell_type": "code",
   "execution_count": 142,
   "id": "9fa56515",
   "metadata": {},
   "outputs": [
    {
     "name": "stdout",
     "output_type": "stream",
     "text": [
      "WARNING:tensorflow:Detecting that an object or model or tf.train.Checkpoint is being deleted with unrestored values. See the following logs for the specific values in question. To silence these warnings, use `status.expect_partial()`. See https://www.tensorflow.org/api_docs/python/tf/train/Checkpoint#restorefor details about the status object returned by the restore function.\n",
      "WARNING:tensorflow:Value in checkpoint could not be found in the restored object: (root).optimizer.iter\n",
      "WARNING:tensorflow:Value in checkpoint could not be found in the restored object: (root).optimizer.beta_1\n",
      "WARNING:tensorflow:Value in checkpoint could not be found in the restored object: (root).optimizer.beta_2\n",
      "WARNING:tensorflow:Value in checkpoint could not be found in the restored object: (root).optimizer.decay\n",
      "WARNING:tensorflow:Value in checkpoint could not be found in the restored object: (root).optimizer.learning_rate\n",
      "WARNING:tensorflow:Detecting that an object or model or tf.train.Checkpoint is being deleted with unrestored values. See the following logs for the specific values in question. To silence these warnings, use `status.expect_partial()`. See https://www.tensorflow.org/api_docs/python/tf/train/Checkpoint#restorefor details about the status object returned by the restore function.\n",
      "WARNING:tensorflow:Value in checkpoint could not be found in the restored object: (root).optimizer.iter\n",
      "WARNING:tensorflow:Value in checkpoint could not be found in the restored object: (root).optimizer.beta_1\n",
      "WARNING:tensorflow:Value in checkpoint could not be found in the restored object: (root).optimizer.beta_2\n",
      "WARNING:tensorflow:Value in checkpoint could not be found in the restored object: (root).optimizer.decay\n",
      "WARNING:tensorflow:Value in checkpoint could not be found in the restored object: (root).optimizer.learning_rate\n",
      "Model: \"sequential\"\n",
      "_________________________________________________________________\n",
      " Layer (type)                Output Shape              Param #   \n",
      "=================================================================\n",
      " conv2d (Conv2D)             (None, 150, 150, 32)      320       \n",
      "                                                                 \n",
      " max_pooling2d (MaxPooling2D  (None, 75, 75, 32)       0         \n",
      " )                                                               \n",
      "                                                                 \n",
      " conv2d_1 (Conv2D)           (None, 75, 75, 32)        9248      \n",
      "                                                                 \n",
      " max_pooling2d_1 (MaxPooling  (None, 37, 37, 32)       0         \n",
      " 2D)                                                             \n",
      "                                                                 \n",
      " conv2d_2 (Conv2D)           (None, 37, 37, 32)        9248      \n",
      "                                                                 \n",
      " max_pooling2d_2 (MaxPooling  (None, 18, 18, 32)       0         \n",
      " 2D)                                                             \n",
      "                                                                 \n",
      " conv2d_3 (Conv2D)           (None, 18, 18, 32)        9248      \n",
      "                                                                 \n",
      " max_pooling2d_3 (MaxPooling  (None, 9, 9, 32)         0         \n",
      " 2D)                                                             \n",
      "                                                                 \n",
      " conv2d_4 (Conv2D)           (None, 9, 9, 32)          9248      \n",
      "                                                                 \n",
      " max_pooling2d_4 (MaxPooling  (None, 4, 4, 32)         0         \n",
      " 2D)                                                             \n",
      "                                                                 \n",
      " flatten (Flatten)           (None, 512)               0         \n",
      "                                                                 \n",
      " dense (Dense)               (None, 480)               246240    \n",
      "                                                                 \n",
      " dense_1 (Dense)             (None, 60)                28860     \n",
      "                                                                 \n",
      " dense_2 (Dense)             (None, 60)                3660      \n",
      "                                                                 \n",
      " dense_3 (Dense)             (None, 48)                2928      \n",
      "                                                                 \n",
      "=================================================================\n",
      "Total params: 319,000\n",
      "Trainable params: 319,000\n",
      "Non-trainable params: 0\n",
      "_________________________________________________________________\n"
     ]
    }
   ],
   "source": [
    "# Get the top 3 models.\n",
    "models_cnn_class = tuner.get_best_models(num_models=3)\n",
    "best_model_cnn_class = models_cnn_class[0]\n",
    "# Build model\n",
    "best_model_cnn_class.build(input_shape=(None, 28, 28))\n",
    "best_model_cnn_class.summary()"
   ]
  },
  {
   "cell_type": "code",
   "execution_count": 111,
   "id": "1ba3781d",
   "metadata": {},
   "outputs": [
    {
     "name": "stdout",
     "output_type": "stream",
     "text": [
      "Results summary\n",
      "Results in Task2\\CNN\n",
      "Showing 1 best trials\n",
      "<keras_tuner.engine.objective.Objective object at 0x00000222E179C910>\n",
      "Trial summary\n",
      "Hyperparameters:\n",
      "conv_fixed_filter: 80\n",
      "conv_fixed_kernel: 3\n",
      "pool_size: 4\n",
      "num_cnn_layers: 5\n",
      "conv_1_filter: 448\n",
      "conv_1_kernel: 5\n",
      "num_dense_layers: 1\n",
      "units_1: 120\n",
      "activation: tanh\n",
      "dropout: False\n",
      "lr: 0.004511709522511237\n",
      "conv_2_filter: 256\n",
      "conv_2_kernel: 3\n",
      "conv_3_filter: 144\n",
      "conv_3_kernel: 5\n",
      "conv_4_filter: 432\n",
      "conv_4_kernel: 3\n",
      "conv_5_filter: 368\n",
      "conv_5_kernel: 5\n",
      "units_2: 300\n",
      "Score: 0.02705882303416729\n"
     ]
    }
   ],
   "source": [
    "tuner.results_summary(num_trials = 1)"
   ]
  },
  {
   "cell_type": "code",
   "execution_count": 143,
   "id": "09e2b073",
   "metadata": {},
   "outputs": [
    {
     "name": "stdout",
     "output_type": "stream",
     "text": [
      "94/94 [==============================] - 1s 5ms/step - loss: 1.3969 - accuracy: 0.6080 - clock_loss_reg_mae: 0.0186\n"
     ]
    }
   ],
   "source": [
    "best_model_cnn_class.evaluate(X_test, y_test)\n",
    "best_model_cnn_class.save(\"task2_best_cnn_classification.h5\")"
   ]
  },
  {
   "cell_type": "code",
   "execution_count": 113,
   "id": "98a5ac01",
   "metadata": {},
   "outputs": [
    {
     "ename": "ValueError",
     "evalue": "You called `set_weights(weights)` on layer \"sequential\" with a weight list of length 3, but the layer was expecting 16 weights. Provided weights: [[[[0.28853855 0.45879304 0.5113375  0.40317291 0....",
     "output_type": "error",
     "traceback": [
      "\u001b[1;31m---------------------------------------------------------------------------\u001b[0m",
      "\u001b[1;31mValueError\u001b[0m                                Traceback (most recent call last)",
      "Cell \u001b[1;32mIn [113], line 2\u001b[0m\n\u001b[0;32m      1\u001b[0m untrained_model_cnn_class \u001b[39m=\u001b[39m best_model_cnn_class\n\u001b[1;32m----> 2\u001b[0m untrained_model_cnn_class\u001b[39m.\u001b[39;49mset_weights(np\u001b[39m.\u001b[39;49mrandom\u001b[39m.\u001b[39;49mrand(\u001b[39m*\u001b[39;49mbest_model_cnn_class\u001b[39m.\u001b[39;49mget_weights()[\u001b[39m0\u001b[39;49m]\u001b[39m.\u001b[39;49mshape))\n",
      "File \u001b[1;32mc:\\Users\\felix.wente\\anaconda3\\envs\\tf2_gpu\\lib\\site-packages\\keras\\engine\\base_layer.py:1747\u001b[0m, in \u001b[0;36mLayer.set_weights\u001b[1;34m(self, weights)\u001b[0m\n\u001b[0;32m   1744\u001b[0m         expected_num_weights \u001b[39m+\u001b[39m\u001b[39m=\u001b[39m \u001b[39m1\u001b[39m\n\u001b[0;32m   1746\u001b[0m \u001b[39mif\u001b[39;00m expected_num_weights \u001b[39m!=\u001b[39m \u001b[39mlen\u001b[39m(weights):\n\u001b[1;32m-> 1747\u001b[0m     \u001b[39mraise\u001b[39;00m \u001b[39mValueError\u001b[39;00m(\n\u001b[0;32m   1748\u001b[0m         \u001b[39m'\u001b[39m\u001b[39mYou called `set_weights(weights)` on layer \u001b[39m\u001b[39m\"\u001b[39m\u001b[39m%s\u001b[39;00m\u001b[39m\"\u001b[39m\u001b[39m \u001b[39m\u001b[39m'\u001b[39m\n\u001b[0;32m   1749\u001b[0m         \u001b[39m\"\u001b[39m\u001b[39mwith a weight list of length \u001b[39m\u001b[39m%s\u001b[39;00m\u001b[39m, but the layer was \u001b[39m\u001b[39m\"\u001b[39m\n\u001b[0;32m   1750\u001b[0m         \u001b[39m\"\u001b[39m\u001b[39mexpecting \u001b[39m\u001b[39m%s\u001b[39;00m\u001b[39m weights. Provided weights: \u001b[39m\u001b[39m%s\u001b[39;00m\u001b[39m...\u001b[39m\u001b[39m\"\u001b[39m\n\u001b[0;32m   1751\u001b[0m         \u001b[39m%\u001b[39m (\n\u001b[0;32m   1752\u001b[0m             \u001b[39mself\u001b[39m\u001b[39m.\u001b[39mname,\n\u001b[0;32m   1753\u001b[0m             \u001b[39mlen\u001b[39m(weights),\n\u001b[0;32m   1754\u001b[0m             expected_num_weights,\n\u001b[0;32m   1755\u001b[0m             \u001b[39mstr\u001b[39m(weights)[:\u001b[39m50\u001b[39m],\n\u001b[0;32m   1756\u001b[0m         )\n\u001b[0;32m   1757\u001b[0m     )\n\u001b[0;32m   1759\u001b[0m weight_index \u001b[39m=\u001b[39m \u001b[39m0\u001b[39m\n\u001b[0;32m   1760\u001b[0m weight_value_tuples \u001b[39m=\u001b[39m []\n",
      "\u001b[1;31mValueError\u001b[0m: You called `set_weights(weights)` on layer \"sequential\" with a weight list of length 3, but the layer was expecting 16 weights. Provided weights: [[[[0.28853855 0.45879304 0.5113375  0.40317291 0...."
     ]
    }
   ],
   "source": [
    "untrained_model_cnn_class = best_model_cnn_class"
   ]
  },
  {
   "cell_type": "code",
   "execution_count": null,
   "id": "97dffb43",
   "metadata": {},
   "outputs": [],
   "source": [
    "layer = ['conv2d', 'conv2d_1', 'conv2d_2', 'conv2d_3', 'conv2d_4', 'conv2d_5', 'dense', 'dense_1', 'dense_2', 'dense_3']\n",
    "for i in range(len(layer)):\n",
    "    untrained_model_cnn_class.get_layer(layer[i]).set_weights([np.random.rand(*best_model_cnn_class.get_layer(layer[i]).get_weights()[0].shape),\n",
    "    np.ones(*best_model_cnn_class.get_layer(layer[i]).get_weights()[1].shape)])\n"
   ]
  },
  {
   "cell_type": "code",
   "execution_count": null,
   "id": "0de1e70a",
   "metadata": {},
   "outputs": [],
   "source": [
    "history = untrained_model_cnn_class.fit(X_train, y_train, epochs=150, verbose=1, \n",
    "                                   validation_data=(X_valid, y_valid),\n",
    "                                   callbacks=[tf.keras.callbacks.EarlyStopping(monitor='val_accuracy', patience=10)], batch_size=150)"
   ]
  },
  {
   "cell_type": "code",
   "execution_count": null,
   "id": "405856cc",
   "metadata": {},
   "outputs": [],
   "source": [
    "pd.DataFrame(history.history).plot(figsize=(8,5))\n",
    "plt.grid(True)\n",
    "#plt.gca().set_ylim(0,1) # set the vertical range to [0-1]\n",
    "plt.gca().set_xlim(0,10)\n",
    "plt.show()"
   ]
  }
 ],
 "metadata": {
  "kernelspec": {
   "display_name": "tf2_gpu",
   "language": "python",
   "name": "python3"
  },
  "language_info": {
   "codemirror_mode": {
    "name": "ipython",
    "version": 3
   },
   "file_extension": ".py",
   "mimetype": "text/x-python",
   "name": "python",
   "nbconvert_exporter": "python",
   "pygments_lexer": "ipython3",
   "version": "3.9.15"
  },
  "vscode": {
   "interpreter": {
    "hash": "465081b95da0388f01304ae56a60c88a466aa07cc2dfde89eacbd1030b57bc71"
   }
  }
 },
 "nbformat": 4,
 "nbformat_minor": 5
}
