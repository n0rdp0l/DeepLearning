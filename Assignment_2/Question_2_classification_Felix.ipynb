{
 "cells": [
  {
   "cell_type": "code",
   "execution_count": 2,
   "id": "e38945d3",
   "metadata": {},
   "outputs": [],
   "source": [
    "import tensorflow as tf\n",
    "from tensorflow import keras\n",
    "import pandas as pd\n",
    "import matplotlib.pyplot as plt\n",
    "import numpy as np\n",
    "import keras_tuner\n",
    "from tensorflow.keras import layers\n",
    "import keras.backend as K"
   ]
  },
  {
   "cell_type": "code",
   "execution_count": 3,
   "id": "a0825904",
   "metadata": {},
   "outputs": [],
   "source": [
    "data_in = np.load(\"Data/images.npy\")\n",
    "data_out = np.load(\"Data/labels.npy\")"
   ]
  },
  {
   "cell_type": "code",
   "execution_count": 4,
   "id": "1ddb75d1",
   "metadata": {},
   "outputs": [],
   "source": [
    "def convert_to_num(hour, minute):\n",
    "    num = hour+minute/60\n",
    "    return num\n",
    "\n",
    "def group(num):\n",
    "    array = np.zeros(48)\n",
    "    category = num//0.25\n",
    "    category = int(category)\n",
    "    array[category]=1\n",
    "    return array\n",
    "    \n",
    "def unison_shuffled_copies(a, b):\n",
    "    assert len(a) == len(b)\n",
    "    p = np.random.permutation(len(a))\n",
    "    return a[p], b[p]\n",
    "\n"
   ]
  },
  {
   "cell_type": "code",
   "execution_count": 5,
   "id": "5de53f4b",
   "metadata": {},
   "outputs": [],
   "source": [
    "def clock_loss_class_mae(y_true, y_pred):\n",
    "    absdiff = K.abs(y_pred - y_true)\n",
    "    norm_c = absdiff <= 6\n",
    "    norm_c = tf.cast(norm_c, tf.float32)\n",
    "    round_c = absdiff > 6\n",
    "    round_c = tf.cast(round_c, tf.float32)\n",
    "    normdiff = K.abs(y_pred - y_true)\n",
    "    rounddiff = 12 - K.abs((y_pred - y_true))\n",
    "    \n",
    "    diff = norm_c * normdiff + round_c * rounddiff\n",
    "    mae = K.mean(K.abs(diff))\n",
    "    return mae"
   ]
  },
  {
   "cell_type": "code",
   "execution_count": 6,
   "id": "7a9473e6",
   "metadata": {},
   "outputs": [
    {
     "data": {
      "text/plain": [
       "<keras.engine.sequential.Sequential at 0x2c4470f3e80>"
      ]
     },
     "execution_count": 6,
     "metadata": {},
     "output_type": "execute_result"
    }
   ],
   "source": [
    "def build_model_cnn(hp):\n",
    "    model = keras.Sequential()\n",
    "    model.add(layers.Conv2D(\n",
    "        #adding filter \n",
    "        filters=hp.Int('conv_fixed_filter',default=96, min_value=32, max_value=128, step=10),\n",
    "        # adding kernel size\n",
    "        kernel_size=hp.Choice('conv_fixed_kernel', values = [3,5,7]),\n",
    "        #activation function\n",
    "        activation='relu',\n",
    "        input_shape=[150,150,1],\n",
    "        padding='same',)\n",
    "    )\n",
    "    model.add(\n",
    "    layers.MaxPooling2D(pool_size = hp.Choice('pool_size', values = [2,3,4]),\n",
    "    ),\n",
    "    )\n",
    "    # Tune the number of layers.\n",
    "    for i in range(hp.Int(\"num_cnn_layers\",default=4, min_value=1, max_value=4)):\n",
    "        if i == 0:\n",
    "            model.add(\n",
    "                layers.Conv2D(\n",
    "                    #adding filter \n",
    "                    filters=hp.Int(f'conv_{i+1}_filter',default=256, min_value=32, max_value=512, step=16),\n",
    "                    # adding kernel size\n",
    "                    kernel_size=hp.Choice(f'conv_{i+1}_kernel', values = [3,5]),\n",
    "                    #activation function\n",
    "                    activation='relu',\n",
    "                    padding='same'),\n",
    "            )\n",
    "\n",
    "        elif i == 1:\n",
    "            model.add(\n",
    "                layers.Conv2D(\n",
    "                    #adding filter \n",
    "                    filters=hp.Int(f'conv_{i+1}_filter',default=348, min_value=32, max_value=512, step=16),\n",
    "                    # adding kernel size\n",
    "                    kernel_size=hp.Choice(f'conv_{i+1}_kernel', values = [3,5]),\n",
    "                    #activation function\n",
    "                    activation='relu',\n",
    "                    padding='same'),\n",
    "            )\n",
    "\n",
    "        elif i == 2:\n",
    "            model.add(\n",
    "                layers.Conv2D(\n",
    "                    #adding filter \n",
    "                    filters=hp.Int(f'conv_{i+1}_filter',default=348, min_value=32, max_value=512, step=16),\n",
    "                    # adding kernel size\n",
    "                    kernel_size=hp.Choice(f'conv_{i+1}_kernel', values = [3,5]),\n",
    "                    #activation function\n",
    "                    activation='relu',\n",
    "                    padding='same'),\n",
    "            )\n",
    "\n",
    "        else:\n",
    "            model.add(\n",
    "                layers.Conv2D(\n",
    "                    #adding filter \n",
    "                    filters=hp.Int(f'conv_{i+1}_filter',default=256, min_value=32, max_value=512, step=16),\n",
    "                    # adding kernel size\n",
    "                    kernel_size=hp.Choice(f'conv_{i+1}_kernel', values = [3,5]),\n",
    "                    #activation function\n",
    "                    activation='relu',\n",
    "                    padding='same'),\n",
    "            )\n",
    "\n",
    "        model.add(\n",
    "            layers.MaxPooling2D(\n",
    "                pool_size = 2\n",
    "            ),\n",
    "            )\n",
    "                \n",
    "    model.add(layers.Flatten())        \n",
    "\n",
    "    for i in range(hp.Int(\"num_dense_layers\", default=2, min_value=1, max_value=3)):\n",
    "        if i == 0:\n",
    "            model.add(\n",
    "                layers.Dense(\n",
    "                    units=hp.Int(f\"units_{i+1}\",default=128, min_value=60, max_value=515, step=20),\n",
    "                    activation=hp.Choice(\"activation\", [\"relu\", \"tanh\"]),),\n",
    "            )\n",
    "        \n",
    "        elif i == 1:\n",
    "            model.add(\n",
    "                layers.Dense(\n",
    "                    units=hp.Int(f\"units_{i+1}\",default=60, min_value=60, max_value=515, step=20),\n",
    "                    activation=hp.Choice(\"activation\", [\"relu\", \"tanh\"]),),\n",
    "            )\n",
    "\n",
    "        else:\n",
    "            model.add(\n",
    "                layers.Dense(\n",
    "                    units=hp.Int(f\"units_{i+1}\",default=60, min_value=60, max_value=515, step=20),\n",
    "                    activation=hp.Choice(\"activation\", [\"relu\", \"tanh\"]),),\n",
    "            )\n",
    "\n",
    "        if hp.Boolean(f\"dropout_{i+1}\", default=True):\n",
    "            model.add(layers.Dropout(rate=hp.Choice(f'rate_{i+1}', default=0.25, values = [0.25,0.5,0.75])))\n",
    "    \n",
    "    model.add(layers.Dense(48, activation=\"softmax\"))\n",
    "\n",
    "    learning_rate = hp.Float(\"lr\", min_value=1e-4, max_value=1e-2, sampling=\"log\")\n",
    "    model.compile(\n",
    "        optimizer=keras.optimizers.RMSprop(learning_rate=learning_rate),\n",
    "        loss=\"categorical_crossentropy\", \n",
    "        metrics=[\"accuracy\", clock_loss_class_mae],\n",
    "    )\n",
    "    return model\n",
    "\n",
    "build_model_cnn(keras_tuner.HyperParameters())"
   ]
  },
  {
   "cell_type": "code",
   "execution_count": 7,
   "id": "e990cad0",
   "metadata": {},
   "outputs": [],
   "source": [
    "data_in, data_out = unison_shuffled_copies(data_in, data_out)"
   ]
  },
  {
   "cell_type": "code",
   "execution_count": 8,
   "id": "d545fddb",
   "metadata": {},
   "outputs": [],
   "source": [
    "class_out = []\n",
    "for i in range(len(data_out)):\n",
    "    hour = data_out[i][0]\n",
    "    minute = data_out[i][1]\n",
    "    hr_min_num = convert_to_num(hour, minute)\n",
    "    hr_min_class = group(hr_min_num)\n",
    "    class_out.append(hr_min_class)\n",
    "class_out = np.array(class_out)"
   ]
  },
  {
   "cell_type": "code",
   "execution_count": 9,
   "id": "b910e5b2",
   "metadata": {},
   "outputs": [],
   "source": [
    "X_test, X_train, X_valid = data_in[12000:15000]/np.amax(data_in), data_in[:12000]/np.amax(data_in), data_in[15000:]/np.amax(data_in)\n",
    "y_test, y_train, y_valid = class_out[12000:15000], class_out[:12000], class_out[15000:]"
   ]
  },
  {
   "cell_type": "code",
   "execution_count": 12,
   "id": "3cdb8bb3",
   "metadata": {},
   "outputs": [
    {
     "name": "stdout",
     "output_type": "stream",
     "text": [
      "INFO:tensorflow:Reloading Oracle from existing project Task2\\CNN3\\oracle.json\n",
      "INFO:tensorflow:Reloading Tuner from Task2\\CNN3\\tuner0.json\n"
     ]
    }
   ],
   "source": [
    "hp = keras_tuner.HyperParameters()\n",
    "\n",
    "tuner = keras_tuner.BayesianOptimization(\n",
    "    hypermodel=build_model_cnn,\n",
    "    objective=\"val_accuracy\",\n",
    "    max_trials=30,\n",
    "    num_initial_points=2,\n",
    "    seed=90,\n",
    "    directory=\"Task2\",\n",
    "    project_name=\"CNN3\",\n",
    "    #overwrite=True,\n",
    "    #executions_per_trial,\n",
    ")"
   ]
  },
  {
   "cell_type": "code",
   "execution_count": 166,
   "id": "40cacd55",
   "metadata": {},
   "outputs": [
    {
     "name": "stdout",
     "output_type": "stream",
     "text": [
      "Search space summary\n",
      "Default search space size: 20\n",
      "conv_fixed_filter (Int)\n",
      "{'default': 96, 'conditions': [], 'min_value': 32, 'max_value': 128, 'step': 10, 'sampling': None}\n",
      "conv_fixed_kernel (Choice)\n",
      "{'default': 3, 'conditions': [], 'values': [3, 5, 7], 'ordered': True}\n",
      "pool_size (Choice)\n",
      "{'default': 2, 'conditions': [], 'values': [2, 3, 4], 'ordered': True}\n",
      "num_cnn_layers (Int)\n",
      "{'default': 4, 'conditions': [], 'min_value': 1, 'max_value': 4, 'step': 1, 'sampling': None}\n",
      "conv_1_filter (Int)\n",
      "{'default': 256, 'conditions': [], 'min_value': 32, 'max_value': 512, 'step': 16, 'sampling': None}\n",
      "conv_1_kernel (Choice)\n",
      "{'default': 3, 'conditions': [], 'values': [3, 5], 'ordered': True}\n",
      "conv_2_filter (Int)\n",
      "{'default': 256, 'conditions': [], 'min_value': 32, 'max_value': 512, 'step': 16, 'sampling': None}\n",
      "conv_2_kernel (Choice)\n",
      "{'default': 3, 'conditions': [], 'values': [3, 5], 'ordered': True}\n",
      "conv_3_filter (Int)\n",
      "{'default': 348, 'conditions': [], 'min_value': 32, 'max_value': 512, 'step': 16, 'sampling': None}\n",
      "conv_3_kernel (Choice)\n",
      "{'default': 3, 'conditions': [], 'values': [3, 5], 'ordered': True}\n",
      "conv_4_filter (Int)\n",
      "{'default': 348, 'conditions': [], 'min_value': 32, 'max_value': 512, 'step': 16, 'sampling': None}\n",
      "conv_4_kernel (Choice)\n",
      "{'default': 3, 'conditions': [], 'values': [3, 5], 'ordered': True}\n",
      "num_dense_layers (Int)\n",
      "{'default': 2, 'conditions': [], 'min_value': 1, 'max_value': 3, 'step': 1, 'sampling': None}\n",
      "units_1 (Int)\n",
      "{'default': 60, 'conditions': [], 'min_value': 60, 'max_value': 515, 'step': 20, 'sampling': None}\n",
      "activation (Choice)\n",
      "{'default': 'relu', 'conditions': [], 'values': ['relu', 'tanh'], 'ordered': False}\n",
      "dropout (Boolean)\n",
      "{'default': True, 'conditions': []}\n",
      "rate_1 (Choice)\n",
      "{'default': 0.25, 'conditions': [], 'values': [0.25, 0.5, 0.75], 'ordered': True}\n",
      "units_2 (Int)\n",
      "{'default': 128, 'conditions': [], 'min_value': 60, 'max_value': 515, 'step': 20, 'sampling': None}\n",
      "rate_2 (Choice)\n",
      "{'default': 0.25, 'conditions': [], 'values': [0.25, 0.5, 0.75], 'ordered': True}\n",
      "lr (Float)\n",
      "{'default': 0.0001, 'conditions': [], 'min_value': 0.0001, 'max_value': 0.01, 'step': None, 'sampling': 'log'}\n"
     ]
    }
   ],
   "source": [
    "tuner.search_space_summary()\n"
   ]
  },
  {
   "cell_type": "code",
   "execution_count": 167,
   "id": "ffb5f622",
   "metadata": {},
   "outputs": [
    {
     "name": "stdout",
     "output_type": "stream",
     "text": [
      "Trial 1 Complete [00h 18m 02s]\n",
      "val_accuracy: 0.7576666474342346\n",
      "\n",
      "Best val_accuracy So Far: 0.7576666474342346\n",
      "Total elapsed time: 00h 18m 02s\n",
      "\n",
      "Search: Running Trial #2\n",
      "\n",
      "Value             |Best Value So Far |Hyperparameter\n",
      "122               |52                |conv_fixed_filter\n",
      "3                 |3                 |conv_fixed_kernel\n",
      "3                 |3                 |pool_size\n",
      "1                 |4                 |num_cnn_layers\n",
      "144               |288               |conv_1_filter\n",
      "5                 |3                 |conv_1_kernel\n",
      "432               |208               |conv_2_filter\n",
      "3                 |3                 |conv_2_kernel\n",
      "368               |208               |conv_3_filter\n",
      "5                 |5                 |conv_3_kernel\n",
      "272               |96                |conv_4_filter\n",
      "3                 |3                 |conv_4_kernel\n",
      "2                 |1                 |num_dense_layers\n",
      "80                |500               |units_1\n",
      "tanh              |relu              |activation\n",
      "True              |False             |dropout\n",
      "0.75              |0.75              |rate_1\n",
      "80                |180               |units_2\n",
      "0.25              |0.25              |rate_2\n",
      "0.0014866         |0.00036238        |lr\n",
      "\n",
      "Epoch 1/400\n",
      " 6/40 [===>..........................] - ETA: 6s - loss: 4.2460 - accuracy: 0.0150 - clock_loss_reg_mae: 0.0408WARNING:tensorflow:Callback method `on_train_batch_end` is slow compared to the batch time (batch time: 0.0094s vs `on_train_batch_end` time: 0.2025s). Check your callbacks.\n",
      "14/40 [=========>....................] - ETA: 5s - loss: 4.2475 - accuracy: 0.0188 - clock_loss_reg_mae: 0.0408"
     ]
    },
    {
     "ename": "KeyboardInterrupt",
     "evalue": "",
     "output_type": "error",
     "traceback": [
      "\u001b[1;31m---------------------------------------------------------------------------\u001b[0m",
      "\u001b[1;31mKeyboardInterrupt\u001b[0m                         Traceback (most recent call last)",
      "Cell \u001b[1;32mIn [167], line 1\u001b[0m\n\u001b[1;32m----> 1\u001b[0m tuner\u001b[39m.\u001b[39;49msearch(X_train, y_train, epochs\u001b[39m=\u001b[39;49m\u001b[39m400\u001b[39;49m, validation_data\u001b[39m=\u001b[39;49m(X_valid, y_valid),\n\u001b[0;32m      2\u001b[0m             callbacks\u001b[39m=\u001b[39;49m[tf\u001b[39m.\u001b[39;49mkeras\u001b[39m.\u001b[39;49mcallbacks\u001b[39m.\u001b[39;49mEarlyStopping(monitor\u001b[39m=\u001b[39;49m\u001b[39m'\u001b[39;49m\u001b[39mval_accuracy\u001b[39;49m\u001b[39m'\u001b[39;49m, patience\u001b[39m=\u001b[39;49m\u001b[39m25\u001b[39;49m)], batch_size\u001b[39m=\u001b[39;49m\u001b[39m300\u001b[39;49m,use_multiprocessing\u001b[39m=\u001b[39;49m\u001b[39mTrue\u001b[39;49;00m, workers\u001b[39m=\u001b[39;49m\u001b[39m15\u001b[39;49m)\n",
      "File \u001b[1;32mc:\\Users\\felix.wente\\anaconda3\\envs\\tf2_gpu\\lib\\site-packages\\keras_tuner\\engine\\base_tuner.py:183\u001b[0m, in \u001b[0;36mBaseTuner.search\u001b[1;34m(self, *fit_args, **fit_kwargs)\u001b[0m\n\u001b[0;32m    180\u001b[0m     \u001b[39mcontinue\u001b[39;00m\n\u001b[0;32m    182\u001b[0m \u001b[39mself\u001b[39m\u001b[39m.\u001b[39mon_trial_begin(trial)\n\u001b[1;32m--> 183\u001b[0m results \u001b[39m=\u001b[39m \u001b[39mself\u001b[39m\u001b[39m.\u001b[39mrun_trial(trial, \u001b[39m*\u001b[39mfit_args, \u001b[39m*\u001b[39m\u001b[39m*\u001b[39mfit_kwargs)\n\u001b[0;32m    184\u001b[0m \u001b[39m# `results` is None indicates user updated oracle in `run_trial()`.\u001b[39;00m\n\u001b[0;32m    185\u001b[0m \u001b[39mif\u001b[39;00m results \u001b[39mis\u001b[39;00m \u001b[39mNone\u001b[39;00m:\n",
      "File \u001b[1;32mc:\\Users\\felix.wente\\anaconda3\\envs\\tf2_gpu\\lib\\site-packages\\keras_tuner\\engine\\tuner.py:295\u001b[0m, in \u001b[0;36mTuner.run_trial\u001b[1;34m(self, trial, *args, **kwargs)\u001b[0m\n\u001b[0;32m    293\u001b[0m     callbacks\u001b[39m.\u001b[39mappend(model_checkpoint)\n\u001b[0;32m    294\u001b[0m     copied_kwargs[\u001b[39m\"\u001b[39m\u001b[39mcallbacks\u001b[39m\u001b[39m\"\u001b[39m] \u001b[39m=\u001b[39m callbacks\n\u001b[1;32m--> 295\u001b[0m     obj_value \u001b[39m=\u001b[39m \u001b[39mself\u001b[39m\u001b[39m.\u001b[39m_build_and_fit_model(trial, \u001b[39m*\u001b[39margs, \u001b[39m*\u001b[39m\u001b[39m*\u001b[39mcopied_kwargs)\n\u001b[0;32m    297\u001b[0m     histories\u001b[39m.\u001b[39mappend(obj_value)\n\u001b[0;32m    298\u001b[0m \u001b[39mreturn\u001b[39;00m histories\n",
      "File \u001b[1;32mc:\\Users\\felix.wente\\anaconda3\\envs\\tf2_gpu\\lib\\site-packages\\keras_tuner\\engine\\tuner.py:222\u001b[0m, in \u001b[0;36mTuner._build_and_fit_model\u001b[1;34m(self, trial, *args, **kwargs)\u001b[0m\n\u001b[0;32m    220\u001b[0m hp \u001b[39m=\u001b[39m trial\u001b[39m.\u001b[39mhyperparameters\n\u001b[0;32m    221\u001b[0m model \u001b[39m=\u001b[39m \u001b[39mself\u001b[39m\u001b[39m.\u001b[39m_try_build(hp)\n\u001b[1;32m--> 222\u001b[0m results \u001b[39m=\u001b[39m \u001b[39mself\u001b[39m\u001b[39m.\u001b[39mhypermodel\u001b[39m.\u001b[39mfit(hp, model, \u001b[39m*\u001b[39margs, \u001b[39m*\u001b[39m\u001b[39m*\u001b[39mkwargs)\n\u001b[0;32m    223\u001b[0m tuner_utils\u001b[39m.\u001b[39mvalidate_trial_results(\n\u001b[0;32m    224\u001b[0m     results, \u001b[39mself\u001b[39m\u001b[39m.\u001b[39moracle\u001b[39m.\u001b[39mobjective, \u001b[39m\"\u001b[39m\u001b[39mHyperModel.fit()\u001b[39m\u001b[39m\"\u001b[39m\n\u001b[0;32m    225\u001b[0m )\n\u001b[0;32m    226\u001b[0m \u001b[39mreturn\u001b[39;00m results\n",
      "File \u001b[1;32mc:\\Users\\felix.wente\\anaconda3\\envs\\tf2_gpu\\lib\\site-packages\\keras_tuner\\engine\\hypermodel.py:140\u001b[0m, in \u001b[0;36mHyperModel.fit\u001b[1;34m(self, hp, model, *args, **kwargs)\u001b[0m\n\u001b[0;32m    116\u001b[0m \u001b[39mdef\u001b[39;00m \u001b[39mfit\u001b[39m(\u001b[39mself\u001b[39m, hp, model, \u001b[39m*\u001b[39margs, \u001b[39m*\u001b[39m\u001b[39m*\u001b[39mkwargs):\n\u001b[0;32m    117\u001b[0m     \u001b[39m\"\"\"Train the model.\u001b[39;00m\n\u001b[0;32m    118\u001b[0m \n\u001b[0;32m    119\u001b[0m \u001b[39m    Args:\u001b[39;00m\n\u001b[1;32m   (...)\u001b[0m\n\u001b[0;32m    138\u001b[0m \u001b[39m        If return a float, it should be the `objective` value.\u001b[39;00m\n\u001b[0;32m    139\u001b[0m \u001b[39m    \"\"\"\u001b[39;00m\n\u001b[1;32m--> 140\u001b[0m     \u001b[39mreturn\u001b[39;00m model\u001b[39m.\u001b[39mfit(\u001b[39m*\u001b[39margs, \u001b[39m*\u001b[39m\u001b[39m*\u001b[39mkwargs)\n",
      "File \u001b[1;32mc:\\Users\\felix.wente\\anaconda3\\envs\\tf2_gpu\\lib\\site-packages\\keras\\utils\\traceback_utils.py:65\u001b[0m, in \u001b[0;36mfilter_traceback.<locals>.error_handler\u001b[1;34m(*args, **kwargs)\u001b[0m\n\u001b[0;32m     63\u001b[0m filtered_tb \u001b[39m=\u001b[39m \u001b[39mNone\u001b[39;00m\n\u001b[0;32m     64\u001b[0m \u001b[39mtry\u001b[39;00m:\n\u001b[1;32m---> 65\u001b[0m     \u001b[39mreturn\u001b[39;00m fn(\u001b[39m*\u001b[39margs, \u001b[39m*\u001b[39m\u001b[39m*\u001b[39mkwargs)\n\u001b[0;32m     66\u001b[0m \u001b[39mexcept\u001b[39;00m \u001b[39mException\u001b[39;00m \u001b[39mas\u001b[39;00m e:\n\u001b[0;32m     67\u001b[0m     filtered_tb \u001b[39m=\u001b[39m _process_traceback_frames(e\u001b[39m.\u001b[39m__traceback__)\n",
      "File \u001b[1;32mc:\\Users\\felix.wente\\anaconda3\\envs\\tf2_gpu\\lib\\site-packages\\keras\\engine\\training.py:1570\u001b[0m, in \u001b[0;36mModel.fit\u001b[1;34m(self, x, y, batch_size, epochs, verbose, callbacks, validation_split, validation_data, shuffle, class_weight, sample_weight, initial_epoch, steps_per_epoch, validation_steps, validation_batch_size, validation_freq, max_queue_size, workers, use_multiprocessing)\u001b[0m\n\u001b[0;32m   1568\u001b[0m logs \u001b[39m=\u001b[39m tmp_logs\n\u001b[0;32m   1569\u001b[0m end_step \u001b[39m=\u001b[39m step \u001b[39m+\u001b[39m data_handler\u001b[39m.\u001b[39mstep_increment\n\u001b[1;32m-> 1570\u001b[0m callbacks\u001b[39m.\u001b[39;49mon_train_batch_end(end_step, logs)\n\u001b[0;32m   1571\u001b[0m \u001b[39mif\u001b[39;00m \u001b[39mself\u001b[39m\u001b[39m.\u001b[39mstop_training:\n\u001b[0;32m   1572\u001b[0m     \u001b[39mbreak\u001b[39;00m\n",
      "File \u001b[1;32mc:\\Users\\felix.wente\\anaconda3\\envs\\tf2_gpu\\lib\\site-packages\\keras\\callbacks.py:470\u001b[0m, in \u001b[0;36mCallbackList.on_train_batch_end\u001b[1;34m(self, batch, logs)\u001b[0m\n\u001b[0;32m    463\u001b[0m \u001b[39m\"\"\"Calls the `on_train_batch_end` methods of its callbacks.\u001b[39;00m\n\u001b[0;32m    464\u001b[0m \n\u001b[0;32m    465\u001b[0m \u001b[39mArgs:\u001b[39;00m\n\u001b[0;32m    466\u001b[0m \u001b[39m    batch: Integer, index of batch within the current epoch.\u001b[39;00m\n\u001b[0;32m    467\u001b[0m \u001b[39m    logs: Dict. Aggregated metric results up until this batch.\u001b[39;00m\n\u001b[0;32m    468\u001b[0m \u001b[39m\"\"\"\u001b[39;00m\n\u001b[0;32m    469\u001b[0m \u001b[39mif\u001b[39;00m \u001b[39mself\u001b[39m\u001b[39m.\u001b[39m_should_call_train_batch_hooks:\n\u001b[1;32m--> 470\u001b[0m     \u001b[39mself\u001b[39;49m\u001b[39m.\u001b[39;49m_call_batch_hook(ModeKeys\u001b[39m.\u001b[39;49mTRAIN, \u001b[39m\"\u001b[39;49m\u001b[39mend\u001b[39;49m\u001b[39m\"\u001b[39;49m, batch, logs\u001b[39m=\u001b[39;49mlogs)\n",
      "File \u001b[1;32mc:\\Users\\felix.wente\\anaconda3\\envs\\tf2_gpu\\lib\\site-packages\\keras\\callbacks.py:317\u001b[0m, in \u001b[0;36mCallbackList._call_batch_hook\u001b[1;34m(self, mode, hook, batch, logs)\u001b[0m\n\u001b[0;32m    315\u001b[0m     \u001b[39mself\u001b[39m\u001b[39m.\u001b[39m_call_batch_begin_hook(mode, batch, logs)\n\u001b[0;32m    316\u001b[0m \u001b[39melif\u001b[39;00m hook \u001b[39m==\u001b[39m \u001b[39m\"\u001b[39m\u001b[39mend\u001b[39m\u001b[39m\"\u001b[39m:\n\u001b[1;32m--> 317\u001b[0m     \u001b[39mself\u001b[39;49m\u001b[39m.\u001b[39;49m_call_batch_end_hook(mode, batch, logs)\n\u001b[0;32m    318\u001b[0m \u001b[39melse\u001b[39;00m:\n\u001b[0;32m    319\u001b[0m     \u001b[39mraise\u001b[39;00m \u001b[39mValueError\u001b[39;00m(\n\u001b[0;32m    320\u001b[0m         \u001b[39mf\u001b[39m\u001b[39m\"\u001b[39m\u001b[39mUnrecognized hook: \u001b[39m\u001b[39m{\u001b[39;00mhook\u001b[39m}\u001b[39;00m\u001b[39m. \u001b[39m\u001b[39m\"\u001b[39m\n\u001b[0;32m    321\u001b[0m         \u001b[39m'\u001b[39m\u001b[39mExpected values are [\u001b[39m\u001b[39m\"\u001b[39m\u001b[39mbegin\u001b[39m\u001b[39m\"\u001b[39m\u001b[39m, \u001b[39m\u001b[39m\"\u001b[39m\u001b[39mend\u001b[39m\u001b[39m\"\u001b[39m\u001b[39m]\u001b[39m\u001b[39m'\u001b[39m\n\u001b[0;32m    322\u001b[0m     )\n",
      "File \u001b[1;32mc:\\Users\\felix.wente\\anaconda3\\envs\\tf2_gpu\\lib\\site-packages\\keras\\callbacks.py:340\u001b[0m, in \u001b[0;36mCallbackList._call_batch_end_hook\u001b[1;34m(self, mode, batch, logs)\u001b[0m\n\u001b[0;32m    337\u001b[0m     batch_time \u001b[39m=\u001b[39m time\u001b[39m.\u001b[39mtime() \u001b[39m-\u001b[39m \u001b[39mself\u001b[39m\u001b[39m.\u001b[39m_batch_start_time\n\u001b[0;32m    338\u001b[0m     \u001b[39mself\u001b[39m\u001b[39m.\u001b[39m_batch_times\u001b[39m.\u001b[39mappend(batch_time)\n\u001b[1;32m--> 340\u001b[0m \u001b[39mself\u001b[39;49m\u001b[39m.\u001b[39;49m_call_batch_hook_helper(hook_name, batch, logs)\n\u001b[0;32m    342\u001b[0m \u001b[39mif\u001b[39;00m \u001b[39mlen\u001b[39m(\u001b[39mself\u001b[39m\u001b[39m.\u001b[39m_batch_times) \u001b[39m>\u001b[39m\u001b[39m=\u001b[39m \u001b[39mself\u001b[39m\u001b[39m.\u001b[39m_num_batches_for_timing_check:\n\u001b[0;32m    343\u001b[0m     end_hook_name \u001b[39m=\u001b[39m hook_name\n",
      "File \u001b[1;32mc:\\Users\\felix.wente\\anaconda3\\envs\\tf2_gpu\\lib\\site-packages\\keras\\callbacks.py:385\u001b[0m, in \u001b[0;36mCallbackList._call_batch_hook_helper\u001b[1;34m(self, hook_name, batch, logs)\u001b[0m\n\u001b[0;32m    382\u001b[0m \u001b[39mif\u001b[39;00m \u001b[39mself\u001b[39m\u001b[39m.\u001b[39m_check_timing:\n\u001b[0;32m    383\u001b[0m     start_time \u001b[39m=\u001b[39m time\u001b[39m.\u001b[39mtime()\n\u001b[1;32m--> 385\u001b[0m logs \u001b[39m=\u001b[39m \u001b[39mself\u001b[39;49m\u001b[39m.\u001b[39;49m_process_logs(logs, is_batch_hook\u001b[39m=\u001b[39;49m\u001b[39mTrue\u001b[39;49;00m)\n\u001b[0;32m    386\u001b[0m \u001b[39mfor\u001b[39;00m callback \u001b[39min\u001b[39;00m \u001b[39mself\u001b[39m\u001b[39m.\u001b[39mcallbacks:\n\u001b[0;32m    387\u001b[0m     hook \u001b[39m=\u001b[39m \u001b[39mgetattr\u001b[39m(callback, hook_name)\n",
      "File \u001b[1;32mc:\\Users\\felix.wente\\anaconda3\\envs\\tf2_gpu\\lib\\site-packages\\keras\\callbacks.py:292\u001b[0m, in \u001b[0;36mCallbackList._process_logs\u001b[1;34m(self, logs, is_batch_hook)\u001b[0m\n\u001b[0;32m    290\u001b[0m \u001b[39mif\u001b[39;00m is_batch_hook \u001b[39mand\u001b[39;00m \u001b[39mself\u001b[39m\u001b[39m.\u001b[39m_batch_hooks_support_tf_logs:\n\u001b[0;32m    291\u001b[0m     \u001b[39mreturn\u001b[39;00m logs\n\u001b[1;32m--> 292\u001b[0m \u001b[39mreturn\u001b[39;00m tf_utils\u001b[39m.\u001b[39;49msync_to_numpy_or_python_type(logs)\n",
      "File \u001b[1;32mc:\\Users\\felix.wente\\anaconda3\\envs\\tf2_gpu\\lib\\site-packages\\keras\\utils\\tf_utils.py:635\u001b[0m, in \u001b[0;36msync_to_numpy_or_python_type\u001b[1;34m(tensors)\u001b[0m\n\u001b[0;32m    632\u001b[0m         \u001b[39mreturn\u001b[39;00m t\n\u001b[0;32m    633\u001b[0m     \u001b[39mreturn\u001b[39;00m t\u001b[39m.\u001b[39mitem() \u001b[39mif\u001b[39;00m np\u001b[39m.\u001b[39mndim(t) \u001b[39m==\u001b[39m \u001b[39m0\u001b[39m \u001b[39melse\u001b[39;00m t\n\u001b[1;32m--> 635\u001b[0m \u001b[39mreturn\u001b[39;00m tf\u001b[39m.\u001b[39;49mnest\u001b[39m.\u001b[39;49mmap_structure(_to_single_numpy_or_python_type, tensors)\n",
      "File \u001b[1;32m~\\AppData\\Roaming\\Python\\Python39\\site-packages\\tensorflow\\python\\util\\nest.py:917\u001b[0m, in \u001b[0;36mmap_structure\u001b[1;34m(func, *structure, **kwargs)\u001b[0m\n\u001b[0;32m    913\u001b[0m flat_structure \u001b[39m=\u001b[39m (flatten(s, expand_composites) \u001b[39mfor\u001b[39;00m s \u001b[39min\u001b[39;00m structure)\n\u001b[0;32m    914\u001b[0m entries \u001b[39m=\u001b[39m \u001b[39mzip\u001b[39m(\u001b[39m*\u001b[39mflat_structure)\n\u001b[0;32m    916\u001b[0m \u001b[39mreturn\u001b[39;00m pack_sequence_as(\n\u001b[1;32m--> 917\u001b[0m     structure[\u001b[39m0\u001b[39m], [func(\u001b[39m*\u001b[39mx) \u001b[39mfor\u001b[39;00m x \u001b[39min\u001b[39;00m entries],\n\u001b[0;32m    918\u001b[0m     expand_composites\u001b[39m=\u001b[39mexpand_composites)\n",
      "File \u001b[1;32m~\\AppData\\Roaming\\Python\\Python39\\site-packages\\tensorflow\\python\\util\\nest.py:917\u001b[0m, in \u001b[0;36m<listcomp>\u001b[1;34m(.0)\u001b[0m\n\u001b[0;32m    913\u001b[0m flat_structure \u001b[39m=\u001b[39m (flatten(s, expand_composites) \u001b[39mfor\u001b[39;00m s \u001b[39min\u001b[39;00m structure)\n\u001b[0;32m    914\u001b[0m entries \u001b[39m=\u001b[39m \u001b[39mzip\u001b[39m(\u001b[39m*\u001b[39mflat_structure)\n\u001b[0;32m    916\u001b[0m \u001b[39mreturn\u001b[39;00m pack_sequence_as(\n\u001b[1;32m--> 917\u001b[0m     structure[\u001b[39m0\u001b[39m], [func(\u001b[39m*\u001b[39;49mx) \u001b[39mfor\u001b[39;00m x \u001b[39min\u001b[39;00m entries],\n\u001b[0;32m    918\u001b[0m     expand_composites\u001b[39m=\u001b[39mexpand_composites)\n",
      "File \u001b[1;32mc:\\Users\\felix.wente\\anaconda3\\envs\\tf2_gpu\\lib\\site-packages\\keras\\utils\\tf_utils.py:628\u001b[0m, in \u001b[0;36msync_to_numpy_or_python_type.<locals>._to_single_numpy_or_python_type\u001b[1;34m(t)\u001b[0m\n\u001b[0;32m    625\u001b[0m \u001b[39mdef\u001b[39;00m \u001b[39m_to_single_numpy_or_python_type\u001b[39m(t):\n\u001b[0;32m    626\u001b[0m     \u001b[39m# Don't turn ragged or sparse tensors to NumPy.\u001b[39;00m\n\u001b[0;32m    627\u001b[0m     \u001b[39mif\u001b[39;00m \u001b[39misinstance\u001b[39m(t, tf\u001b[39m.\u001b[39mTensor):\n\u001b[1;32m--> 628\u001b[0m         t \u001b[39m=\u001b[39m t\u001b[39m.\u001b[39;49mnumpy()\n\u001b[0;32m    629\u001b[0m     \u001b[39m# Strings, ragged and sparse tensors don't have .item(). Return them\u001b[39;00m\n\u001b[0;32m    630\u001b[0m     \u001b[39m# as-is.\u001b[39;00m\n\u001b[0;32m    631\u001b[0m     \u001b[39mif\u001b[39;00m \u001b[39mnot\u001b[39;00m \u001b[39misinstance\u001b[39m(t, (np\u001b[39m.\u001b[39mndarray, np\u001b[39m.\u001b[39mgeneric)):\n",
      "File \u001b[1;32m~\\AppData\\Roaming\\Python\\Python39\\site-packages\\tensorflow\\python\\framework\\ops.py:1157\u001b[0m, in \u001b[0;36m_EagerTensorBase.numpy\u001b[1;34m(self)\u001b[0m\n\u001b[0;32m   1134\u001b[0m \u001b[39m\"\"\"Copy of the contents of this Tensor into a NumPy array or scalar.\u001b[39;00m\n\u001b[0;32m   1135\u001b[0m \n\u001b[0;32m   1136\u001b[0m \u001b[39mUnlike NumPy arrays, Tensors are immutable, so this method has to copy\u001b[39;00m\n\u001b[1;32m   (...)\u001b[0m\n\u001b[0;32m   1154\u001b[0m \u001b[39m    NumPy dtype.\u001b[39;00m\n\u001b[0;32m   1155\u001b[0m \u001b[39m\"\"\"\u001b[39;00m\n\u001b[0;32m   1156\u001b[0m \u001b[39m# TODO(slebedev): Consider avoiding a copy for non-CPU or remote tensors.\u001b[39;00m\n\u001b[1;32m-> 1157\u001b[0m maybe_arr \u001b[39m=\u001b[39m \u001b[39mself\u001b[39;49m\u001b[39m.\u001b[39;49m_numpy()  \u001b[39m# pylint: disable=protected-access\u001b[39;00m\n\u001b[0;32m   1158\u001b[0m \u001b[39mreturn\u001b[39;00m maybe_arr\u001b[39m.\u001b[39mcopy() \u001b[39mif\u001b[39;00m \u001b[39misinstance\u001b[39m(maybe_arr, np\u001b[39m.\u001b[39mndarray) \u001b[39melse\u001b[39;00m maybe_arr\n",
      "File \u001b[1;32m~\\AppData\\Roaming\\Python\\Python39\\site-packages\\tensorflow\\python\\framework\\ops.py:1123\u001b[0m, in \u001b[0;36m_EagerTensorBase._numpy\u001b[1;34m(self)\u001b[0m\n\u001b[0;32m   1121\u001b[0m \u001b[39mdef\u001b[39;00m \u001b[39m_numpy\u001b[39m(\u001b[39mself\u001b[39m):\n\u001b[0;32m   1122\u001b[0m   \u001b[39mtry\u001b[39;00m:\n\u001b[1;32m-> 1123\u001b[0m     \u001b[39mreturn\u001b[39;00m \u001b[39mself\u001b[39;49m\u001b[39m.\u001b[39;49m_numpy_internal()\n\u001b[0;32m   1124\u001b[0m   \u001b[39mexcept\u001b[39;00m core\u001b[39m.\u001b[39m_NotOkStatusException \u001b[39mas\u001b[39;00m e:  \u001b[39m# pylint: disable=protected-access\u001b[39;00m\n\u001b[0;32m   1125\u001b[0m     \u001b[39mraise\u001b[39;00m core\u001b[39m.\u001b[39m_status_to_exception(e) \u001b[39mfrom\u001b[39;00m \u001b[39mNone\u001b[39m\n",
      "\u001b[1;31mKeyboardInterrupt\u001b[0m: "
     ]
    }
   ],
   "source": [
    "tuner.search(X_train, y_train, epochs=400, validation_data=(X_valid, y_valid),\n",
    "            callbacks=[tf.keras.callbacks.EarlyStopping(monitor='val_accuracy', patience=25)], batch_size=300,use_multiprocessing=True, workers=15)\n"
   ]
  },
  {
   "cell_type": "code",
   "execution_count": 13,
   "id": "9fa56515",
   "metadata": {},
   "outputs": [
    {
     "name": "stdout",
     "output_type": "stream",
     "text": [
      "WARNING:tensorflow:Inconsistent references when loading the checkpoint into this object graph. For example, in the saved checkpoint object, `model.layer.weight` and `model.layer_copy.weight` reference the same variable, while in the current object these are two different variables. The referenced variables are:(<keras.layers.core.dense.Dense object at 0x000002C45453E9D0> and <keras.layers.regularization.dropout.Dropout object at 0x000002C4080F9DF0>).\n",
      "WARNING:tensorflow:Inconsistent references when loading the checkpoint into this object graph. For example, in the saved checkpoint object, `model.layer.weight` and `model.layer_copy.weight` reference the same variable, while in the current object these are two different variables. The referenced variables are:(<keras.layers.core.dense.Dense object at 0x000002C408924E50> and <keras.layers.regularization.dropout.Dropout object at 0x000002C4169B0580>).\n",
      "WARNING:tensorflow:Inconsistent references when loading the checkpoint into this object graph. For example, in the saved checkpoint object, `model.layer.weight` and `model.layer_copy.weight` reference the same variable, while in the current object these are two different variables. The referenced variables are:(<keras.layers.core.dense.Dense object at 0x000002C4089A7F70> and <keras.layers.regularization.dropout.Dropout object at 0x000002C4089991F0>).\n",
      "Model: \"sequential\"\n",
      "_________________________________________________________________\n",
      " Layer (type)                Output Shape              Param #   \n",
      "=================================================================\n",
      " conv2d (Conv2D)             (None, 150, 150, 52)      520       \n",
      "                                                                 \n",
      " max_pooling2d (MaxPooling2D  (None, 50, 50, 52)       0         \n",
      " )                                                               \n",
      "                                                                 \n",
      " conv2d_1 (Conv2D)           (None, 50, 50, 288)       135072    \n",
      "                                                                 \n",
      " max_pooling2d_1 (MaxPooling  (None, 25, 25, 288)      0         \n",
      " 2D)                                                             \n",
      "                                                                 \n",
      " conv2d_2 (Conv2D)           (None, 25, 25, 208)       539344    \n",
      "                                                                 \n",
      " max_pooling2d_2 (MaxPooling  (None, 12, 12, 208)      0         \n",
      " 2D)                                                             \n",
      "                                                                 \n",
      " conv2d_3 (Conv2D)           (None, 12, 12, 208)       1081808   \n",
      "                                                                 \n",
      " max_pooling2d_3 (MaxPooling  (None, 6, 6, 208)        0         \n",
      " 2D)                                                             \n",
      "                                                                 \n",
      " conv2d_4 (Conv2D)           (None, 6, 6, 96)          179808    \n",
      "                                                                 \n",
      " max_pooling2d_4 (MaxPooling  (None, 3, 3, 96)         0         \n",
      " 2D)                                                             \n",
      "                                                                 \n",
      " flatten (Flatten)           (None, 864)               0         \n",
      "                                                                 \n",
      " dense (Dense)               (None, 500)               432500    \n",
      "                                                                 \n",
      " dropout (Dropout)           (None, 500)               0         \n",
      "                                                                 \n",
      " dense_1 (Dense)             (None, 48)                24048     \n",
      "                                                                 \n",
      "=================================================================\n",
      "Total params: 2,393,100\n",
      "Trainable params: 2,393,100\n",
      "Non-trainable params: 0\n",
      "_________________________________________________________________\n"
     ]
    }
   ],
   "source": [
    "# Get the top 3 models.\n",
    "models_cnn_class = tuner.get_best_models(num_models=3)\n",
    "best_model_cnn_class = models_cnn_class[0]\n",
    "# Build model\n",
    "best_model_cnn_class.build(input_shape=(None, 28, 28))\n",
    "best_model_cnn_class.summary()"
   ]
  },
  {
   "cell_type": "code",
   "execution_count": 14,
   "id": "1ba3781d",
   "metadata": {},
   "outputs": [
    {
     "name": "stdout",
     "output_type": "stream",
     "text": [
      "Results summary\n",
      "Results in Task2\\CNN3\n",
      "Showing 1 best trials\n",
      "<keras_tuner.engine.objective.Objective object at 0x000002C4169B90A0>\n",
      "Trial summary\n",
      "Hyperparameters:\n",
      "conv_fixed_filter: 52\n",
      "conv_fixed_kernel: 3\n",
      "pool_size: 3\n",
      "num_cnn_layers: 4\n",
      "conv_1_filter: 288\n",
      "conv_1_kernel: 3\n",
      "conv_2_filter: 208\n",
      "conv_2_kernel: 3\n",
      "conv_3_filter: 208\n",
      "conv_3_kernel: 5\n",
      "conv_4_filter: 96\n",
      "conv_4_kernel: 3\n",
      "num_dense_layers: 1\n",
      "units_1: 500\n",
      "activation: relu\n",
      "dropout: False\n",
      "rate_1: 0.75\n",
      "units_2: 180\n",
      "rate_2: 0.25\n",
      "lr: 0.0003623815491328145\n",
      "dropout_1: True\n",
      "Score: 0.7609999775886536\n"
     ]
    }
   ],
   "source": [
    "tuner.results_summary(num_trials = 1)"
   ]
  },
  {
   "cell_type": "code",
   "execution_count": 159,
   "id": "09e2b073",
   "metadata": {},
   "outputs": [
    {
     "name": "stdout",
     "output_type": "stream",
     "text": [
      "94/94 [==============================] - 1s 7ms/step - loss: 0.4735 - accuracy: 0.8707 - clock_loss_reg_mae: 0.0068\n"
     ]
    }
   ],
   "source": [
    "best_model_cnn_class.evaluate(X_test, y_test)\n",
    "best_model_cnn_class.save(\"task2_best_cnn_classification.h5\")"
   ]
  },
  {
   "cell_type": "code",
   "execution_count": 18,
   "id": "98a5ac01",
   "metadata": {},
   "outputs": [],
   "source": [
    "untrained_model_cnn_class = best_model_cnn_class\n",
    "layer_names = []\n",
    "for layer in best_model_cnn_class.layers:\n",
    "    name = layer.name\n",
    "    if 'pooling' not in name and 'flatten' not in name and 'dropout' not in name:\n",
    "        layer_names.append(name)\n",
    "\n",
    "for layer in layer_names:\n",
    "    untrained_model_cnn_class.get_layer(layer).set_weights([np.random.rand(*best_model_cnn_class.get_layer(layer).get_weights()[0].shape),\n",
    "    np.ones(*best_model_cnn_class.get_layer(layer).get_weights()[1].shape)])"
   ]
  },
  {
   "cell_type": "code",
   "execution_count": null,
   "id": "0de1e70a",
   "metadata": {},
   "outputs": [],
   "source": [
    "history = untrained_model_cnn_class.fit(X_train, y_train, epochs=150, verbose=1, \n",
    "                                   validation_data=(X_valid, y_valid),\n",
    "                                   callbacks=[tf.keras.callbacks.EarlyStopping(monitor='val_accuracy', patience=10)], batch_size=150)"
   ]
  },
  {
   "cell_type": "code",
   "execution_count": null,
   "id": "405856cc",
   "metadata": {},
   "outputs": [],
   "source": [
    "pd.DataFrame(history.history).plot(figsize=(8,5))\n",
    "plt.grid(True)\n",
    "#plt.gca().set_ylim(0,1) # set the vertical range to [0-1]\n",
    "plt.gca().set_xlim(0,10)\n",
    "plt.show()"
   ]
  },
  {
   "cell_type": "code",
   "execution_count": null,
   "id": "3b9998e4",
   "metadata": {},
   "outputs": [],
   "source": []
  }
 ],
 "metadata": {
  "kernelspec": {
   "display_name": "Python 3",
   "language": "python",
   "name": "python3"
  },
  "language_info": {
   "codemirror_mode": {
    "name": "ipython",
    "version": 3
   },
   "file_extension": ".py",
   "mimetype": "text/x-python",
   "name": "python",
   "nbconvert_exporter": "python",
   "pygments_lexer": "ipython3",
   "version": "3.8.2 (v3.8.2:7b3ab5921f, Feb 24 2020, 17:52:18) \n[Clang 6.0 (clang-600.0.57)]"
  },
  "vscode": {
   "interpreter": {
    "hash": "aee8b7b246df8f9039afb4144a1f6fd8d2ca17a180786b69acc140d282b71a49"
   }
  }
 },
 "nbformat": 4,
 "nbformat_minor": 5
}
