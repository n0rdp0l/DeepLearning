{
 "cells": [
  {
   "cell_type": "code",
   "execution_count": 1,
   "id": "d2245cc3",
   "metadata": {},
   "outputs": [],
   "source": [
    "import numpy as np\n",
    "import tensorflow as tf\n",
    "from tensorflow.keras.models import Sequential\n",
    "from tensorflow.keras.layers import Dense, Conv2D, Activation, Flatten, MaxPooling2D"
   ]
  },
  {
   "cell_type": "code",
   "execution_count": 2,
   "id": "7d1223db",
   "metadata": {},
   "outputs": [],
   "source": [
    "data_in = np.load(\"Data/images.npy\")\n",
    "data_out = np.load(\"Data/labels.npy\")"
   ]
  },
  {
   "cell_type": "code",
   "execution_count": 3,
   "id": "811e8c8b",
   "metadata": {},
   "outputs": [
    {
     "name": "stdout",
     "output_type": "stream",
     "text": [
      "(18000, 150, 150)\n"
     ]
    }
   ],
   "source": [
    "print(np.shape(data_in))\n",
    "\n",
    "## Pixel data goes up to 255, we want to normalize\n",
    "data_in = data_in/255"
   ]
  },
  {
   "cell_type": "code",
   "execution_count": 4,
   "id": "9c8f921c",
   "metadata": {},
   "outputs": [],
   "source": [
    "## Restructure labels to continuous variables\n",
    "data_r = data_out[:,0] + data_out[:,1]/60"
   ]
  },
  {
   "cell_type": "code",
   "execution_count": 15,
   "id": "370d5538",
   "metadata": {},
   "outputs": [],
   "source": [
    "## Build keras model\n",
    "model = Sequential()\n",
    "model.add(Flatten(input_shape=[150,150]))\n",
    "model.add(Dense(728, activation=\"elu\"))\n",
    "model.add(Dense(728, activation=\"elu\"))\n",
    "model.add(Dense(728, activation=\"elu\"))\n",
    "model.add(Dense(128, activation=\"elu\"))\n",
    "model.add(Dense(64, activation=\"elu\"))\n",
    "model.add(Dense(64, activation=\"elu\"))\n",
    "model.add(Dense(28, activation=\"elu\"))\n",
    "model.add(Dense(28, activation=\"elu\"))\n",
    "model.add(Dense(1, activation=\"sigmoid\"))\n",
    "# model.add(Conv2D(64, (4,4), input_shape = (150,150,1)))\n",
    "# model.add(Activation(\"relu\"))\n",
    "# model.add(MaxPooling2D(pool_size=(4,4)))\n",
    "\n",
    "# model.add(Conv2D(64, (3,3)))\n",
    "# model.add(Activation(\"relu\"))\n",
    "# model.add(MaxPooling2D(pool_size=(4,4)))\n",
    "\n",
    "# model.add(Flatten())\n",
    "# model.add(Dense(64))\n",
    "\n",
    "# model.add(Dense(1))\n",
    "# model.add(Activation(\"sigmoid\"))"
   ]
  },
  {
   "cell_type": "code",
   "execution_count": 16,
   "id": "a8193a62",
   "metadata": {},
   "outputs": [
    {
     "name": "stdout",
     "output_type": "stream",
     "text": [
      "Model: \"sequential_9\"\n",
      "_________________________________________________________________\n",
      " Layer (type)                Output Shape              Param #   \n",
      "=================================================================\n",
      " flatten_4 (Flatten)         (None, 22500)             0         \n",
      "                                                                 \n",
      " dense_62 (Dense)            (None, 728)               16380728  \n",
      "                                                                 \n",
      " dense_63 (Dense)            (None, 728)               530712    \n",
      "                                                                 \n",
      " dense_64 (Dense)            (None, 728)               530712    \n",
      "                                                                 \n",
      " dense_65 (Dense)            (None, 128)               93312     \n",
      "                                                                 \n",
      " dense_66 (Dense)            (None, 64)                8256      \n",
      "                                                                 \n",
      " dense_67 (Dense)            (None, 64)                4160      \n",
      "                                                                 \n",
      " dense_68 (Dense)            (None, 28)                1820      \n",
      "                                                                 \n",
      " dense_69 (Dense)            (None, 28)                812       \n",
      "                                                                 \n",
      " dense_70 (Dense)            (None, 1)                 29        \n",
      "                                                                 \n",
      "=================================================================\n",
      "Total params: 17,550,541\n",
      "Trainable params: 17,550,541\n",
      "Non-trainable params: 0\n",
      "_________________________________________________________________\n"
     ]
    }
   ],
   "source": [
    "model.summary()"
   ]
  },
  {
   "cell_type": "code",
   "execution_count": 17,
   "id": "9af6dc34",
   "metadata": {},
   "outputs": [
    {
     "name": "stdout",
     "output_type": "stream",
     "text": [
      "Epoch 1/5\n",
      "450/450 [==============================] - 21s 45ms/step - loss: 22.0641 - accuracy: 0.0017 - val_loss: 96.3567 - val_accuracy: 0.0000e+00\n",
      "Epoch 2/5\n",
      "450/450 [==============================] - 20s 45ms/step - loss: 22.0567 - accuracy: 0.0017 - val_loss: 96.3567 - val_accuracy: 0.0000e+00\n",
      "Epoch 3/5\n",
      "450/450 [==============================] - 22s 48ms/step - loss: 22.0567 - accuracy: 0.0017 - val_loss: 96.3567 - val_accuracy: 0.0000e+00\n",
      "Epoch 4/5\n",
      "450/450 [==============================] - 21s 47ms/step - loss: 22.0567 - accuracy: 0.0017 - val_loss: 96.3567 - val_accuracy: 0.0000e+00\n",
      "Epoch 5/5\n",
      "450/450 [==============================] - 20s 46ms/step - loss: 22.0567 - accuracy: 0.0017 - val_loss: 96.3567 - val_accuracy: 0.0000e+00\n"
     ]
    },
    {
     "data": {
      "text/plain": [
       "<keras.callbacks.History at 0x2385609efa0>"
      ]
     },
     "execution_count": 17,
     "metadata": {},
     "output_type": "execute_result"
    }
   ],
   "source": [
    "model.compile(loss=\"mean_squared_error\",\n",
    "             optimizer=\"adam\",\n",
    "             metrics=[\"accuracy\"])\n",
    "\n",
    "model.fit(data_in, data_r, batch_size=32, epochs = 5, validation_split=0.2)"
   ]
  },
  {
   "cell_type": "code",
   "execution_count": null,
   "id": "ca715ae9",
   "metadata": {},
   "outputs": [],
   "source": []
  }
 ],
 "metadata": {
  "kernelspec": {
   "display_name": "Python 3 (ipykernel)",
   "language": "python",
   "name": "python3"
  },
  "language_info": {
   "codemirror_mode": {
    "name": "ipython",
    "version": 3
   },
   "file_extension": ".py",
   "mimetype": "text/x-python",
   "name": "python",
   "nbconvert_exporter": "python",
   "pygments_lexer": "ipython3",
   "version": "3.9.13"
  }
 },
 "nbformat": 4,
 "nbformat_minor": 5
}
