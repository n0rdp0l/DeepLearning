{
 "cells": [
  {
   "cell_type": "code",
   "execution_count": 13,
   "id": "f13db2a0",
   "metadata": {},
   "outputs": [],
   "source": [
    "import numpy as np\n",
    "import tensorflow as tf\n",
    "from tensorflow.keras.models import Sequential\n",
    "from tensorflow.keras.layers import Dense, Conv2D, Activation, Flatten, MaxPooling2D"
   ]
  },
  {
   "cell_type": "code",
   "execution_count": 14,
   "id": "86103416",
   "metadata": {},
   "outputs": [],
   "source": [
    "data_in = np.load(\"Data/images.npy\")\n",
    "data_out = np.load(\"Data/labels.npy\")"
   ]
  },
  {
   "cell_type": "code",
   "execution_count": 16,
   "id": "6ac71e3d",
   "metadata": {},
   "outputs": [
    {
     "name": "stdout",
     "output_type": "stream",
     "text": [
      "(18000, 150, 150)\n"
     ]
    }
   ],
   "source": [
    "print(np.shape(data_in))\n",
    "\n",
    "## Pixel data goes up to 255, we want to normalize\n",
    "data_in = data_in/255"
   ]
  },
  {
   "cell_type": "code",
   "execution_count": 20,
   "id": "65e217ec",
   "metadata": {},
   "outputs": [
    {
     "name": "stdout",
     "output_type": "stream",
     "text": [
      "[ 7 22]\n",
      "7.366666666666666\n"
     ]
    }
   ],
   "source": [
    "## Restructure labels to continuous variables\n",
    "data_r = data_out[:,0] + data_out[:,1]/60"
   ]
  },
  {
   "cell_type": "code",
   "execution_count": null,
   "id": "6e9487d5",
   "metadata": {},
   "outputs": [
    {
     "name": "stdout",
     "output_type": "stream",
     "text": [
      "Epoch 1/5\n",
      "450/450 [==============================] - 81s 178ms/step - loss: 22.1018 - accuracy: 0.0017 - val_loss: 96.3567 - val_accuracy: 0.0000e+00\n",
      "Epoch 2/5\n",
      "450/450 [==============================] - 80s 177ms/step - loss: 22.0567 - accuracy: 0.0017 - val_loss: 96.3567 - val_accuracy: 0.0000e+00\n",
      "Epoch 3/5\n",
      "  2/450 [..............................] - ETA: 1:38 - loss: 21.5683 - accuracy: 0.0000e+00"
     ]
    }
   ],
   "source": [
    "## Build keras model\n",
    "model = Sequential()\n",
    "model.add(Conv2D(64, (4,4), input_shape = (150,150,1)))\n",
    "model.add(Activation(\"relu\"))\n",
    "model.add(MaxPooling2D(pool_size=(4,4)))\n",
    "\n",
    "model.add(Conv2D(64, (3,3)))\n",
    "model.add(Activation(\"relu\"))\n",
    "model.add(MaxPooling2D(pool_size=(4,4)))\n",
    "\n",
    "model.add(Flatten())\n",
    "model.add(Dense(64))\n",
    "\n",
    "model.add(Dense(1))\n",
    "model.add(Activation(\"sigmoid\"))\n",
    "\n",
    "model.compile(loss=\"mean_squared_error\",\n",
    "             optimizer=\"adam\",\n",
    "             metrics=[\"accuracy\"])\n",
    "\n",
    "model.fit(data_in, data_r, batch_size=32, epochs = 5, validation_split=0.2)"
   ]
  }
 ],
 "metadata": {
  "kernelspec": {
   "display_name": "Python 3 (ipykernel)",
   "language": "python",
   "name": "python3"
  },
  "language_info": {
   "codemirror_mode": {
    "name": "ipython",
    "version": 3
   },
   "file_extension": ".py",
   "mimetype": "text/x-python",
   "name": "python",
   "nbconvert_exporter": "python",
   "pygments_lexer": "ipython3",
   "version": "3.9.13"
  }
 },
 "nbformat": 4,
 "nbformat_minor": 5
}
