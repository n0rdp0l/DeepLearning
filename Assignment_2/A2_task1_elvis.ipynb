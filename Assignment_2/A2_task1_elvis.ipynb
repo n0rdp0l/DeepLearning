{
 "cells": [
  {
   "cell_type": "code",
   "execution_count": 13,
   "id": "d2245cc3",
   "metadata": {},
   "outputs": [],
   "source": [
    "import numpy as np\n",
    "import tensorflow as tf\n",
    "from tensorflow.keras.models import Sequential\n",
    "from tensorflow.keras.layers import Dense, Conv2D, Activation, Flatten, MaxPooling2D"
   ]
  },
  {
   "cell_type": "code",
   "execution_count": 14,
   "id": "7d1223db",
   "metadata": {},
   "outputs": [],
   "source": [
    "data_in = np.load(\"Data/images.npy\")\n",
    "data_out = np.load(\"Data/labels.npy\")"
   ]
  },
  {
   "cell_type": "code",
   "execution_count": 16,
   "id": "811e8c8b",
   "metadata": {},
   "outputs": [
    {
     "name": "stdout",
     "output_type": "stream",
     "text": [
      "(18000, 150, 150)\n"
     ]
    }
   ],
   "source": [
    "print(np.shape(data_in))\n",
    "\n",
    "## Pixel data goes up to 255, we want to normalize\n",
    "data_in = data_in/255"
   ]
  },
  {
   "cell_type": "code",
   "execution_count": 20,
   "id": "9c8f921c",
   "metadata": {},
   "outputs": [
    {
     "name": "stdout",
     "output_type": "stream",
     "text": [
      "[ 7 22]\n",
      "7.366666666666666\n"
     ]
    }
   ],
   "source": [
    "## Restructure labels to continuous variables\n",
    "data_r = data_out[:,0] + data_out[:,1]/60"
   ]
  },
  {
   "cell_type": "code",
   "execution_count": 25,
   "id": "9af6dc34",
   "metadata": {},
   "outputs": [
    {
     "name": "stdout",
     "output_type": "stream",
     "text": [
      "Epoch 1/5\n",
      "450/450 [==============================] - 81s 178ms/step - loss: 22.1018 - accuracy: 0.0017 - val_loss: 96.3567 - val_accuracy: 0.0000e+00\n",
      "Epoch 2/5\n",
      "450/450 [==============================] - 80s 177ms/step - loss: 22.0567 - accuracy: 0.0017 - val_loss: 96.3567 - val_accuracy: 0.0000e+00\n",
      "Epoch 3/5\n",
      "450/450 [==============================] - 78s 173ms/step - loss: 22.0567 - accuracy: 0.0017 - val_loss: 96.3567 - val_accuracy: 0.0000e+00\n",
      "Epoch 4/5\n",
      "450/450 [==============================] - 78s 174ms/step - loss: 22.0567 - accuracy: 0.0017 - val_loss: 96.3567 - val_accuracy: 0.0000e+00\n",
      "Epoch 5/5\n",
      "450/450 [==============================] - 77s 170ms/step - loss: 22.0567 - accuracy: 0.0017 - val_loss: 96.3567 - val_accuracy: 0.0000e+00\n"
     ]
    },
    {
     "data": {
      "text/plain": [
       "<keras.callbacks.History at 0x2699d3e74c0>"
      ]
     },
     "execution_count": 25,
     "metadata": {},
     "output_type": "execute_result"
    }
   ],
   "source": [
    "## Build keras model\n",
    "model = Sequential()\n",
    "model.add(Conv2D(64, (4,4), input_shape = (150,150,1)))\n",
    "model.add(Activation(\"relu\"))\n",
    "model.add(MaxPooling2D(pool_size=(4,4)))\n",
    "\n",
    "model.add(Conv2D(64, (3,3)))\n",
    "model.add(Activation(\"relu\"))\n",
    "model.add(MaxPooling2D(pool_size=(4,4)))\n",
    "\n",
    "model.add(Flatten())\n",
    "model.add(Dense(64))\n",
    "\n",
    "model.add(Dense(1))\n",
    "model.add(Activation(\"sigmoid\"))\n",
    "\n",
    "model.compile(loss=\"mean_squared_error\",\n",
    "             optimizer=\"adam\",\n",
    "             metrics=[\"accuracy\"])\n",
    "\n",
    "model.fit(data_in, data_r, batch_size=32, epochs = 5, validation_split=0.2)"
   ]
  }
 ],
 "metadata": {
  "kernelspec": {
   "display_name": "Python 3 (ipykernel)",
   "language": "python",
   "name": "python3"
  },
  "language_info": {
   "codemirror_mode": {
    "name": "ipython",
    "version": 3
   },
   "file_extension": ".py",
   "mimetype": "text/x-python",
   "name": "python",
   "nbconvert_exporter": "python",
   "pygments_lexer": "ipython3",
   "version": "3.9.13"
  }
 },
 "nbformat": 4,
 "nbformat_minor": 5
}
