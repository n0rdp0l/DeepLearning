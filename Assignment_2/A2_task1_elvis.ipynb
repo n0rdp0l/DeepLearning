{
 "cells": [
  {
   "cell_type": "code",
   "execution_count": 1,
   "id": "d2245cc3",
   "metadata": {},
   "outputs": [],
   "source": [
    "import numpy as np\n",
    "import tensorflow as tf\n",
    "from tensorflow.keras.models import Sequential\n",
    "from tensorflow.keras.layers import Dense, Conv2D, Activation, Flatten, MaxPooling2D"
   ]
  },
  {
   "cell_type": "code",
   "execution_count": 2,
   "id": "7d1223db",
   "metadata": {},
   "outputs": [],
   "source": [
    "data_in = np.load(\"Data/images.npy\")\n",
    "data_out = np.load(\"Data/labels.npy\")"
   ]
  },
  {
   "cell_type": "code",
   "execution_count": 22,
   "id": "811e8c8b",
   "metadata": {},
   "outputs": [
    {
     "name": "stdout",
     "output_type": "stream",
     "text": [
      "(18000, 150, 150)\n"
     ]
    }
   ],
   "source": [
    "print(np.shape(data_in))\n",
    "\n",
    "## Pixel data goes up to 255, we want to normalize\n",
    "data_in = data_in/255"
   ]
  },
  {
   "cell_type": "code",
   "execution_count": 23,
   "id": "02effb5c",
   "metadata": {},
   "outputs": [],
   "source": [
    "minute_angle = data_out[:,1]*6\n",
    "hour_angle = data_out[:,0]*(360/12) + minute_angle/12\n",
    "between_angle = minute_angle - hour_angle"
   ]
  },
  {
   "cell_type": "code",
   "execution_count": 24,
   "id": "9c8f921c",
   "metadata": {},
   "outputs": [],
   "source": [
    "## Restructure labels to continuous variables\n",
    "data_r = data_out[:,0] + data_out[:,1]/60"
   ]
  },
  {
   "cell_type": "code",
   "execution_count": 28,
   "id": "25e663b3",
   "metadata": {},
   "outputs": [],
   "source": [
    "## Build keras model\n",
    "model = Sequential()\n",
    "# model.add(Flatten(input_shape=[150,150]))\n",
    "# model.add(Dense(728, activation=\"elu\"))\n",
    "# model.add(Dense(728, activation=\"elu\"))\n",
    "# model.add(Dense(728, activation=\"elu\"))\n",
    "# model.add(Dense(728, activation=\"elu\"))\n",
    "# model.add(Dense(728, activation=\"elu\"))\n",
    "# model.add(Dense(728, activation=\"elu\"))\n",
    "# model.add(Dense(728, activation=\"elu\"))\n",
    "# model.add(Dense(728, activation=\"elu\"))\n",
    "# model.add(Dense(728, activation=\"elu\"))\n",
    "# model.add(Dense(128, activation=\"elu\"))\n",
    "# model.add(Dense(64, activation=\"elu\"))\n",
    "# model.add(Dense(64, activation=\"elu\"))\n",
    "# model.add(Dense(28, activation=\"elu\"))\n",
    "# model.add(Dense(28, activation=\"elu\"))\n",
    "# model.add(Dense(1, activation=\"sigmoid\"))\n",
    "model.add(Conv2D(64, (4,4), input_shape = (150,150,1)))\n",
    "model.add(Activation(\"relu\"))\n",
    "model.add(MaxPooling2D(pool_size=(4,4)))\n",
    "\n",
    "model.add(Conv2D(64, (3,3)))\n",
    "model.add(Activation(\"relu\"))\n",
    "model.add(MaxPooling2D(pool_size=(4,4)))\n",
    "\n",
    "model.add(Flatten())\n",
    "model.add(Dense(64))\n",
    "\n",
    "model.add(Dense(1))\n",
    "model.add(Activation(\"sigmoid\"))"
   ]
  },
  {
   "cell_type": "code",
   "execution_count": 29,
   "id": "158cc8aa",
   "metadata": {},
   "outputs": [
    {
     "name": "stdout",
     "output_type": "stream",
     "text": [
      "Model: \"sequential_14\"\n",
      "_________________________________________________________________\n",
      " Layer (type)                Output Shape              Param #   \n",
      "=================================================================\n",
      " conv2d_3 (Conv2D)           (None, 147, 147, 64)      1088      \n",
      "                                                                 \n",
      " activation_3 (Activation)   (None, 147, 147, 64)      0         \n",
      "                                                                 \n",
      " max_pooling2d_2 (MaxPooling  (None, 36, 36, 64)       0         \n",
      " 2D)                                                             \n",
      "                                                                 \n",
      " conv2d_4 (Conv2D)           (None, 34, 34, 64)        36928     \n",
      "                                                                 \n",
      " activation_4 (Activation)   (None, 34, 34, 64)        0         \n",
      "                                                                 \n",
      " max_pooling2d_3 (MaxPooling  (None, 8, 8, 64)         0         \n",
      " 2D)                                                             \n",
      "                                                                 \n",
      " flatten_9 (Flatten)         (None, 4096)              0         \n",
      "                                                                 \n",
      " dense_116 (Dense)           (None, 64)                262208    \n",
      "                                                                 \n",
      " dense_117 (Dense)           (None, 1)                 65        \n",
      "                                                                 \n",
      " activation_5 (Activation)   (None, 1)                 0         \n",
      "                                                                 \n",
      "=================================================================\n",
      "Total params: 300,289\n",
      "Trainable params: 300,289\n",
      "Non-trainable params: 0\n",
      "_________________________________________________________________\n"
     ]
    }
   ],
   "source": [
    "model.summary()"
   ]
  },
  {
   "cell_type": "code",
   "execution_count": 30,
   "id": "9af6dc34",
   "metadata": {},
   "outputs": [
    {
     "name": "stdout",
     "output_type": "stream",
     "text": [
      "Epoch 1/5\n",
      "450/450 [==============================] - 79s 172ms/step - loss: 17838.8457 - mae: 110.1390 - val_loss: 27704.5469 - val_mae: 134.6111\n",
      "Epoch 2/5\n",
      "450/450 [==============================] - 75s 166ms/step - loss: 17838.2949 - mae: 110.1372 - val_loss: 27704.5469 - val_mae: 134.6111\n",
      "Epoch 3/5\n",
      "450/450 [==============================] - 75s 168ms/step - loss: 17838.2949 - mae: 110.1372 - val_loss: 27704.5469 - val_mae: 134.6111\n",
      "Epoch 4/5\n",
      "450/450 [==============================] - 75s 167ms/step - loss: 17838.2949 - mae: 110.1372 - val_loss: 27704.5469 - val_mae: 134.6111\n",
      "Epoch 5/5\n",
      "450/450 [==============================] - 75s 166ms/step - loss: 17838.2891 - mae: 110.1372 - val_loss: 27704.5469 - val_mae: 134.6111\n"
     ]
    },
    {
     "data": {
      "text/plain": [
       "<keras.callbacks.History at 0x23832ce5760>"
      ]
     },
     "execution_count": 30,
     "metadata": {},
     "output_type": "execute_result"
    }
   ],
   "source": [
    "model.compile(loss=\"mean_squared_error\",\n",
    "             optimizer=\"adam\",\n",
    "             metrics=[\"mae\"])\n",
    "\n",
    "model.fit(data_in, between_angle, batch_size=32, epochs = 5, validation_split=0.2)"
   ]
  },
  {
   "cell_type": "code",
   "execution_count": null,
   "id": "62897766",
   "metadata": {},
   "outputs": [],
   "source": []
  }
 ],
 "metadata": {
  "kernelspec": {
   "display_name": "Python 3 (ipykernel)",
   "language": "python",
   "name": "python3"
  },
  "language_info": {
   "codemirror_mode": {
    "name": "ipython",
    "version": 3
   },
   "file_extension": ".py",
   "mimetype": "text/x-python",
   "name": "python",
   "nbconvert_exporter": "python",
   "pygments_lexer": "ipython3",
   "version": "3.9.13"
  }
 },
 "nbformat": 4,
 "nbformat_minor": 5
}
