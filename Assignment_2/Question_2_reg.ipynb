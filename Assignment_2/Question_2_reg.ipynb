{
 "cells": [
  {
   "cell_type": "code",
   "execution_count": 1,
   "id": "3105b54a",
   "metadata": {},
   "outputs": [],
   "source": [
    "import tensorflow as tf\n",
    "from tensorflow import keras\n",
    "import pandas as pd\n",
    "import matplotlib.pyplot as plt\n",
    "import numpy as np\n",
    "import keras.backend as K"
   ]
  },
  {
   "cell_type": "code",
   "execution_count": 2,
   "id": "e4224d57",
   "metadata": {},
   "outputs": [],
   "source": [
    "data_in = np.load(\"a2_data/images.npy\")\n",
    "data_out = np.load(\"a2_data/labels.npy\")"
   ]
  },
  {
   "cell_type": "code",
   "execution_count": 3,
   "id": "0c28b0c7",
   "metadata": {},
   "outputs": [],
   "source": [
    "def convert_to_num(hour, minute):\n",
    "    num = hour+minute/60\n",
    "    return num\n",
    "\n",
    "def clock_loss_reg_mse(y_true, y_pred):\n",
    "    absdiff = K.abs(y_pred - y_true)\n",
    "    norm_c = absdiff <= 6\n",
    "    norm_c = tf.cast(norm_c, tf.float32)\n",
    "    round_c = absdiff > 6\n",
    "    round_c = tf.cast(round_c, tf.float32)\n",
    "    normdiff = K.abs(y_pred - y_true)\n",
    "    rounddiff = 12 - K.abs((y_pred - y_true))\n",
    "    \n",
    "    diff = norm_c * normdiff + round_c * rounddiff\n",
    "    mse = K.mean(diff)\n",
    "    return mse\n",
    "\n",
    "def unison_shuffled_copies(a, b):\n",
    "    assert len(a) == len(b)\n",
    "    p = np.random.permutation(len(a))\n",
    "    return a[p], b[p]"
   ]
  },
  {
   "cell_type": "code",
   "execution_count": 4,
   "id": "46bef339",
   "metadata": {},
   "outputs": [],
   "source": [
    "data_in, data_out = unison_shuffled_copies(data_in, data_out)"
   ]
  },
  {
   "cell_type": "code",
   "execution_count": 5,
   "id": "33c5968f",
   "metadata": {},
   "outputs": [],
   "source": [
    "reg_out = []\n",
    "for i in range(len(data_out)):\n",
    "    hour = data_out[i][0]\n",
    "    minute = data_out[i][1]\n",
    "    hr_min_num = convert_to_num(hour, minute)\n",
    "    reg_out.append(hr_min_num)\n",
    "reg_out = np.array(reg_out)"
   ]
  },
  {
   "cell_type": "code",
   "execution_count": 6,
   "id": "b71a2e09",
   "metadata": {},
   "outputs": [],
   "source": [
    "X_valid, X_train = data_in[15000:]/np.amax(data_in), data_in[:15000]/np.amax(data_in)\n",
    "y_valid, y_train = reg_out[15000:], reg_out[:15000]"
   ]
  },
  {
   "cell_type": "code",
   "execution_count": 7,
   "id": "0244f2e8",
   "metadata": {},
   "outputs": [
    {
     "name": "stdout",
     "output_type": "stream",
     "text": [
      "Metal device set to: Apple M1\n"
     ]
    },
    {
     "name": "stderr",
     "output_type": "stream",
     "text": [
      "2022-11-11 21:42:15.080989: I tensorflow/core/common_runtime/pluggable_device/pluggable_device_factory.cc:306] Could not identify NUMA node of platform GPU ID 0, defaulting to 0. Your kernel may not have been built with NUMA support.\n",
      "2022-11-11 21:42:15.081071: I tensorflow/core/common_runtime/pluggable_device/pluggable_device_factory.cc:272] Created TensorFlow device (/job:localhost/replica:0/task:0/device:GPU:0 with 0 MB memory) -> physical PluggableDevice (device: 0, name: METAL, pci bus id: <undefined>)\n"
     ]
    }
   ],
   "source": [
    "model = keras.models.Sequential([\n",
    "    keras.layers.Conv2D(64, kernel_size=(5,5), strides=1, \n",
    "                        activation='relu', input_shape=[150,150,1]),\n",
    "    keras.layers.MaxPooling2D(pool_size=(2,2)),\n",
    "    keras.layers.Conv2D(128, kernel_size=(3,3), strides=1, activation='relu'),\n",
    "    keras.layers.MaxPooling2D(pool_size=(2,2)),\n",
    "    keras.layers.Conv2D(256, kernel_size=(3,3), strides=1, activation='relu'),\n",
    "    keras.layers.MaxPooling2D(pool_size=(2,2)),\n",
    "    keras.layers.Conv2D(512, kernel_size=(3,3), strides=1, activation='relu'),\n",
    "    #keras.layers.MaxPooling2D(pool_size=(2,2)),\n",
    "    #keras.layers.Conv2D(640, kernel_size=2, strides=1, activation='relu'),\n",
    "    #keras.layers.MaxPooling2D(pool_size=(2,2)),\n",
    "    #keras.layers.Conv2D(768, kernel_size=2, strides=1, activation='relu'),\n",
    "    keras.layers.Dropout(0.4),\n",
    "    keras.layers.Flatten(),\n",
    "    keras.layers.Dense(500, activation='relu'),\n",
    "    keras.layers.Dense(500, activation='relu'),\n",
    "    keras.layers.Dense(1, activation='linear')\n",
    "])"
   ]
  },
  {
   "cell_type": "code",
   "execution_count": 8,
   "id": "bb1a02d5",
   "metadata": {},
   "outputs": [
    {
     "data": {
      "text/plain": [
       "\"\\nmodel = keras.models.Sequential([\\n    keras.layers.Conv2D(64, 7, activation='relu', padding='same', \\n                        input_shape=[150,150,1]),\\n    keras.layers.MaxPooling2D(2),\\n    keras.layers.Conv2D(128, 3, activation='relu', padding='same'),\\n    keras.layers.Conv2D(128, 3, activation='relu', padding='same'),\\n    keras.layers.MaxPooling2D(2),\\n    keras.layers.Conv2D(256, 3, activation='relu', padding='same'),\\n    keras.layers.Conv2D(256, 3, activation='relu', padding='same'),\\n    keras.layers.MaxPooling2D(2),\\n    keras.layers.Flatten(),\\n    keras.layers.Dense(128, activation='relu'),\\n    keras.layers.Dropout(0.5),\\n    keras.layers.Dense(64, activation='relu'),\\n    keras.layers.Dropout(0.5),\\n    keras.layers.Dense(4)\\n])\\n\""
      ]
     },
     "execution_count": 8,
     "metadata": {},
     "output_type": "execute_result"
    }
   ],
   "source": [
    "'''\n",
    "model = keras.models.Sequential([\n",
    "    keras.layers.Conv2D(64, 7, activation='relu', padding='same', \n",
    "                        input_shape=[150,150,1]),\n",
    "    keras.layers.MaxPooling2D(2),\n",
    "    keras.layers.Conv2D(128, 3, activation='relu', padding='same'),\n",
    "    keras.layers.Conv2D(128, 3, activation='relu', padding='same'),\n",
    "    keras.layers.MaxPooling2D(2),\n",
    "    keras.layers.Conv2D(256, 3, activation='relu', padding='same'),\n",
    "    keras.layers.Conv2D(256, 3, activation='relu', padding='same'),\n",
    "    keras.layers.MaxPooling2D(2),\n",
    "    keras.layers.Flatten(),\n",
    "    keras.layers.Dense(128, activation='relu'),\n",
    "    keras.layers.Dropout(0.5),\n",
    "    keras.layers.Dense(64, activation='relu'),\n",
    "    keras.layers.Dropout(0.5),\n",
    "    keras.layers.Dense(4)\n",
    "])\n",
    "'''"
   ]
  },
  {
   "cell_type": "code",
   "execution_count": 9,
   "id": "bfcd9987",
   "metadata": {},
   "outputs": [],
   "source": [
    "opt = keras.optimizers.SGD(learning_rate=0.001)"
   ]
  },
  {
   "cell_type": "code",
   "execution_count": 10,
   "id": "1b026719",
   "metadata": {},
   "outputs": [
    {
     "name": "stdout",
     "output_type": "stream",
     "text": [
      "Epoch 1/50\n"
     ]
    },
    {
     "name": "stderr",
     "output_type": "stream",
     "text": [
      "2022-11-11 21:42:15.898135: W tensorflow/core/platform/profile_utils/cpu_utils.cc:128] Failed to get CPU frequency: 0 Hz\n",
      "2022-11-11 21:42:16.258177: I tensorflow/core/grappler/optimizers/custom_graph_optimizer_registry.cc:114] Plugin optimizer for device_type GPU is enabled.\n"
     ]
    },
    {
     "name": "stdout",
     "output_type": "stream",
     "text": [
      "469/469 [==============================] - ETA: 0s - loss: 673.7145 - accuracy: 0.0014"
     ]
    },
    {
     "name": "stderr",
     "output_type": "stream",
     "text": [
      "2022-11-11 21:45:09.974674: I tensorflow/core/grappler/optimizers/custom_graph_optimizer_registry.cc:114] Plugin optimizer for device_type GPU is enabled.\n"
     ]
    },
    {
     "name": "stdout",
     "output_type": "stream",
     "text": [
      "469/469 [==============================] - 183s 389ms/step - loss: 673.7145 - accuracy: 0.0014 - val_loss: 12.1422 - val_accuracy: 0.0013\n",
      "Epoch 2/50\n",
      "469/469 [==============================] - 182s 388ms/step - loss: 12.5332 - accuracy: 0.0014 - val_loss: 13.0802 - val_accuracy: 0.0013\n",
      "Epoch 3/50\n",
      "469/469 [==============================] - 182s 388ms/step - loss: 12.2913 - accuracy: 0.0014 - val_loss: 10.8896 - val_accuracy: 0.0013\n",
      "Epoch 4/50\n",
      "469/469 [==============================] - 182s 389ms/step - loss: 10.1708 - accuracy: 0.0014 - val_loss: 9.1763 - val_accuracy: 0.0013\n",
      "Epoch 5/50\n",
      "469/469 [==============================] - 182s 389ms/step - loss: 8.4754 - accuracy: 0.0014 - val_loss: 7.4317 - val_accuracy: 0.0013\n",
      "Epoch 6/50\n",
      "469/469 [==============================] - 187s 399ms/step - loss: 6.7333 - accuracy: 0.0014 - val_loss: 6.1977 - val_accuracy: 0.0013\n",
      "Epoch 7/50\n",
      "469/469 [==============================] - 192s 409ms/step - loss: 5.2287 - accuracy: 0.0013 - val_loss: 4.9847 - val_accuracy: 0.0013\n",
      "Epoch 8/50\n",
      "469/469 [==============================] - 194s 415ms/step - loss: 3.9622 - accuracy: 0.0013 - val_loss: 3.9322 - val_accuracy: 1.0000e-03\n",
      "Epoch 9/50\n",
      "469/469 [==============================] - 195s 416ms/step - loss: 2.9261 - accuracy: 0.0013 - val_loss: 3.0200 - val_accuracy: 0.0013\n",
      "Epoch 10/50\n",
      "469/469 [==============================] - 199s 423ms/step - loss: 2.2702 - accuracy: 0.0013 - val_loss: 2.2596 - val_accuracy: 6.6667e-04\n",
      "Epoch 11/50\n",
      "469/469 [==============================] - 200s 427ms/step - loss: 1.7665 - accuracy: 0.0012 - val_loss: 1.7241 - val_accuracy: 6.6667e-04\n",
      "Epoch 12/50\n",
      "469/469 [==============================] - 204s 436ms/step - loss: 1.3541 - accuracy: 0.0011 - val_loss: 3.8047 - val_accuracy: 0.0013\n",
      "Epoch 13/50\n",
      "469/469 [==============================] - 272s 581ms/step - loss: 1.1248 - accuracy: 0.0011 - val_loss: 1.9126 - val_accuracy: 1.0000e-03\n",
      "Epoch 14/50\n",
      "469/469 [==============================] - 271s 577ms/step - loss: 1.0060 - accuracy: 6.6667e-04 - val_loss: 2.1054 - val_accuracy: 6.6667e-04\n",
      "Epoch 15/50\n",
      "469/469 [==============================] - 272s 580ms/step - loss: 0.8152 - accuracy: 0.0011 - val_loss: 1.3287 - val_accuracy: 1.0000e-03\n",
      "Epoch 16/50\n",
      "469/469 [==============================] - 271s 578ms/step - loss: 0.7148 - accuracy: 0.0012 - val_loss: 1.6901 - val_accuracy: 1.0000e-03\n",
      "Epoch 17/50\n",
      "469/469 [==============================] - 277s 590ms/step - loss: 0.6777 - accuracy: 0.0011 - val_loss: 1.1156 - val_accuracy: 6.6667e-04\n",
      "Epoch 18/50\n",
      "469/469 [==============================] - 273s 583ms/step - loss: 0.5846 - accuracy: 0.0011 - val_loss: 1.0004 - val_accuracy: 0.0013\n",
      "Epoch 19/50\n",
      "469/469 [==============================] - 278s 593ms/step - loss: 0.5066 - accuracy: 0.0012 - val_loss: 1.4467 - val_accuracy: 1.0000e-03\n",
      "Epoch 20/50\n",
      "469/469 [==============================] - 273s 582ms/step - loss: 0.4709 - accuracy: 0.0012 - val_loss: 2.2434 - val_accuracy: 1.0000e-03\n",
      "Epoch 21/50\n",
      "469/469 [==============================] - 272s 579ms/step - loss: 0.4611 - accuracy: 0.0014 - val_loss: 1.0579 - val_accuracy: 0.0013\n",
      "Epoch 22/50\n",
      "469/469 [==============================] - 277s 591ms/step - loss: 0.3704 - accuracy: 0.0015 - val_loss: 1.0221 - val_accuracy: 1.0000e-03\n",
      "Epoch 23/50\n",
      "469/469 [==============================] - 270s 577ms/step - loss: 0.3852 - accuracy: 0.0013 - val_loss: 0.8709 - val_accuracy: 6.6667e-04\n",
      "Epoch 24/50\n",
      "469/469 [==============================] - 274s 584ms/step - loss: 0.3460 - accuracy: 0.0015 - val_loss: 1.1696 - val_accuracy: 6.6667e-04\n",
      "Epoch 25/50\n",
      "469/469 [==============================] - 276s 588ms/step - loss: 0.3507 - accuracy: 0.0015 - val_loss: 0.9086 - val_accuracy: 1.0000e-03\n",
      "Epoch 26/50\n",
      "469/469 [==============================] - 270s 575ms/step - loss: 0.3649 - accuracy: 0.0017 - val_loss: 0.8888 - val_accuracy: 1.0000e-03\n",
      "Epoch 27/50\n",
      "469/469 [==============================] - 269s 573ms/step - loss: 0.3185 - accuracy: 0.0013 - val_loss: 0.8569 - val_accuracy: 1.0000e-03\n",
      "Epoch 28/50\n",
      "469/469 [==============================] - 267s 569ms/step - loss: 0.2921 - accuracy: 0.0019 - val_loss: 0.9000 - val_accuracy: 0.0013\n",
      "Epoch 29/50\n",
      "469/469 [==============================] - 269s 574ms/step - loss: 0.2683 - accuracy: 0.0015 - val_loss: 0.8171 - val_accuracy: 0.0013\n",
      "Epoch 30/50\n",
      "469/469 [==============================] - 269s 573ms/step - loss: 0.2928 - accuracy: 0.0020 - val_loss: 0.7127 - val_accuracy: 0.0013\n",
      "Epoch 31/50\n",
      "469/469 [==============================] - 269s 573ms/step - loss: 0.3054 - accuracy: 0.0016 - val_loss: 1.2629 - val_accuracy: 0.0013\n",
      "Epoch 32/50\n",
      "469/469 [==============================] - 270s 575ms/step - loss: 0.2600 - accuracy: 0.0020 - val_loss: 0.8040 - val_accuracy: 0.0013\n",
      "Epoch 33/50\n",
      "469/469 [==============================] - 266s 568ms/step - loss: 0.2538 - accuracy: 0.0017 - val_loss: 1.1602 - val_accuracy: 1.0000e-03\n",
      "Epoch 34/50\n",
      "469/469 [==============================] - 266s 568ms/step - loss: 0.2386 - accuracy: 0.0017 - val_loss: 1.1977 - val_accuracy: 1.0000e-03\n",
      "Epoch 35/50\n",
      "469/469 [==============================] - 270s 577ms/step - loss: 0.2257 - accuracy: 0.0015 - val_loss: 0.8868 - val_accuracy: 0.0013\n",
      "Epoch 36/50\n",
      "469/469 [==============================] - 267s 570ms/step - loss: 0.2281 - accuracy: 0.0018 - val_loss: 1.2563 - val_accuracy: 1.0000e-03\n",
      "Epoch 37/50\n",
      "469/469 [==============================] - 267s 570ms/step - loss: 0.2769 - accuracy: 0.0019 - val_loss: 0.7063 - val_accuracy: 0.0020\n",
      "Epoch 38/50\n",
      "469/469 [==============================] - 277s 590ms/step - loss: 0.2311 - accuracy: 0.0021 - val_loss: 1.7742 - val_accuracy: 0.0013\n",
      "Epoch 39/50\n",
      "469/469 [==============================] - 315s 672ms/step - loss: 0.2274 - accuracy: 0.0020 - val_loss: 0.5634 - val_accuracy: 0.0017\n",
      "Epoch 40/50\n",
      "469/469 [==============================] - 311s 663ms/step - loss: 0.2244 - accuracy: 0.0019 - val_loss: 0.6141 - val_accuracy: 0.0017\n",
      "Epoch 41/50\n",
      "469/469 [==============================] - 309s 659ms/step - loss: 0.2270 - accuracy: 0.0019 - val_loss: 0.6921 - val_accuracy: 0.0017\n",
      "Epoch 42/50\n",
      "469/469 [==============================] - 275s 587ms/step - loss: 0.2350 - accuracy: 0.0021 - val_loss: 0.6933 - val_accuracy: 0.0013\n",
      "Epoch 43/50\n",
      "469/469 [==============================] - 280s 597ms/step - loss: 0.2095 - accuracy: 0.0021 - val_loss: 0.5418 - val_accuracy: 0.0013\n",
      "Epoch 44/50\n",
      "469/469 [==============================] - 278s 592ms/step - loss: 0.2128 - accuracy: 0.0018 - val_loss: 0.5763 - val_accuracy: 0.0017\n",
      "Epoch 45/50\n",
      "469/469 [==============================] - 276s 588ms/step - loss: 0.2216 - accuracy: 0.0021 - val_loss: 0.6549 - val_accuracy: 0.0013\n",
      "Epoch 46/50\n",
      "469/469 [==============================] - 275s 586ms/step - loss: 0.1885 - accuracy: 0.0023 - val_loss: 0.9649 - val_accuracy: 0.0017\n",
      "Epoch 47/50\n",
      "469/469 [==============================] - 302s 644ms/step - loss: 0.1735 - accuracy: 0.0023 - val_loss: 1.0483 - val_accuracy: 1.0000e-03\n",
      "Epoch 48/50\n",
      "469/469 [==============================] - 322s 686ms/step - loss: 0.2065 - accuracy: 0.0023 - val_loss: 0.6726 - val_accuracy: 0.0013\n",
      "Epoch 49/50\n",
      "469/469 [==============================] - 347s 739ms/step - loss: 0.2026 - accuracy: 0.0023 - val_loss: 0.6761 - val_accuracy: 0.0013\n",
      "Epoch 50/50\n",
      "469/469 [==============================] - 332s 709ms/step - loss: 0.1868 - accuracy: 0.0021 - val_loss: 0.5835 - val_accuracy: 0.0017\n"
     ]
    }
   ],
   "source": [
    "model.compile(loss='mse', optimizer=keras.optimizers.RMSprop(), metrics=['accuracy'])\n",
    "history = model.fit(X_train, y_train, batch_size=32, epochs=50,\n",
    "                   validation_data=(X_valid, y_valid))"
   ]
  },
  {
   "cell_type": "code",
   "execution_count": 16,
   "id": "6ba6e7df",
   "metadata": {},
   "outputs": [
    {
     "data": {
      "image/png": "[encoded data removed]",
      "text/plain": [
       "<Figure size 800x500 with 1 Axes>"
      ]
     },
     "metadata": {},
     "output_type": "display_data"
    }
   ],
   "source": [
    "pd.DataFrame(history.history).plot(figsize=(8,5))\n",
    "plt.grid(True)\n",
    "plt.gca().set_ylim(0,15) # set the vertical range to [0-1]\n",
    "plt.gca().set_xlim(0,29)\n",
    "plt.show()"
   ]
  },
  {
   "cell_type": "code",
   "execution_count": null,
   "id": "d8a11f15",
   "metadata": {},
   "outputs": [],
   "source": []
  }
 ],
 "metadata": {
  "kernelspec": {
   "display_name": "Python 3 (ipykernel)",
   "language": "python",
   "name": "python3"
  },
  "language_info": {
   "codemirror_mode": {
    "name": "ipython",
    "version": 3
   },
   "file_extension": ".py",
   "mimetype": "text/x-python",
   "name": "python",
   "nbconvert_exporter": "python",
   "pygments_lexer": "ipython3",
   "version": "3.9.12"
  }
 },
 "nbformat": 4,
 "nbformat_minor": 5
}
