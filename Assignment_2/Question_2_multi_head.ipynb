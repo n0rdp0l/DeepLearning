{
 "cells": [
  {
   "cell_type": "code",
   "execution_count": 1,
   "id": "078ce5be",
   "metadata": {},
   "outputs": [],
   "source": [
    "import tensorflow as tf\n",
    "from tensorflow import keras\n",
    "import pandas as pd\n",
    "import matplotlib.pyplot as plt\n",
    "import numpy as np"
   ]
  },
  {
   "cell_type": "code",
   "execution_count": 2,
   "id": "65db6397",
   "metadata": {},
   "outputs": [],
   "source": [
    "data_in = np.load(\"a2_data/images.npy\")\n",
    "data_out = np.load(\"a2_data/labels.npy\")"
   ]
  },
  {
   "cell_type": "code",
   "execution_count": 3,
   "id": "3d2c6070",
   "metadata": {},
   "outputs": [],
   "source": [
    "X_valid, X_train = data_in[15000:]/np.amax(data_in), data_in[:15000]/np.amax(data_in)\n",
    "y_valid, y_train = data_out[15000:], data_out[:15000]"
   ]
  },
  {
   "cell_type": "code",
   "execution_count": 4,
   "id": "283bc058",
   "metadata": {},
   "outputs": [
    {
     "name": "stdout",
     "output_type": "stream",
     "text": [
      "Metal device set to: Apple M1\n"
     ]
    },
    {
     "name": "stderr",
     "output_type": "stream",
     "text": [
      "2022-11-10 14:02:43.563824: I tensorflow/core/common_runtime/pluggable_device/pluggable_device_factory.cc:306] Could not identify NUMA node of platform GPU ID 0, defaulting to 0. Your kernel may not have been built with NUMA support.\n",
      "2022-11-10 14:02:43.568776: I tensorflow/core/common_runtime/pluggable_device/pluggable_device_factory.cc:272] Created TensorFlow device (/job:localhost/replica:0/task:0/device:GPU:0 with 0 MB memory) -> physical PluggableDevice (device: 0, name: METAL, pci bus id: <undefined>)\n"
     ]
    }
   ],
   "source": [
    "input_ = keras.layers.Input(shape=(150,150,1))\n",
    "cnn = keras.layers.Conv2D(50, kernel_size=7, strides=2, activation='relu')(input_)\n",
    "cnn = keras.layers.MaxPooling2D(pool_size=(2,2), strides=2)(cnn)\n",
    "cnn = keras.layers.Conv2D(100, kernel_size=3, strides=1, activation='relu')(cnn)\n",
    "cnn = keras.layers.MaxPooling2D(pool_size=(2,2))(cnn)\n",
    "cnn = keras.layers.Conv2D(200, kernel_size=3, strides=1, activation='relu')(cnn)\n",
    "cnn = keras.layers.MaxPooling2D(pool_size=(2,2))(cnn)\n",
    "cnn = keras.layers.Conv2D(400, kernel_size=3, strides=1, activation='relu')(cnn)\n",
    "cnn = keras.layers.Dropout(0.6)(cnn)\n",
    "cnn = keras.layers.Flatten()(cnn)\n",
    "\n",
    "hour = keras.layers.Dense(144, activation='relu')(cnn)\n",
    "hour = keras.layers.Dense(144, activation='relu')(hour)\n",
    "hour = keras.layers.Dense(12, activation='softmax', name='hour')(hour)\n",
    "\n",
    "minute = keras.layers.Dense(100, activation='relu')(cnn)\n",
    "minute = keras.layers.Dense(100, activation='relu')(minute)\n",
    "minute = keras.layers.Dense(1, activation='linear', name='minute')(minute)\n",
    "\n",
    "model = keras.Model(inputs=input_, outputs=[hour, minute])"
   ]
  },
  {
   "cell_type": "code",
   "execution_count": 5,
   "id": "ff6b8245",
   "metadata": {},
   "outputs": [],
   "source": [
    "adam = keras.optimizers.Adam(learning_rate=0.001)\n",
    "model.compile(loss=['sparse_categorical_crossentropy', 'mse'], \n",
    "              optimizer=adam, metrics=['accuracy', 'mae'])"
   ]
  },
  {
   "cell_type": "code",
   "execution_count": null,
   "id": "9840e8d4",
   "metadata": {
    "scrolled": false
   },
   "outputs": [
    {
     "name": "stderr",
     "output_type": "stream",
     "text": [
      "2022-11-10 14:02:49.727592: W tensorflow/core/platform/profile_utils/cpu_utils.cc:128] Failed to get CPU frequency: 0 Hz\n"
     ]
    },
    {
     "name": "stdout",
     "output_type": "stream",
     "text": [
      "Epoch 1/20\n"
     ]
    },
    {
     "name": "stderr",
     "output_type": "stream",
     "text": [
      "2022-11-10 14:02:51.105135: I tensorflow/core/grappler/optimizers/custom_graph_optimizer_registry.cc:114] Plugin optimizer for device_type GPU is enabled.\n"
     ]
    },
    {
     "name": "stdout",
     "output_type": "stream",
     "text": [
      "469/469 [==============================] - ETA: 0s - loss: 339.0472 - hour_loss: 2.3414 - minute_loss: 336.7057 - hour_accuracy: 0.1009 - hour_mae: 4.4333 - minute_accuracy: 0.0167 - minute_mae: 15.6135"
     ]
    },
    {
     "name": "stderr",
     "output_type": "stream",
     "text": [
      "2022-11-10 14:05:09.852128: I tensorflow/core/grappler/optimizers/custom_graph_optimizer_registry.cc:114] Plugin optimizer for device_type GPU is enabled.\n"
     ]
    },
    {
     "name": "stdout",
     "output_type": "stream",
     "text": [
      "469/469 [==============================] - 149s 314ms/step - loss: 339.0472 - hour_loss: 2.3414 - minute_loss: 336.7057 - hour_accuracy: 0.1009 - hour_mae: 4.4333 - minute_accuracy: 0.0167 - minute_mae: 15.6135 - val_loss: 312.8989 - val_hour_loss: 6.8108 - val_minute_loss: 306.0880 - val_hour_accuracy: 0.0000e+00 - val_hour_mae: 10.4167 - val_minute_accuracy: 0.0167 - val_minute_mae: 15.0963\n",
      "Epoch 2/20\n",
      "469/469 [==============================] - 146s 312ms/step - loss: 310.9762 - hour_loss: 2.3086 - minute_loss: 308.6678 - hour_accuracy: 0.0985 - hour_mae: 4.4333 - minute_accuracy: 0.0167 - minute_mae: 15.1194 - val_loss: 311.6856 - val_hour_loss: 8.7390 - val_minute_loss: 302.9465 - val_hour_accuracy: 0.0000e+00 - val_hour_mae: 10.4167 - val_minute_accuracy: 0.0167 - val_minute_mae: 15.0356\n",
      "Epoch 3/20\n",
      "469/469 [==============================] - 144s 307ms/step - loss: 307.8346 - hour_loss: 2.3068 - minute_loss: 305.5277 - hour_accuracy: 0.0963 - hour_mae: 4.4333 - minute_accuracy: 0.0167 - minute_mae: 15.0510 - val_loss: 308.8170 - val_hour_loss: 8.4568 - val_minute_loss: 300.3603 - val_hour_accuracy: 0.0000e+00 - val_hour_mae: 10.4167 - val_minute_accuracy: 0.0167 - val_minute_mae: 14.9896\n",
      "Epoch 4/20\n",
      "469/469 [==============================] - 143s 306ms/step - loss: 305.0408 - hour_loss: 2.3061 - minute_loss: 302.7348 - hour_accuracy: 0.1010 - hour_mae: 4.4333 - minute_accuracy: 0.0167 - minute_mae: 14.9688 - val_loss: 306.8045 - val_hour_loss: 8.5185 - val_minute_loss: 298.2861 - val_hour_accuracy: 0.0000e+00 - val_hour_mae: 10.4167 - val_minute_accuracy: 0.0167 - val_minute_mae: 14.9188\n",
      "Epoch 5/20\n",
      "469/469 [==============================] - 153s 326ms/step - loss: 1709.6973 - hour_loss: 2.3248 - minute_loss: 1707.3715 - hour_accuracy: 0.0964 - hour_mae: 4.4333 - minute_accuracy: 0.0167 - minute_mae: 16.3643 - val_loss: 309.1168 - val_hour_loss: 7.6961 - val_minute_loss: 301.4207 - val_hour_accuracy: 0.0000e+00 - val_hour_mae: 10.4167 - val_minute_accuracy: 0.0167 - val_minute_mae: 15.0233\n",
      "Epoch 6/20\n",
      "469/469 [==============================] - 150s 320ms/step - loss: 306.7502 - hour_loss: 2.3060 - minute_loss: 304.4442 - hour_accuracy: 0.0953 - hour_mae: 4.4333 - minute_accuracy: 0.0167 - minute_mae: 15.0721 - val_loss: 312.3755 - val_hour_loss: 7.5969 - val_minute_loss: 304.7787 - val_hour_accuracy: 0.0000e+00 - val_hour_mae: 10.4167 - val_minute_accuracy: 0.0167 - val_minute_mae: 15.0803\n",
      "Epoch 7/20\n",
      "469/469 [==============================] - ETA: 0s - loss: 305.5704 - hour_loss: 2.3045 - minute_loss: 303.2657 - hour_accuracy: 0.1003 - hour_mae: 4.4333 - minute_accuracy: 0.0167 - minute_mae: 15.0380"
     ]
    },
    {
     "name": "stderr",
     "output_type": "stream",
     "text": [
      "Error: command buffer exited with error status.\n",
      "\tThe Metal Performance Shaders operations encoded on it may not have completed.\n",
      "\tError: \n",
      "\t(null)\n",
      "\tInternal Error (0000000e:Internal Error)\n",
      "\t<AGXG13GFamilyCommandBuffer: 0x397d2c060>\n",
      "    label = <none> \n",
      "    device = <AGXG13GDevice: 0x1453a0e00>\n",
      "        name = Apple M1 \n",
      "    commandQueue = <AGXG13GFamilyCommandQueue: 0x121419600>\n",
      "        label = <none> \n",
      "        device = <AGXG13GDevice: 0x1453a0e00>\n",
      "            name = Apple M1 \n",
      "    retainedReferences = 1\n"
     ]
    },
    {
     "name": "stdout",
     "output_type": "stream",
     "text": [
      "469/469 [==============================] - 182s 388ms/step - loss: 305.5704 - hour_loss: 2.3045 - minute_loss: 303.2657 - hour_accuracy: 0.1003 - hour_mae: 4.4333 - minute_accuracy: 0.0167 - minute_mae: 15.0380 - val_loss: 322.6082 - val_hour_loss: 9.9862 - val_minute_loss: 312.6219 - val_hour_accuracy: 0.0000e+00 - val_hour_mae: 10.4167 - val_minute_accuracy: 0.0167 - val_minute_mae: 15.2086\n",
      "Epoch 8/20\n",
      "469/469 [==============================] - 156s 332ms/step - loss: 304.7308 - hour_loss: 2.3046 - minute_loss: 302.4263 - hour_accuracy: 0.0955 - hour_mae: 4.4333 - minute_accuracy: 0.0167 - minute_mae: 15.0330 - val_loss: 310.8029 - val_hour_loss: 10.6303 - val_minute_loss: 300.1726 - val_hour_accuracy: 0.0000e+00 - val_hour_mae: 10.4167 - val_minute_accuracy: 0.0167 - val_minute_mae: 15.0002\n",
      "Epoch 9/20\n",
      "367/469 [======================>.......] - ETA: 29s - loss: 324.5864 - hour_loss: 2.3048 - minute_loss: 322.2819 - hour_accuracy: 0.0991 - hour_mae: 4.4241 - minute_accuracy: 0.0163 - minute_mae: 15.2815"
     ]
    }
   ],
   "source": [
    "history = model.fit(X_train, [y_train[:,0], y_train[:,1]], epochs=20, \n",
    "                    validation_data=(X_valid, [y_valid[:,0], y_valid[:,1]]))"
   ]
  },
  {
   "cell_type": "code",
   "execution_count": null,
   "id": "fcb6b88d",
   "metadata": {},
   "outputs": [],
   "source": [
    "pd.DataFrame(history.history).plot(figsize=(8,5))\n",
    "plt.grid(True)\n",
    "plt.gca().set_ylim(0,1000) # set the vertical range to [0-1]\n",
    "plt.gca().set_xlim(0,29)\n",
    "plt.show()"
   ]
  },
  {
   "cell_type": "code",
   "execution_count": null,
   "id": "7e8685e3",
   "metadata": {},
   "outputs": [],
   "source": []
  }
 ],
 "metadata": {
  "kernelspec": {
   "display_name": "Python 3 (ipykernel)",
   "language": "python",
   "name": "python3"
  },
  "language_info": {
   "codemirror_mode": {
    "name": "ipython",
    "version": 3
   },
   "file_extension": ".py",
   "mimetype": "text/x-python",
   "name": "python",
   "nbconvert_exporter": "python",
   "pygments_lexer": "ipython3",
   "version": "3.9.12"
  }
 },
 "nbformat": 4,
 "nbformat_minor": 5
}
