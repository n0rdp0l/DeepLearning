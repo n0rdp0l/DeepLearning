{
 "cells": [
  {
   "cell_type": "code",
   "execution_count": 11,
   "id": "03f1cd8e",
   "metadata": {},
   "outputs": [],
   "source": [
    "import tensorflow as tf\n",
    "from tensorflow import keras\n",
    "import pandas as pd\n",
    "import matplotlib.pyplot as plt\n",
    "import numpy as np"
   ]
  },
  {
   "cell_type": "code",
   "execution_count": 12,
   "id": "442f19e7",
   "metadata": {
    "scrolled": true
   },
   "outputs": [],
   "source": [
    "fashion_mnist = keras.datasets.fashion_mnist\n",
    "cifar_10 = keras.datasets.cifar10"
   ]
  },
  {
   "cell_type": "markdown",
   "id": "11c7b667",
   "metadata": {},
   "source": [
    "## Fashion Minist\n",
    "### MLP"
   ]
  },
  {
   "cell_type": "code",
   "execution_count": 13,
   "id": "17c25e64",
   "metadata": {},
   "outputs": [],
   "source": [
    "(x_train_full_mlp, y_train_full_mlp), (x_test_mlp, y_test_mlp) = fashion_mnist.load_data()"
   ]
  },
  {
   "cell_type": "code",
   "execution_count": 14,
   "id": "3fb9d842",
   "metadata": {},
   "outputs": [],
   "source": [
    "X_valid_mlp, X_train_mlp = x_train_full_mlp[:5000]/255.0, x_train_full_mlp[5000:]/255.0\n",
    "y_valid_mlp, y_train_mlp = y_train_full_mlp[:5000], y_train_full_mlp[5000:]\n",
    "X_test_mlp = x_test_mlp/255.0"
   ]
  },
  {
   "cell_type": "code",
   "execution_count": 6,
   "id": "21bbdd70",
   "metadata": {},
   "outputs": [],
   "source": [
    "class_names = ['T-shirt/top', 'Trouser', 'Pullover', 'Dress',\n",
    "               'Coat', 'Sandal', 'Shirt', 'Sneaker', 'Bag', 'Ankle boot']"
   ]
  },
  {
   "cell_type": "code",
   "execution_count": 7,
   "id": "498de0c7",
   "metadata": {},
   "outputs": [
    {
     "name": "stdout",
     "output_type": "stream",
     "text": [
      "Metal device set to: Apple M1\n"
     ]
    },
    {
     "name": "stderr",
     "output_type": "stream",
     "text": [
      "2022-11-07 16:24:28.181861: I tensorflow/core/common_runtime/pluggable_device/pluggable_device_factory.cc:306] Could not identify NUMA node of platform GPU ID 0, defaulting to 0. Your kernel may not have been built with NUMA support.\n",
      "2022-11-07 16:24:28.182265: I tensorflow/core/common_runtime/pluggable_device/pluggable_device_factory.cc:272] Created TensorFlow device (/job:localhost/replica:0/task:0/device:GPU:0 with 0 MB memory) -> physical PluggableDevice (device: 0, name: METAL, pci bus id: <undefined>)\n"
     ]
    }
   ],
   "source": [
    "model_mlp = keras.models.Sequential([\n",
    "    keras.layers.Flatten(input_shape=[28,28]),\n",
    "    keras.layers.Dense(300, activation='relu'),\n",
    "    keras.layers.Dense(100, activation='relu'),\n",
    "    keras.layers.Dense(10, activation='softmax')\n",
    "])"
   ]
  },
  {
   "cell_type": "code",
   "execution_count": 8,
   "id": "a6cbeab6",
   "metadata": {},
   "outputs": [],
   "source": [
    "model_mlp.compile(loss='sparse_categorical_crossentropy', \n",
    "                  optimizer='sgd',\n",
    "                  metrics=['accuracy'])"
   ]
  },
  {
   "cell_type": "code",
   "execution_count": 9,
   "id": "937786ba",
   "metadata": {},
   "outputs": [
    {
     "name": "stdout",
     "output_type": "stream",
     "text": [
      "Epoch 1/30\n"
     ]
    },
    {
     "name": "stderr",
     "output_type": "stream",
     "text": [
      "2022-11-07 16:24:28.792735: W tensorflow/core/platform/profile_utils/cpu_utils.cc:128] Failed to get CPU frequency: 0 Hz\n",
      "2022-11-07 16:24:29.039395: I tensorflow/core/grappler/optimizers/custom_graph_optimizer_registry.cc:114] Plugin optimizer for device_type GPU is enabled.\n"
     ]
    },
    {
     "name": "stdout",
     "output_type": "stream",
     "text": [
      "1719/1719 [==============================] - ETA: 0s - loss: 0.7002 - accuracy: 0.7722"
     ]
    },
    {
     "name": "stderr",
     "output_type": "stream",
     "text": [
      "2022-11-07 16:24:39.756785: I tensorflow/core/grappler/optimizers/custom_graph_optimizer_registry.cc:114] Plugin optimizer for device_type GPU is enabled.\n"
     ]
    },
    {
     "name": "stdout",
     "output_type": "stream",
     "text": [
      "1719/1719 [==============================] - 12s 6ms/step - loss: 0.7002 - accuracy: 0.7722 - val_loss: 0.5092 - val_accuracy: 0.8274\n",
      "Epoch 2/30\n",
      "1719/1719 [==============================] - 10s 6ms/step - loss: 0.4877 - accuracy: 0.8297 - val_loss: 0.4499 - val_accuracy: 0.8444\n",
      "Epoch 3/30\n",
      "1719/1719 [==============================] - 10s 6ms/step - loss: 0.4438 - accuracy: 0.8441 - val_loss: 0.4208 - val_accuracy: 0.8584\n",
      "Epoch 4/30\n",
      "1719/1719 [==============================] - 10s 6ms/step - loss: 0.4166 - accuracy: 0.8537 - val_loss: 0.3941 - val_accuracy: 0.8652\n",
      "Epoch 5/30\n",
      "1719/1719 [==============================] - 10s 6ms/step - loss: 0.3966 - accuracy: 0.8598 - val_loss: 0.3856 - val_accuracy: 0.8672\n",
      "Epoch 6/30\n",
      "1719/1719 [==============================] - 10s 6ms/step - loss: 0.3803 - accuracy: 0.8655 - val_loss: 0.3761 - val_accuracy: 0.8680\n",
      "Epoch 7/30\n",
      "1719/1719 [==============================] - 10s 6ms/step - loss: 0.3659 - accuracy: 0.8689 - val_loss: 0.3616 - val_accuracy: 0.8756\n",
      "Epoch 8/30\n",
      "1719/1719 [==============================] - 10s 6ms/step - loss: 0.3552 - accuracy: 0.8731 - val_loss: 0.3500 - val_accuracy: 0.8748\n",
      "Epoch 9/30\n",
      "1719/1719 [==============================] - 10s 6ms/step - loss: 0.3443 - accuracy: 0.8767 - val_loss: 0.3483 - val_accuracy: 0.8800\n",
      "Epoch 10/30\n",
      "1719/1719 [==============================] - 10s 6ms/step - loss: 0.3346 - accuracy: 0.8813 - val_loss: 0.3441 - val_accuracy: 0.8758\n",
      "Epoch 11/30\n",
      "1719/1719 [==============================] - 10s 6ms/step - loss: 0.3274 - accuracy: 0.8830 - val_loss: 0.3308 - val_accuracy: 0.8774\n",
      "Epoch 12/30\n",
      "1719/1719 [==============================] - 10s 6ms/step - loss: 0.3200 - accuracy: 0.8854 - val_loss: 0.3288 - val_accuracy: 0.8840\n",
      "Epoch 13/30\n",
      "1719/1719 [==============================] - 10s 6ms/step - loss: 0.3121 - accuracy: 0.8879 - val_loss: 0.3215 - val_accuracy: 0.8818\n",
      "Epoch 14/30\n",
      "1719/1719 [==============================] - 10s 6ms/step - loss: 0.3049 - accuracy: 0.8897 - val_loss: 0.3383 - val_accuracy: 0.8742\n",
      "Epoch 15/30\n",
      "1719/1719 [==============================] - 10s 6ms/step - loss: 0.2994 - accuracy: 0.8922 - val_loss: 0.3322 - val_accuracy: 0.8792\n",
      "Epoch 16/30\n",
      "1719/1719 [==============================] - 10s 6ms/step - loss: 0.2923 - accuracy: 0.8945 - val_loss: 0.3175 - val_accuracy: 0.8860\n",
      "Epoch 17/30\n",
      "1719/1719 [==============================] - 10s 6ms/step - loss: 0.2868 - accuracy: 0.8970 - val_loss: 0.3186 - val_accuracy: 0.8842\n",
      "Epoch 18/30\n",
      "1719/1719 [==============================] - 10s 6ms/step - loss: 0.2807 - accuracy: 0.8984 - val_loss: 0.3084 - val_accuracy: 0.8856\n",
      "Epoch 19/30\n",
      "1719/1719 [==============================] - 10s 6ms/step - loss: 0.2753 - accuracy: 0.9018 - val_loss: 0.3193 - val_accuracy: 0.8818\n",
      "Epoch 20/30\n",
      "1719/1719 [==============================] - 10s 6ms/step - loss: 0.2713 - accuracy: 0.9023 - val_loss: 0.3149 - val_accuracy: 0.8854\n",
      "Epoch 21/30\n",
      "1719/1719 [==============================] - 10s 6ms/step - loss: 0.2667 - accuracy: 0.9044 - val_loss: 0.3172 - val_accuracy: 0.8852\n",
      "Epoch 22/30\n",
      "1719/1719 [==============================] - 10s 6ms/step - loss: 0.2614 - accuracy: 0.9058 - val_loss: 0.3138 - val_accuracy: 0.8868\n",
      "Epoch 23/30\n",
      "1719/1719 [==============================] - 10s 6ms/step - loss: 0.2564 - accuracy: 0.9070 - val_loss: 0.3204 - val_accuracy: 0.8810\n",
      "Epoch 24/30\n",
      "1719/1719 [==============================] - 10s 6ms/step - loss: 0.2522 - accuracy: 0.9088 - val_loss: 0.3199 - val_accuracy: 0.8852\n",
      "Epoch 25/30\n",
      "1719/1719 [==============================] - 10s 6ms/step - loss: 0.2477 - accuracy: 0.9104 - val_loss: 0.3015 - val_accuracy: 0.8888\n",
      "Epoch 26/30\n",
      "1719/1719 [==============================] - 10s 6ms/step - loss: 0.2435 - accuracy: 0.9127 - val_loss: 0.2961 - val_accuracy: 0.8934\n",
      "Epoch 27/30\n",
      "1719/1719 [==============================] - 10s 6ms/step - loss: 0.2390 - accuracy: 0.9141 - val_loss: 0.3160 - val_accuracy: 0.8852\n",
      "Epoch 28/30\n",
      "1719/1719 [==============================] - 10s 6ms/step - loss: 0.2351 - accuracy: 0.9147 - val_loss: 0.3037 - val_accuracy: 0.8852\n",
      "Epoch 29/30\n",
      "1719/1719 [==============================] - 10s 6ms/step - loss: 0.2319 - accuracy: 0.9166 - val_loss: 0.2951 - val_accuracy: 0.8920\n",
      "Epoch 30/30\n",
      "1719/1719 [==============================] - 10s 6ms/step - loss: 0.2277 - accuracy: 0.9180 - val_loss: 0.2869 - val_accuracy: 0.8946\n"
     ]
    }
   ],
   "source": [
    "history = model_mlp.fit(X_train_mlp, y_train_mlp, epochs=30, \n",
    "                        validation_data=(X_valid_mlp, y_valid_mlp))"
   ]
  },
  {
   "cell_type": "code",
   "execution_count": 10,
   "id": "eb3ad92b",
   "metadata": {},
   "outputs": [
    {
     "data": {
      "image/png": "[encoded data removed]",
      "text/plain": [
       "<Figure size 800x500 with 1 Axes>"
      ]
     },
     "metadata": {},
     "output_type": "display_data"
    }
   ],
   "source": [
    "pd.DataFrame(history.history).plot(figsize=(8,5))\n",
    "plt.grid(True)\n",
    "plt.gca().set_ylim(0,1) # set the vertical range to [0-1]\n",
    "plt.gca().set_xlim(0,29)\n",
    "plt.show()"
   ]
  },
  {
   "cell_type": "code",
   "execution_count": 11,
   "id": "49715ccc",
   "metadata": {},
   "outputs": [
    {
     "name": "stdout",
     "output_type": "stream",
     "text": [
      "313/313 [==============================] - 1s 4ms/step - loss: 0.3256 - accuracy: 0.8874\n"
     ]
    },
    {
     "data": {
      "text/plain": [
       "[0.32560834288597107, 0.8874000310897827]"
      ]
     },
     "execution_count": 11,
     "metadata": {},
     "output_type": "execute_result"
    }
   ],
   "source": [
    "model_mlp.evaluate(X_test_mlp, y_test_mlp)"
   ]
  },
  {
   "cell_type": "code",
   "execution_count": 12,
   "id": "d0e7ebbe",
   "metadata": {},
   "outputs": [
    {
     "name": "stdout",
     "output_type": "stream",
     "text": [
      "1/1 [==============================] - 0s 109ms/step\n"
     ]
    },
    {
     "name": "stderr",
     "output_type": "stream",
     "text": [
      "2022-11-07 16:29:34.057781: I tensorflow/core/grappler/optimizers/custom_graph_optimizer_registry.cc:114] Plugin optimizer for device_type GPU is enabled.\n"
     ]
    }
   ],
   "source": [
    "X_new_mlp = X_test_mlp[:3]\n",
    "y_proba_mlp = model_mlp.predict(X_new_mlp)"
   ]
  },
  {
   "cell_type": "code",
   "execution_count": 13,
   "id": "d98d8408",
   "metadata": {},
   "outputs": [],
   "source": [
    "y_pred_mlp = np.argmax(y_proba_mlp, axis=1)"
   ]
  },
  {
   "cell_type": "code",
   "execution_count": 14,
   "id": "b8eec3f5",
   "metadata": {},
   "outputs": [],
   "source": [
    "prediction_mlp = np.array(class_names)[y_pred_mlp]"
   ]
  },
  {
   "cell_type": "code",
   "execution_count": 15,
   "id": "95f3218e",
   "metadata": {},
   "outputs": [],
   "source": [
    "y_new_mlp = y_test_mlp[:3]\n",
    "result_mlp = np.array(class_names)[y_new_mlp]"
   ]
  },
  {
   "cell_type": "code",
   "execution_count": 16,
   "id": "77164825",
   "metadata": {},
   "outputs": [
    {
     "name": "stdout",
     "output_type": "stream",
     "text": [
      "['Ankle boot' 'Pullover' 'Trouser']\n",
      "['Ankle boot' 'Pullover' 'Trouser']\n"
     ]
    }
   ],
   "source": [
    "print(prediction_mlp)\n",
    "print(result_mlp)"
   ]
  },
  {
   "cell_type": "markdown",
   "id": "1e9d7f16",
   "metadata": {},
   "source": [
    "### CNN"
   ]
  },
  {
   "cell_type": "code",
   "execution_count": 17,
   "id": "a54312f9",
   "metadata": {},
   "outputs": [],
   "source": [
    "(x_train_full_cnn, y_train_full_cnn), (x_test_cnn, y_test_cnn) = fashion_mnist.load_data()"
   ]
  },
  {
   "cell_type": "code",
   "execution_count": 18,
   "id": "76f2ab7a",
   "metadata": {},
   "outputs": [],
   "source": [
    "X_valid_cnn, X_train_cnn = x_train_full_cnn[:5000]/255.0, x_train_full_cnn[5000:]/255.0\n",
    "y_valid_cnn, y_train_cnn = y_train_full_cnn[:5000], y_train_full_cnn[5000:]\n",
    "X_test_cnn = x_test_cnn/255.0"
   ]
  },
  {
   "cell_type": "code",
   "execution_count": 19,
   "id": "2b733271",
   "metadata": {},
   "outputs": [],
   "source": [
    "class_names = ['T-shirt/top', 'Trouser', 'Pullover', 'Dress',\n",
    "               'Coat', 'Sandal', 'Shirt', 'Sneaker', 'Bag', 'Ankle boot']"
   ]
  },
  {
   "cell_type": "code",
   "execution_count": 21,
   "id": "4bd35bbe",
   "metadata": {},
   "outputs": [],
   "source": [
    "model_cnn = keras.models.Sequential([\n",
    "    keras.layers.Conv2D(64, 7, activation='relu', padding='same', \n",
    "                        input_shape=[28,28,1]),\n",
    "    keras.layers.MaxPooling2D(2),\n",
    "    keras.layers.Conv2D(128, 3, activation='relu', padding='same'),\n",
    "    keras.layers.Conv2D(128, 3, activation='relu', padding='same'),\n",
    "    keras.layers.MaxPooling2D(2),\n",
    "    keras.layers.Conv2D(256, 3, activation='relu', padding='same'),\n",
    "    keras.layers.Conv2D(256, 3, activation='relu', padding='same'),\n",
    "    keras.layers.MaxPooling2D(2),\n",
    "    keras.layers.Flatten(),\n",
    "    keras.layers.Dense(128, activation='relu'),\n",
    "    keras.layers.Dropout(0.5),\n",
    "    keras.layers.Dense(64, activation='relu'),\n",
    "    keras.layers.Dropout(0.5),\n",
    "    keras.layers.Dense(10, activation='softmax')\n",
    "])"
   ]
  },
  {
   "cell_type": "code",
   "execution_count": 22,
   "id": "33efceb7",
   "metadata": {},
   "outputs": [],
   "source": [
    "model_cnn.compile(loss='sparse_categorical_crossentropy', \n",
    "                  optimizer='sgd',\n",
    "                  metrics=['accuracy'])"
   ]
  },
  {
   "cell_type": "code",
   "execution_count": 23,
   "id": "5d3cf4aa",
   "metadata": {},
   "outputs": [
    {
     "name": "stdout",
     "output_type": "stream",
     "text": [
      "Epoch 1/30\n"
     ]
    },
    {
     "name": "stderr",
     "output_type": "stream",
     "text": [
      "2022-11-07 16:38:02.249563: I tensorflow/core/grappler/optimizers/custom_graph_optimizer_registry.cc:114] Plugin optimizer for device_type GPU is enabled.\n"
     ]
    },
    {
     "name": "stdout",
     "output_type": "stream",
     "text": [
      "1719/1719 [==============================] - ETA: 0s - loss: 1.2437 - accuracy: 0.5333"
     ]
    },
    {
     "name": "stderr",
     "output_type": "stream",
     "text": [
      "2022-11-07 16:39:06.248113: I tensorflow/core/grappler/optimizers/custom_graph_optimizer_registry.cc:114] Plugin optimizer for device_type GPU is enabled.\n"
     ]
    },
    {
     "name": "stdout",
     "output_type": "stream",
     "text": [
      "1719/1719 [==============================] - 66s 37ms/step - loss: 1.2437 - accuracy: 0.5333 - val_loss: 0.6701 - val_accuracy: 0.7568\n",
      "Epoch 2/30\n",
      "1719/1719 [==============================] - 62s 36ms/step - loss: 0.6767 - accuracy: 0.7482 - val_loss: 0.5123 - val_accuracy: 0.8086\n",
      "Epoch 3/30\n",
      "1719/1719 [==============================] - 62s 36ms/step - loss: 0.5476 - accuracy: 0.7998 - val_loss: 0.4348 - val_accuracy: 0.8464\n",
      "Epoch 4/30\n",
      "1719/1719 [==============================] - 60s 35ms/step - loss: 0.4755 - accuracy: 0.8268 - val_loss: 0.4161 - val_accuracy: 0.8538\n",
      "Epoch 5/30\n",
      "1719/1719 [==============================] - 59s 34ms/step - loss: 0.4339 - accuracy: 0.8438 - val_loss: 0.3682 - val_accuracy: 0.8694\n",
      "Epoch 6/30\n",
      "1719/1719 [==============================] - 60s 35ms/step - loss: 0.4002 - accuracy: 0.8555 - val_loss: 0.3566 - val_accuracy: 0.8660\n",
      "Epoch 7/30\n",
      "1719/1719 [==============================] - 60s 35ms/step - loss: 0.3740 - accuracy: 0.8647 - val_loss: 0.4096 - val_accuracy: 0.8504\n",
      "Epoch 8/30\n",
      "1719/1719 [==============================] - 61s 36ms/step - loss: 0.3554 - accuracy: 0.8723 - val_loss: 0.3122 - val_accuracy: 0.8840\n",
      "Epoch 9/30\n",
      "1719/1719 [==============================] - 58s 34ms/step - loss: 0.3361 - accuracy: 0.8780 - val_loss: 0.3099 - val_accuracy: 0.8870\n",
      "Epoch 10/30\n",
      "1719/1719 [==============================] - 58s 34ms/step - loss: 0.3214 - accuracy: 0.8844 - val_loss: 0.2936 - val_accuracy: 0.8904\n",
      "Epoch 11/30\n",
      "1719/1719 [==============================] - 58s 34ms/step - loss: 0.3083 - accuracy: 0.8878 - val_loss: 0.2889 - val_accuracy: 0.8940\n",
      "Epoch 12/30\n",
      "1719/1719 [==============================] - 59s 35ms/step - loss: 0.2968 - accuracy: 0.8914 - val_loss: 0.2691 - val_accuracy: 0.8994\n",
      "Epoch 13/30\n",
      "1719/1719 [==============================] - 59s 34ms/step - loss: 0.2847 - accuracy: 0.8974 - val_loss: 0.2763 - val_accuracy: 0.8966\n",
      "Epoch 14/30\n",
      "1719/1719 [==============================] - 57s 33ms/step - loss: 0.2748 - accuracy: 0.9000 - val_loss: 0.2773 - val_accuracy: 0.8968\n",
      "Epoch 15/30\n",
      "1719/1719 [==============================] - 57s 33ms/step - loss: 0.2641 - accuracy: 0.9042 - val_loss: 0.2757 - val_accuracy: 0.8938\n",
      "Epoch 16/30\n",
      "1719/1719 [==============================] - 57s 33ms/step - loss: 0.2546 - accuracy: 0.9071 - val_loss: 0.2544 - val_accuracy: 0.9038\n",
      "Epoch 17/30\n",
      "1719/1719 [==============================] - 57s 33ms/step - loss: 0.2477 - accuracy: 0.9104 - val_loss: 0.2515 - val_accuracy: 0.9064\n",
      "Epoch 18/30\n",
      "1719/1719 [==============================] - 57s 33ms/step - loss: 0.2384 - accuracy: 0.9135 - val_loss: 0.2563 - val_accuracy: 0.9032\n",
      "Epoch 19/30\n",
      "1719/1719 [==============================] - 57s 33ms/step - loss: 0.2293 - accuracy: 0.9169 - val_loss: 0.2390 - val_accuracy: 0.9116\n",
      "Epoch 20/30\n",
      "1719/1719 [==============================] - 57s 33ms/step - loss: 0.2246 - accuracy: 0.9180 - val_loss: 0.2374 - val_accuracy: 0.9098\n",
      "Epoch 21/30\n",
      "1719/1719 [==============================] - 57s 33ms/step - loss: 0.2166 - accuracy: 0.9209 - val_loss: 0.2329 - val_accuracy: 0.9142\n",
      "Epoch 22/30\n",
      "1719/1719 [==============================] - 57s 33ms/step - loss: 0.2090 - accuracy: 0.9234 - val_loss: 0.2371 - val_accuracy: 0.9124\n",
      "Epoch 23/30\n",
      "1719/1719 [==============================] - 57s 33ms/step - loss: 0.2004 - accuracy: 0.9271 - val_loss: 0.2340 - val_accuracy: 0.9122\n",
      "Epoch 24/30\n",
      "1719/1719 [==============================] - 57s 33ms/step - loss: 0.1932 - accuracy: 0.9290 - val_loss: 0.2321 - val_accuracy: 0.9142\n",
      "Epoch 25/30\n",
      "1719/1719 [==============================] - 57s 33ms/step - loss: 0.1872 - accuracy: 0.9308 - val_loss: 0.2257 - val_accuracy: 0.9156\n",
      "Epoch 26/30\n",
      "1719/1719 [==============================] - 57s 33ms/step - loss: 0.1805 - accuracy: 0.9339 - val_loss: 0.2292 - val_accuracy: 0.9154\n",
      "Epoch 27/30\n",
      "1719/1719 [==============================] - 57s 33ms/step - loss: 0.1750 - accuracy: 0.9372 - val_loss: 0.2430 - val_accuracy: 0.9120\n",
      "Epoch 28/30\n",
      "1719/1719 [==============================] - 57s 33ms/step - loss: 0.1682 - accuracy: 0.9383 - val_loss: 0.2242 - val_accuracy: 0.9174\n",
      "Epoch 29/30\n",
      "1719/1719 [==============================] - 57s 33ms/step - loss: 0.1593 - accuracy: 0.9417 - val_loss: 0.2240 - val_accuracy: 0.9168\n",
      "Epoch 30/30\n",
      "1719/1719 [==============================] - 57s 33ms/step - loss: 0.1550 - accuracy: 0.9440 - val_loss: 0.2320 - val_accuracy: 0.9158\n"
     ]
    }
   ],
   "source": [
    "history = model_cnn.fit(X_train_cnn, y_train_cnn, epochs=30, \n",
    "                        validation_data=(X_valid_cnn, y_valid_cnn))"
   ]
  },
  {
   "cell_type": "code",
   "execution_count": 24,
   "id": "9de1c482",
   "metadata": {},
   "outputs": [
    {
     "data": {
      "image/png": "[encoded data removed]",
      "text/plain": [
       "<Figure size 800x500 with 1 Axes>"
      ]
     },
     "metadata": {},
     "output_type": "display_data"
    }
   ],
   "source": [
    "pd.DataFrame(history.history).plot(figsize=(8,5))\n",
    "plt.grid(True)\n",
    "plt.gca().set_ylim(0,1) # set the vertical range to [0-1]\n",
    "plt.gca().set_xlim(0,29)\n",
    "plt.show()"
   ]
  },
  {
   "cell_type": "code",
   "execution_count": 25,
   "id": "cf61876e",
   "metadata": {},
   "outputs": [
    {
     "name": "stdout",
     "output_type": "stream",
     "text": [
      "313/313 [==============================] - 1s 4ms/step - loss: 0.3256 - accuracy: 0.8874\n"
     ]
    },
    {
     "data": {
      "text/plain": [
       "[0.32560834288597107, 0.8874000310897827]"
      ]
     },
     "execution_count": 25,
     "metadata": {},
     "output_type": "execute_result"
    }
   ],
   "source": [
    "model_mlp.evaluate(X_test_cnn, y_test_cnn)"
   ]
  },
  {
   "cell_type": "code",
   "execution_count": 26,
   "id": "5e9095f1",
   "metadata": {},
   "outputs": [
    {
     "name": "stderr",
     "output_type": "stream",
     "text": [
      "2022-11-07 17:28:26.819887: I tensorflow/core/grappler/optimizers/custom_graph_optimizer_registry.cc:114] Plugin optimizer for device_type GPU is enabled.\n"
     ]
    },
    {
     "name": "stdout",
     "output_type": "stream",
     "text": [
      "1/1 [==============================] - 1s 522ms/step\n"
     ]
    }
   ],
   "source": [
    "X_new_cnn = X_test_cnn[:3]\n",
    "y_proba_cnn = model_cnn.predict(X_new_cnn)"
   ]
  },
  {
   "cell_type": "code",
   "execution_count": 27,
   "id": "6d13b68a",
   "metadata": {},
   "outputs": [],
   "source": [
    "y_pred_cnn = np.argmax(y_proba_cnn, axis=1)"
   ]
  },
  {
   "cell_type": "code",
   "execution_count": 30,
   "id": "9ad76c32",
   "metadata": {},
   "outputs": [],
   "source": [
    "prediction_cnn = np.array(class_names)[y_pred_cnn]"
   ]
  },
  {
   "cell_type": "code",
   "execution_count": 28,
   "id": "e8d7cb04",
   "metadata": {},
   "outputs": [],
   "source": [
    "y_new_cnn = y_test_cnn[:3]\n",
    "result_cnn = np.array(class_names)[y_new_cnn]"
   ]
  },
  {
   "cell_type": "code",
   "execution_count": 31,
   "id": "d6028ec0",
   "metadata": {},
   "outputs": [
    {
     "name": "stdout",
     "output_type": "stream",
     "text": [
      "['Ankle boot' 'Pullover' 'Trouser']\n",
      "['Ankle boot' 'Pullover' 'Trouser']\n"
     ]
    }
   ],
   "source": [
    "print(prediction_cnn)\n",
    "print(result_cnn)"
   ]
  },
  {
   "cell_type": "code",
   "execution_count": 16,
   "id": "5304161e",
   "metadata": {},
   "outputs": [
    {
     "data": {
      "text/plain": [
       "(28, 28)"
      ]
     },
     "execution_count": 16,
     "metadata": {},
     "output_type": "execute_result"
    }
   ],
   "source": [
    "X_valid_mlp[0].shape"
   ]
  },
  {
   "cell_type": "code",
   "execution_count": null,
   "id": "311a927b",
   "metadata": {},
   "outputs": [],
   "source": []
  }
 ],
 "metadata": {
  "kernelspec": {
   "display_name": "tf2_gpu",
   "language": "python",
   "name": "python3"
  },
  "language_info": {
   "codemirror_mode": {
    "name": "ipython",
    "version": 3
   },
   "file_extension": ".py",
   "mimetype": "text/x-python",
   "name": "python",
   "nbconvert_exporter": "python",
   "pygments_lexer": "ipython3",
   "version": "3.9.15 (main, Nov  4 2022, 16:35:55) [MSC v.1916 64 bit (AMD64)]"
  },
  "vscode": {
   "interpreter": {
    "hash": "465081b95da0388f01304ae56a60c88a466aa07cc2dfde89eacbd1030b57bc71"
   }
  }
 },
 "nbformat": 4,
 "nbformat_minor": 5
}
