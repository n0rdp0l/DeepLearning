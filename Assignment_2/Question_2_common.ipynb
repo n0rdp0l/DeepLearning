{
 "cells": [
  {
   "cell_type": "code",
   "execution_count": 1,
   "id": "ba0c3788",
   "metadata": {},
   "outputs": [],
   "source": [
    "import tensorflow as tf\n",
    "from tensorflow import keras\n",
    "import pandas as pd\n",
    "import matplotlib.pyplot as plt\n",
    "import numpy as np"
   ]
  },
  {
   "cell_type": "code",
   "execution_count": 2,
   "id": "0d7e15fe",
   "metadata": {},
   "outputs": [],
   "source": [
    "data_in = np.load(\"a2_data/images.npy\")\n",
    "data_out = np.load(\"a2_data/labels.npy\")"
   ]
  },
  {
   "cell_type": "code",
   "execution_count": 3,
   "id": "2cb3c610",
   "metadata": {},
   "outputs": [
    {
     "data": {
      "text/plain": [
       "'\\ndef custom_loss(y_valid, y_pred):\\n    hr_pred = y_pred[0]\\n    min_pred = y_pred[1]\\n    \\n    return loss\\n'"
      ]
     },
     "execution_count": 3,
     "metadata": {},
     "output_type": "execute_result"
    }
   ],
   "source": [
    "def convert_to_sin(hour, minute):\n",
    "    ang_hr = hour/12*2*np.pi+minute/12*2*np.pi/12\n",
    "    ang_min = minute/12*2*np.pi\n",
    "    sin_hr = np.sin(ang_hr/2)\n",
    "    cos_hr = np.cos(ang_hr/2)\n",
    "    sin_min = np.sin(ang_min/2)\n",
    "    cos_min = np.cos(ang_min/2)\n",
    "    hr_min_ang = [sin_hr, cos_hr, sin_min, cos_min]\n",
    "    return hr_min_ang\n",
    "\n",
    "'''\n",
    "def custom_loss(y_valid, y_pred):\n",
    "    hr_pred = y_pred[0]\n",
    "    min_pred = y_pred[1]\n",
    "    \n",
    "    return loss\n",
    "'''"
   ]
  },
  {
   "cell_type": "code",
   "execution_count": 4,
   "id": "752327de",
   "metadata": {},
   "outputs": [],
   "source": [
    "common_out = []\n",
    "for i in range(len(data_out)):\n",
    "    hour = data_out[i][0]\n",
    "    minute = data_out[i][1]\n",
    "    hr_min_ang = convert_to_sin(hour, minute)\n",
    "    common_out.append(hr_min_ang)\n",
    "common_out = np.array(common_out)"
   ]
  },
  {
   "cell_type": "code",
   "execution_count": 5,
   "id": "dbf9e1f8",
   "metadata": {},
   "outputs": [],
   "source": [
    "X_valid, X_train = data_in[15000:]/np.amax(data_in), data_in[:15000]/np.amax(data_in)\n",
    "y_valid, y_train = common_out[15000:], common_out[:15000]"
   ]
  },
  {
   "cell_type": "code",
   "execution_count": 6,
   "id": "e9b6e2f9",
   "metadata": {},
   "outputs": [
    {
     "data": {
      "text/plain": [
       "\"\\nmodel = keras.models.Sequential([\\n    keras.layers.Conv2D(64, 7, activation='relu', padding='same', \\n                        input_shape=[150,150,1]),\\n    keras.layers.MaxPooling2D(2),\\n    keras.layers.Conv2D(128, 3, activation='relu', padding='same'),\\n    keras.layers.Conv2D(128, 3, activation='relu', padding='same'),\\n    keras.layers.MaxPooling2D(2),\\n    keras.layers.Conv2D(256, 3, activation='relu', padding='same'),\\n    keras.layers.Conv2D(256, 3, activation='relu', padding='same'),\\n    keras.layers.MaxPooling2D(2),\\n    keras.layers.Flatten(),\\n    keras.layers.Dense(128, activation='relu'),\\n    keras.layers.Dropout(0.5),\\n    keras.layers.Dense(64, activation='relu'),\\n    keras.layers.Dropout(0.5),\\n    keras.layers.Dense(4)\\n])\\n\""
      ]
     },
     "execution_count": 6,
     "metadata": {},
     "output_type": "execute_result"
    }
   ],
   "source": [
    "'''\n",
    "model = keras.models.Sequential([\n",
    "    keras.layers.Conv2D(64, 7, activation='relu', padding='same', \n",
    "                        input_shape=[150,150,1]),\n",
    "    keras.layers.MaxPooling2D(2),\n",
    "    keras.layers.Conv2D(128, 3, activation='relu', padding='same'),\n",
    "    keras.layers.Conv2D(128, 3, activation='relu', padding='same'),\n",
    "    keras.layers.MaxPooling2D(2),\n",
    "    keras.layers.Conv2D(256, 3, activation='relu', padding='same'),\n",
    "    keras.layers.Conv2D(256, 3, activation='relu', padding='same'),\n",
    "    keras.layers.MaxPooling2D(2),\n",
    "    keras.layers.Flatten(),\n",
    "    keras.layers.Dense(128, activation='relu'),\n",
    "    keras.layers.Dropout(0.5),\n",
    "    keras.layers.Dense(64, activation='relu'),\n",
    "    keras.layers.Dropout(0.5),\n",
    "    keras.layers.Dense(4)\n",
    "])\n",
    "'''"
   ]
  },
  {
   "cell_type": "code",
   "execution_count": 7,
   "id": "55c08866",
   "metadata": {},
   "outputs": [
    {
     "data": {
      "text/plain": [
       "\"\\nmodel = keras.models.Sequential([\\n    keras.layers.Conv2D(50, kernel_size=5, strides=2, \\n                        activation='relu', input_shape=[150,150,1]),\\n    keras.layers.MaxPooling2D(pool_size=(2,2), strides=2),\\n    keras.layers.Conv2D(100, kernel_size=3, strides=1, activation='relu'),\\n    keras.layers.MaxPooling2D(pool_size=(2,2)),\\n    keras.layers.Conv2D(150, kernel_size=3, strides=1, activation='relu'),\\n    keras.layers.MaxPooling2D(pool_size=(2,2)),\\n    keras.layers.Conv2D(200, kernel_size=3, strides=1, activation='relu'),\\n    keras.layers.Dropout(0.4),\\n    keras.layers.Flatten(),\\n    keras.layers.Dense(100, activation='relu'),\\n    keras.layers.Dense(4, activation='linear')\\n])\\n\""
      ]
     },
     "execution_count": 7,
     "metadata": {},
     "output_type": "execute_result"
    }
   ],
   "source": [
    "'''\n",
    "model = keras.models.Sequential([\n",
    "    keras.layers.Conv2D(50, kernel_size=5, strides=2, \n",
    "                        activation='relu', input_shape=[150,150,1]),\n",
    "    keras.layers.MaxPooling2D(pool_size=(2,2), strides=2),\n",
    "    keras.layers.Conv2D(100, kernel_size=3, strides=1, activation='relu'),\n",
    "    keras.layers.MaxPooling2D(pool_size=(2,2)),\n",
    "    keras.layers.Conv2D(150, kernel_size=3, strides=1, activation='relu'),\n",
    "    keras.layers.MaxPooling2D(pool_size=(2,2)),\n",
    "    keras.layers.Conv2D(200, kernel_size=3, strides=1, activation='relu'),\n",
    "    keras.layers.Dropout(0.4),\n",
    "    keras.layers.Flatten(),\n",
    "    keras.layers.Dense(100, activation='relu'),\n",
    "    keras.layers.Dense(4, activation='linear')\n",
    "])\n",
    "'''"
   ]
  },
  {
   "cell_type": "code",
   "execution_count": 8,
   "id": "397014f7",
   "metadata": {},
   "outputs": [
    {
     "name": "stdout",
     "output_type": "stream",
     "text": [
      "Metal device set to: Apple M1\n"
     ]
    },
    {
     "name": "stderr",
     "output_type": "stream",
     "text": [
      "2022-11-10 02:09:59.592017: I tensorflow/core/common_runtime/pluggable_device/pluggable_device_factory.cc:306] Could not identify NUMA node of platform GPU ID 0, defaulting to 0. Your kernel may not have been built with NUMA support.\n",
      "2022-11-10 02:09:59.592127: I tensorflow/core/common_runtime/pluggable_device/pluggable_device_factory.cc:272] Created TensorFlow device (/job:localhost/replica:0/task:0/device:GPU:0 with 0 MB memory) -> physical PluggableDevice (device: 0, name: METAL, pci bus id: <undefined>)\n"
     ]
    }
   ],
   "source": [
    "input_ = keras.layers.Input(shape=(150,150,1))\n",
    "cnn = keras.layers.Conv2D(50, kernel_size=7, strides=2, activation='relu')(input_)\n",
    "cnn = keras.layers.MaxPooling2D(pool_size=(2,2), strides=2)(cnn)\n",
    "cnn = keras.layers.Conv2D(100, kernel_size=3, strides=1, activation='relu')(cnn)\n",
    "cnn = keras.layers.MaxPooling2D(pool_size=(2,2))(cnn)\n",
    "cnn = keras.layers.Conv2D(200, kernel_size=3, strides=1, activation='relu')(cnn)\n",
    "cnn = keras.layers.MaxPooling2D(pool_size=(2,2))(cnn)\n",
    "cnn = keras.layers.Conv2D(400, kernel_size=3, strides=1, activation='relu')(cnn)\n",
    "cnn = keras.layers.Dropout(0.6)(cnn)\n",
    "cnn = keras.layers.Flatten()(cnn)\n",
    "\n",
    "hour1 = keras.layers.Dense(144, activation='relu')(cnn)\n",
    "hour1 = keras.layers.Dense(144, activation='relu')(hour1)\n",
    "hour1 = keras.layers.Dense(1, activation='linear', name='h1')(hour1)\n",
    "\n",
    "hour2 = keras.layers.Dense(144, activation='relu')(cnn)\n",
    "hour2 = keras.layers.Dense(144, activation='relu')(hour2)\n",
    "hour2 = keras.layers.Dense(1, activation='linear', name='h2')(hour2)\n",
    "\n",
    "minute1 = keras.layers.Dense(100, activation='relu')(cnn)\n",
    "minute1 = keras.layers.Dense(100, activation='relu')(minute1)\n",
    "minute1 = keras.layers.Dense(1, activation='linear', name='m1')(minute1)\n",
    "\n",
    "minute2 = keras.layers.Dense(100, activation='relu')(cnn)\n",
    "minute2 = keras.layers.Dense(100, activation='relu')(minute2)\n",
    "minute2 = keras.layers.Dense(1, activation='linear', name='m2')(minute2)\n",
    "\n",
    "model = keras.Model(inputs=input_, outputs=[hour1, hour2, minute1, minute2])"
   ]
  },
  {
   "cell_type": "code",
   "execution_count": 9,
   "id": "f396caa1",
   "metadata": {},
   "outputs": [
    {
     "data": {
      "text/plain": [
       "\"\\nmodel.compile(loss=['mae','mae','mae','mae'], \\n              optimizer= keras.optimizers.SGD(learning_rate=1e-3))\\nhistory = model.fit(X_train, y_train, epochs=20,\\n                   validation_data=(X_valid, y_valid))\\n\""
      ]
     },
     "execution_count": 9,
     "metadata": {},
     "output_type": "execute_result"
    }
   ],
   "source": [
    "'''\n",
    "model.compile(loss=['mae','mae','mae','mae'], \n",
    "              optimizer= keras.optimizers.SGD(learning_rate=1e-3))\n",
    "history = model.fit(X_train, y_train, epochs=20,\n",
    "                   validation_data=(X_valid, y_valid))\n",
    "'''"
   ]
  },
  {
   "cell_type": "code",
   "execution_count": 10,
   "id": "0ec205e5",
   "metadata": {},
   "outputs": [],
   "source": [
    "adam = keras.optimizers.Adam(learning_rate=0.01)\n",
    "model.compile(loss=['mse', 'mse', 'mse', 'mse'], \n",
    "              optimizer=adam, metrics='mae')"
   ]
  },
  {
   "cell_type": "code",
   "execution_count": null,
   "id": "0eb58ab5",
   "metadata": {},
   "outputs": [
    {
     "name": "stdout",
     "output_type": "stream",
     "text": [
      "Epoch 1/200\n"
     ]
    },
    {
     "name": "stderr",
     "output_type": "stream",
     "text": [
      "2022-11-10 02:10:02.683468: W tensorflow/core/platform/profile_utils/cpu_utils.cc:128] Failed to get CPU frequency: 0 Hz\n",
      "2022-11-10 02:10:03.696771: I tensorflow/core/grappler/optimizers/custom_graph_optimizer_registry.cc:114] Plugin optimizer for device_type GPU is enabled.\n"
     ]
    },
    {
     "name": "stdout",
     "output_type": "stream",
     "text": [
      "469/469 [==============================] - ETA: 0s - loss: 47691.9883 - h1_loss: 44214.1719 - h2_loss: 2870.3369 - m1_loss: 245.5506 - m2_loss: 361.3483 - h1_mae: 10.1435 - h2_mae: 3.1226 - m1_mae: 1.3869 - m2_mae: 1.5686"
     ]
    },
    {
     "name": "stderr",
     "output_type": "stream",
     "text": [
      "2022-11-10 02:10:46.978008: I tensorflow/core/grappler/optimizers/custom_graph_optimizer_registry.cc:114] Plugin optimizer for device_type GPU is enabled.\n"
     ]
    },
    {
     "name": "stdout",
     "output_type": "stream",
     "text": [
      "469/469 [==============================] - 46s 95ms/step - loss: 47691.9883 - h1_loss: 44214.1719 - h2_loss: 2870.3369 - m1_loss: 245.5506 - m2_loss: 361.3483 - h1_mae: 10.1435 - h2_mae: 3.1226 - m1_mae: 1.3869 - m2_mae: 1.5686 - val_loss: 2.1793 - val_h1_loss: 0.6912 - val_h2_loss: 0.5037 - val_m1_loss: 0.4844 - val_m2_loss: 0.5001 - val_h1_mae: 0.7457 - val_h2_mae: 0.6994 - val_m1_mae: 0.6184 - val_m2_mae: 0.6354\n",
      "Epoch 2/200\n",
      "469/469 [==============================] - 36s 77ms/step - loss: 1.5250 - h1_loss: 0.1262 - h2_loss: 0.4106 - m1_loss: 0.4864 - m2_loss: 0.5018 - h1_mae: 0.2852 - h2_mae: 0.5648 - m1_mae: 0.6205 - m2_mae: 0.6361 - val_loss: 2.2498 - val_h1_loss: 0.6587 - val_h2_loss: 0.6063 - val_m1_loss: 0.4841 - val_m2_loss: 0.5008 - val_h1_mae: 0.7237 - val_h2_mae: 0.7693 - val_m1_mae: 0.6212 - val_m2_mae: 0.6346\n",
      "Epoch 3/200\n",
      "469/469 [==============================] - 36s 77ms/step - loss: 1.5196 - h1_loss: 0.1234 - h2_loss: 0.4104 - m1_loss: 0.4849 - m2_loss: 0.5008 - h1_mae: 0.2825 - h2_mae: 0.5649 - m1_mae: 0.6204 - m2_mae: 0.6353 - val_loss: 2.2332 - val_h1_loss: 0.6923 - val_h2_loss: 0.5436 - val_m1_loss: 0.4852 - val_m2_loss: 0.5120 - val_h1_mae: 0.7465 - val_h2_mae: 0.7274 - val_m1_mae: 0.6168 - val_m2_mae: 0.6415\n",
      "Epoch 4/200\n",
      "469/469 [==============================] - 36s 77ms/step - loss: 1.5179 - h1_loss: 0.1221 - h2_loss: 0.4099 - m1_loss: 0.4846 - m2_loss: 0.5013 - h1_mae: 0.2813 - h2_mae: 0.5645 - m1_mae: 0.6200 - m2_mae: 0.6354 - val_loss: 2.4725 - val_h1_loss: 0.9563 - val_h2_loss: 0.5320 - val_m1_loss: 0.4840 - val_m2_loss: 0.5002 - val_h1_mae: 0.9062 - val_h2_mae: 0.7194 - val_m1_mae: 0.6209 - val_m2_mae: 0.6355\n",
      "Epoch 5/200\n",
      "469/469 [==============================] - 36s 77ms/step - loss: 1.5161 - h1_loss: 0.1213 - h2_loss: 0.4094 - m1_loss: 0.4850 - m2_loss: 0.5004 - h1_mae: 0.2806 - h2_mae: 0.5642 - m1_mae: 0.6205 - m2_mae: 0.6345 - val_loss: 2.2857 - val_h1_loss: 0.7732 - val_h2_loss: 0.5279 - val_m1_loss: 0.4842 - val_m2_loss: 0.5005 - val_h1_mae: 0.7988 - val_h2_mae: 0.7165 - val_m1_mae: 0.6217 - val_m2_mae: 0.6359\n",
      "Epoch 6/200\n",
      "469/469 [==============================] - 36s 77ms/step - loss: 1.5152 - h1_loss: 0.1211 - h2_loss: 0.4093 - m1_loss: 0.4846 - m2_loss: 0.5002 - h1_mae: 0.2807 - h2_mae: 0.5642 - m1_mae: 0.6199 - m2_mae: 0.6348 - val_loss: 2.3949 - val_h1_loss: 0.8229 - val_h2_loss: 0.5781 - val_m1_loss: 0.4942 - val_m2_loss: 0.4997 - val_h1_mae: 0.8293 - val_h2_mae: 0.7507 - val_m1_mae: 0.6304 - val_m2_mae: 0.6343\n",
      "Epoch 7/200\n",
      "469/469 [==============================] - 37s 78ms/step - loss: 1.5157 - h1_loss: 0.1215 - h2_loss: 0.4090 - m1_loss: 0.4847 - m2_loss: 0.5003 - h1_mae: 0.2809 - h2_mae: 0.5640 - m1_mae: 0.6204 - m2_mae: 0.6347 - val_loss: 2.3473 - val_h1_loss: 0.8441 - val_h2_loss: 0.5187 - val_m1_loss: 0.4843 - val_m2_loss: 0.5002 - val_h1_mae: 0.8420 - val_h2_mae: 0.7101 - val_m1_mae: 0.6186 - val_m2_mae: 0.6336\n",
      "Epoch 8/200\n",
      "469/469 [==============================] - 37s 79ms/step - loss: 1.5190 - h1_loss: 0.1229 - h2_loss: 0.4094 - m1_loss: 0.4857 - m2_loss: 0.5010 - h1_mae: 0.2821 - h2_mae: 0.5640 - m1_mae: 0.6205 - m2_mae: 0.6351 - val_loss: 2.3639 - val_h1_loss: 0.8677 - val_h2_loss: 0.5114 - val_m1_loss: 0.4845 - val_m2_loss: 0.5005 - val_h1_mae: 0.8559 - val_h2_mae: 0.7049 - val_m1_mae: 0.6225 - val_m2_mae: 0.6359\n",
      "Epoch 9/200\n",
      "469/469 [==============================] - 37s 78ms/step - loss: 1.5151 - h1_loss: 0.1211 - h2_loss: 0.4091 - m1_loss: 0.4849 - m2_loss: 0.5001 - h1_mae: 0.2803 - h2_mae: 0.5640 - m1_mae: 0.6207 - m2_mae: 0.6342 - val_loss: 2.3235 - val_h1_loss: 0.8082 - val_h2_loss: 0.5313 - val_m1_loss: 0.4840 - val_m2_loss: 0.5000 - val_h1_mae: 0.8204 - val_h2_mae: 0.7189 - val_m1_mae: 0.6200 - val_m2_mae: 0.6330\n",
      "Epoch 10/200\n",
      "469/469 [==============================] - 36s 78ms/step - loss: 1.5147 - h1_loss: 0.1207 - h2_loss: 0.4093 - m1_loss: 0.4849 - m2_loss: 0.4998 - h1_mae: 0.2802 - h2_mae: 0.5642 - m1_mae: 0.6205 - m2_mae: 0.6344 - val_loss: 2.5515 - val_h1_loss: 0.9742 - val_h2_loss: 0.5930 - val_m1_loss: 0.4842 - val_m2_loss: 0.5001 - val_h1_mae: 0.9160 - val_h2_mae: 0.7606 - val_m1_mae: 0.6219 - val_m2_mae: 0.6332\n",
      "Epoch 11/200\n",
      "469/469 [==============================] - 37s 78ms/step - loss: 1.5141 - h1_loss: 0.1207 - h2_loss: 0.4091 - m1_loss: 0.4843 - m2_loss: 0.5000 - h1_mae: 0.2799 - h2_mae: 0.5642 - m1_mae: 0.6202 - m2_mae: 0.6341 - val_loss: 2.4680 - val_h1_loss: 0.9475 - val_h2_loss: 0.5360 - val_m1_loss: 0.4847 - val_m2_loss: 0.4998 - val_h1_mae: 0.9013 - val_h2_mae: 0.7222 - val_m1_mae: 0.6176 - val_m2_mae: 0.6334\n",
      "Epoch 12/200\n",
      "469/469 [==============================] - 37s 78ms/step - loss: 1.5147 - h1_loss: 0.1213 - h2_loss: 0.4091 - m1_loss: 0.4844 - m2_loss: 0.5000 - h1_mae: 0.2802 - h2_mae: 0.5641 - m1_mae: 0.6201 - m2_mae: 0.6343 - val_loss: 2.5529 - val_h1_loss: 0.9893 - val_h2_loss: 0.5728 - val_m1_loss: 0.4841 - val_m2_loss: 0.5068 - val_h1_mae: 0.9242 - val_h2_mae: 0.7472 - val_m1_mae: 0.6213 - val_m2_mae: 0.6397\n",
      "Epoch 13/200\n",
      "469/469 [==============================] - 36s 78ms/step - loss: 1.5164 - h1_loss: 0.1217 - h2_loss: 0.4096 - m1_loss: 0.4848 - m2_loss: 0.5003 - h1_mae: 0.2815 - h2_mae: 0.5641 - m1_mae: 0.6203 - m2_mae: 0.6345 - val_loss: 2.3532 - val_h1_loss: 0.8367 - val_h2_loss: 0.5317 - val_m1_loss: 0.4849 - val_m2_loss: 0.4999 - val_h1_mae: 0.8376 - val_h2_mae: 0.7192 - val_m1_mae: 0.6234 - val_m2_mae: 0.6350\n",
      "Epoch 14/200\n",
      "469/469 [==============================] - 36s 78ms/step - loss: 1.5140 - h1_loss: 0.1201 - h2_loss: 0.4090 - m1_loss: 0.4848 - m2_loss: 0.5001 - h1_mae: 0.2797 - h2_mae: 0.5641 - m1_mae: 0.6210 - m2_mae: 0.6344 - val_loss: 2.4444 - val_h1_loss: 0.9976 - val_h2_loss: 0.4629 - val_m1_loss: 0.4841 - val_m2_loss: 0.4997 - val_h1_mae: 0.9287 - val_h2_mae: 0.6697 - val_m1_mae: 0.6191 - val_m2_mae: 0.6338\n",
      "Epoch 15/200\n",
      "469/469 [==============================] - 36s 78ms/step - loss: 1.5138 - h1_loss: 0.1199 - h2_loss: 0.4092 - m1_loss: 0.4846 - m2_loss: 0.5000 - h1_mae: 0.2793 - h2_mae: 0.5643 - m1_mae: 0.6205 - m2_mae: 0.6342 - val_loss: 2.3792 - val_h1_loss: 0.8641 - val_h2_loss: 0.5305 - val_m1_loss: 0.4846 - val_m2_loss: 0.5000 - val_h1_mae: 0.8538 - val_h2_mae: 0.7183 - val_m1_mae: 0.6178 - val_m2_mae: 0.6351\n",
      "Epoch 16/200\n",
      "469/469 [==============================] - 37s 80ms/step - loss: 1.5130 - h1_loss: 0.1192 - h2_loss: 0.4091 - m1_loss: 0.4846 - m2_loss: 0.5001 - h1_mae: 0.2787 - h2_mae: 0.5641 - m1_mae: 0.6205 - m2_mae: 0.6343 - val_loss: 2.4663 - val_h1_loss: 0.9569 - val_h2_loss: 0.5253 - val_m1_loss: 0.4841 - val_m2_loss: 0.4999 - val_h1_mae: 0.9065 - val_h2_mae: 0.7147 - val_m1_mae: 0.6191 - val_m2_mae: 0.6351\n",
      "Epoch 17/200\n",
      "469/469 [==============================] - 37s 78ms/step - loss: 1.5129 - h1_loss: 0.1192 - h2_loss: 0.4092 - m1_loss: 0.4844 - m2_loss: 0.5002 - h1_mae: 0.2786 - h2_mae: 0.5642 - m1_mae: 0.6204 - m2_mae: 0.6346 - val_loss: 2.4926 - val_h1_loss: 0.9844 - val_h2_loss: 0.5236 - val_m1_loss: 0.4848 - val_m2_loss: 0.4998 - val_h1_mae: 0.9216 - val_h2_mae: 0.7136 - val_m1_mae: 0.6175 - val_m2_mae: 0.6345\n",
      "Epoch 18/200\n",
      "469/469 [==============================] - 37s 78ms/step - loss: 1.5126 - h1_loss: 0.1189 - h2_loss: 0.4091 - m1_loss: 0.4845 - m2_loss: 0.5000 - h1_mae: 0.2779 - h2_mae: 0.5638 - m1_mae: 0.6203 - m2_mae: 0.6343 - val_loss: 2.5730 - val_h1_loss: 1.0538 - val_h2_loss: 0.5350 - val_m1_loss: 0.4844 - val_m2_loss: 0.4997 - val_h1_mae: 0.9585 - val_h2_mae: 0.7215 - val_m1_mae: 0.6224 - val_m2_mae: 0.6344\n",
      "Epoch 19/200\n",
      "469/469 [==============================] - 37s 78ms/step - loss: 1.5128 - h1_loss: 0.1187 - h2_loss: 0.4094 - m1_loss: 0.4845 - m2_loss: 0.5002 - h1_mae: 0.2778 - h2_mae: 0.5644 - m1_mae: 0.6205 - m2_mae: 0.6348 - val_loss: 2.2723 - val_h1_loss: 0.8112 - val_h2_loss: 0.4768 - val_m1_loss: 0.4840 - val_m2_loss: 0.5003 - val_h1_mae: 0.8222 - val_h2_mae: 0.6800 - val_m1_mae: 0.6199 - val_m2_mae: 0.6337\n",
      "Epoch 20/200\n",
      "469/469 [==============================] - 36s 78ms/step - loss: 1.5130 - h1_loss: 0.1188 - h2_loss: 0.4092 - m1_loss: 0.4845 - m2_loss: 0.5004 - h1_mae: 0.2780 - h2_mae: 0.5641 - m1_mae: 0.6204 - m2_mae: 0.6345 - val_loss: 2.4888 - val_h1_loss: 0.9726 - val_h2_loss: 0.5321 - val_m1_loss: 0.4843 - val_m2_loss: 0.4998 - val_h1_mae: 0.9152 - val_h2_mae: 0.7195 - val_m1_mae: 0.6222 - val_m2_mae: 0.6336\n"
     ]
    },
    {
     "name": "stdout",
     "output_type": "stream",
     "text": [
      "Epoch 21/200\n",
      "469/469 [==============================] - 36s 77ms/step - loss: 1.5122 - h1_loss: 0.1186 - h2_loss: 0.4091 - m1_loss: 0.4845 - m2_loss: 0.4999 - h1_mae: 0.2776 - h2_mae: 0.5643 - m1_mae: 0.6203 - m2_mae: 0.6344 - val_loss: 2.4573 - val_h1_loss: 0.9720 - val_h2_loss: 0.5016 - val_m1_loss: 0.4840 - val_m2_loss: 0.4997 - val_h1_mae: 0.9148 - val_h2_mae: 0.6979 - val_m1_mae: 0.6201 - val_m2_mae: 0.6340\n",
      "Epoch 22/200\n",
      "469/469 [==============================] - 37s 78ms/step - loss: 1.5123 - h1_loss: 0.1188 - h2_loss: 0.4089 - m1_loss: 0.4843 - m2_loss: 0.5003 - h1_mae: 0.2780 - h2_mae: 0.5639 - m1_mae: 0.6202 - m2_mae: 0.6348 - val_loss: 2.3968 - val_h1_loss: 0.9032 - val_h2_loss: 0.5090 - val_m1_loss: 0.4848 - val_m2_loss: 0.4998 - val_h1_mae: 0.8764 - val_h2_mae: 0.7032 - val_m1_mae: 0.6174 - val_m2_mae: 0.6347\n",
      "Epoch 23/200\n",
      "469/469 [==============================] - 36s 78ms/step - loss: 1.5128 - h1_loss: 0.1188 - h2_loss: 0.4093 - m1_loss: 0.4844 - m2_loss: 0.5002 - h1_mae: 0.2781 - h2_mae: 0.5645 - m1_mae: 0.6204 - m2_mae: 0.6344 - val_loss: 2.4129 - val_h1_loss: 0.9258 - val_h2_loss: 0.5032 - val_m1_loss: 0.4841 - val_m2_loss: 0.4998 - val_h1_mae: 0.8892 - val_h2_mae: 0.6991 - val_m1_mae: 0.6214 - val_m2_mae: 0.6346\n",
      "Epoch 24/200\n",
      "469/469 [==============================] - 36s 78ms/step - loss: 1.5125 - h1_loss: 0.1189 - h2_loss: 0.4088 - m1_loss: 0.4845 - m2_loss: 0.5004 - h1_mae: 0.2778 - h2_mae: 0.5640 - m1_mae: 0.6206 - m2_mae: 0.6345 - val_loss: 2.4716 - val_h1_loss: 1.0377 - val_h2_loss: 0.4503 - val_m1_loss: 0.4840 - val_m2_loss: 0.4997 - val_h1_mae: 0.9500 - val_h2_mae: 0.6601 - val_m1_mae: 0.6204 - val_m2_mae: 0.6342\n",
      "Epoch 25/200\n",
      "469/469 [==============================] - 950s 2s/step - loss: 1.5129 - h1_loss: 0.1190 - h2_loss: 0.4088 - m1_loss: 0.4846 - m2_loss: 0.5005 - h1_mae: 0.2782 - h2_mae: 0.5636 - m1_mae: 0.6205 - m2_mae: 0.6349 - val_loss: 2.4705 - val_h1_loss: 0.9425 - val_h2_loss: 0.5432 - val_m1_loss: 0.4843 - val_m2_loss: 0.5005 - val_h1_mae: 0.8985 - val_h2_mae: 0.7271 - val_m1_mae: 0.6185 - val_m2_mae: 0.6342\n",
      "Epoch 26/200\n",
      "469/469 [==============================] - 36s 77ms/step - loss: 1.5121 - h1_loss: 0.1189 - h2_loss: 0.4086 - m1_loss: 0.4845 - m2_loss: 0.5001 - h1_mae: 0.2783 - h2_mae: 0.5639 - m1_mae: 0.6204 - m2_mae: 0.6347 - val_loss: 2.5812 - val_h1_loss: 0.9728 - val_h2_loss: 0.6215 - val_m1_loss: 0.4842 - val_m2_loss: 0.5028 - val_h1_mae: 0.9153 - val_h2_mae: 0.7791 - val_m1_mae: 0.6189 - val_m2_mae: 0.6369\n",
      "Epoch 27/200\n",
      "469/469 [==============================] - 1075s 2s/step - loss: 1.5123 - h1_loss: 0.1187 - h2_loss: 0.4089 - m1_loss: 0.4844 - m2_loss: 0.5003 - h1_mae: 0.2778 - h2_mae: 0.5640 - m1_mae: 0.6203 - m2_mae: 0.6347 - val_loss: 2.3177 - val_h1_loss: 0.8398 - val_h2_loss: 0.4936 - val_m1_loss: 0.4846 - val_m2_loss: 0.4997 - val_h1_mae: 0.8394 - val_h2_mae: 0.6922 - val_m1_mae: 0.6228 - val_m2_mae: 0.6342\n",
      "Epoch 28/200\n",
      "469/469 [==============================] - 950s 2s/step - loss: 1.5128 - h1_loss: 0.1188 - h2_loss: 0.4089 - m1_loss: 0.4846 - m2_loss: 0.5005 - h1_mae: 0.2780 - h2_mae: 0.5640 - m1_mae: 0.6205 - m2_mae: 0.6349 - val_loss: 2.3971 - val_h1_loss: 0.9135 - val_h2_loss: 0.4995 - val_m1_loss: 0.4843 - val_m2_loss: 0.4997 - val_h1_mae: 0.8823 - val_h2_mae: 0.6964 - val_m1_mae: 0.6184 - val_m2_mae: 0.6342\n",
      "Epoch 29/200\n",
      "469/469 [==============================] - 1083s 2s/step - loss: 1.5123 - h1_loss: 0.1187 - h2_loss: 0.4085 - m1_loss: 0.4845 - m2_loss: 0.5006 - h1_mae: 0.2779 - h2_mae: 0.5637 - m1_mae: 0.6205 - m2_mae: 0.6351 - val_loss: 2.4525 - val_h1_loss: 0.9412 - val_h2_loss: 0.5242 - val_m1_loss: 0.4858 - val_m2_loss: 0.5014 - val_h1_mae: 0.8978 - val_h2_mae: 0.7139 - val_m1_mae: 0.6160 - val_m2_mae: 0.6368\n",
      "Epoch 30/200\n",
      "469/469 [==============================] - 36s 76ms/step - loss: 1.5130 - h1_loss: 0.1195 - h2_loss: 0.4089 - m1_loss: 0.4843 - m2_loss: 0.5003 - h1_mae: 0.2784 - h2_mae: 0.5639 - m1_mae: 0.6203 - m2_mae: 0.6346 - val_loss: 2.5053 - val_h1_loss: 0.9865 - val_h2_loss: 0.5339 - val_m1_loss: 0.4851 - val_m2_loss: 0.4997 - val_h1_mae: 0.9227 - val_h2_mae: 0.7207 - val_m1_mae: 0.6169 - val_m2_mae: 0.6340\n",
      "Epoch 31/200\n",
      "469/469 [==============================] - 1069s 2s/step - loss: 1.5127 - h1_loss: 0.1193 - h2_loss: 0.4086 - m1_loss: 0.4845 - m2_loss: 0.5003 - h1_mae: 0.2785 - h2_mae: 0.5637 - m1_mae: 0.6200 - m2_mae: 0.6346 - val_loss: 2.3808 - val_h1_loss: 0.8557 - val_h2_loss: 0.5363 - val_m1_loss: 0.4891 - val_m2_loss: 0.4997 - val_h1_mae: 0.8489 - val_h2_mae: 0.7223 - val_m1_mae: 0.6131 - val_m2_mae: 0.6340\n",
      "Epoch 32/200\n",
      "469/469 [==============================] - 1046s 2s/step - loss: 1.5130 - h1_loss: 0.1190 - h2_loss: 0.4088 - m1_loss: 0.4847 - m2_loss: 0.5003 - h1_mae: 0.2781 - h2_mae: 0.5639 - m1_mae: 0.6202 - m2_mae: 0.6347 - val_loss: 2.6065 - val_h1_loss: 1.0326 - val_h2_loss: 0.5887 - val_m1_loss: 0.4840 - val_m2_loss: 0.5011 - val_h1_mae: 0.9474 - val_h2_mae: 0.7578 - val_m1_mae: 0.6210 - val_m2_mae: 0.6350\n",
      "Epoch 33/200\n",
      "469/469 [==============================] - 201s 429ms/step - loss: 1.5128 - h1_loss: 0.1190 - h2_loss: 0.4090 - m1_loss: 0.4845 - m2_loss: 0.5003 - h1_mae: 0.2782 - h2_mae: 0.5639 - m1_mae: 0.6205 - m2_mae: 0.6343 - val_loss: 2.4440 - val_h1_loss: 0.9547 - val_h2_loss: 0.5052 - val_m1_loss: 0.4840 - val_m2_loss: 0.5002 - val_h1_mae: 0.9053 - val_h2_mae: 0.7005 - val_m1_mae: 0.6209 - val_m2_mae: 0.6355\n",
      "Epoch 34/200\n",
      " 71/469 [===>..........................] - ETA: 31s - loss: 1.5222 - h1_loss: 0.1195 - h2_loss: 0.4199 - m1_loss: 0.4794 - m2_loss: 0.5033 - h1_mae: 0.2781 - h2_mae: 0.5766 - m1_mae: 0.6161 - m2_mae: 0.6384"
     ]
    }
   ],
   "source": [
    "history = model.fit(X_train, [y_train[:,0], y_train[:,1], y_train[:,2], y_train[:,3]], \n",
    "                    epochs=200, \n",
    "                    validation_data=(X_valid, [y_valid[:,0], y_valid[:,1], y_valid[:,2], y_valid[:,3]]))"
   ]
  },
  {
   "cell_type": "code",
   "execution_count": null,
   "id": "0920c152",
   "metadata": {},
   "outputs": [],
   "source": [
    "X_test = X_valid[:21]\n",
    "y_test = y_valid[:21]\n",
    "\n",
    "model.evaluate(X_test, y_test)"
   ]
  },
  {
   "cell_type": "code",
   "execution_count": null,
   "id": "6c77fbe3",
   "metadata": {},
   "outputs": [],
   "source": [
    "pd.DataFrame(history.history).plot(figsize=(8,5))\n",
    "plt.grid(True)\n",
    "plt.gca().set_ylim(0,1) # set the vertical range to [0-1]\n",
    "plt.gca().set_xlim(0,29)\n",
    "plt.show()"
   ]
  },
  {
   "cell_type": "code",
   "execution_count": null,
   "id": "b3507dbe",
   "metadata": {},
   "outputs": [],
   "source": [
    "a = [1,2,3,4]"
   ]
  },
  {
   "cell_type": "code",
   "execution_count": null,
   "id": "f527f829",
   "metadata": {},
   "outputs": [],
   "source": [
    "a[2:]"
   ]
  },
  {
   "cell_type": "code",
   "execution_count": null,
   "id": "08eed4ad",
   "metadata": {},
   "outputs": [],
   "source": []
  }
 ],
 "metadata": {
  "kernelspec": {
   "display_name": "Python 3 (ipykernel)",
   "language": "python",
   "name": "python3"
  },
  "language_info": {
   "codemirror_mode": {
    "name": "ipython",
    "version": 3
   },
   "file_extension": ".py",
   "mimetype": "text/x-python",
   "name": "python",
   "nbconvert_exporter": "python",
   "pygments_lexer": "ipython3",
   "version": "3.9.12"
  }
 },
 "nbformat": 4,
 "nbformat_minor": 5
}
