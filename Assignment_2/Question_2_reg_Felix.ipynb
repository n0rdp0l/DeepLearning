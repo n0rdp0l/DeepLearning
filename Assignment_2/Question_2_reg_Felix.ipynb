{
 "cells": [
  {
   "cell_type": "code",
   "execution_count": 2,
   "id": "3105b54a",
   "metadata": {},
   "outputs": [],
   "source": [
    "import tensorflow as tf\n",
    "from tensorflow import keras\n",
    "import pandas as pd\n",
    "import matplotlib.pyplot as plt\n",
    "import numpy as np\n",
    "import keras.backend as K\n",
    "import keras_tuner\n",
    "from tensorflow.keras import layers"
   ]
  },
  {
   "cell_type": "code",
   "execution_count": 3,
   "id": "e4224d57",
   "metadata": {},
   "outputs": [],
   "source": [
    "data_in = np.load(\"Data/images.npy\")\n",
    "data_out = np.load(\"Data/labels.npy\")"
   ]
  },
  {
   "cell_type": "code",
   "execution_count": 15,
   "id": "0c28b0c7",
   "metadata": {},
   "outputs": [
    {
     "data": {
      "text/plain": [
       "<keras.engine.sequential.Sequential at 0x2222e72be20>"
      ]
     },
     "execution_count": 15,
     "metadata": {},
     "output_type": "execute_result"
    }
   ],
   "source": [
    "def convert_to_num(hour, minute):\n",
    "    num = hour+minute/60\n",
    "    return num\n",
    "\n",
    "def clock_loss_reg_mse(y_true, y_pred):\n",
    "    absdiff = K.abs(y_pred - y_true)\n",
    "    norm_c = absdiff <= 6\n",
    "    norm_c = tf.cast(norm_c, tf.float32)\n",
    "    round_c = absdiff > 6\n",
    "    round_c = tf.cast(round_c, tf.float32)\n",
    "    normdiff = K.abs(y_pred - y_true)\n",
    "    rounddiff = 12 - K.abs((y_pred - y_true))\n",
    "    \n",
    "    diff = norm_c * normdiff + round_c * rounddiff\n",
    "    mse = K.mean(diff**2)\n",
    "    return mse\n",
    "\n",
    "def unison_shuffled_copies(a, b):\n",
    "    assert len(a) == len(b)\n",
    "    p = np.random.permutation(len(a))\n",
    "    return a[p], b[p]\n",
    "\n",
    "hp = keras_tuner.HyperParameters()\n",
    "\n",
    "def build_model_cnn(hp):\n",
    "    model = keras.Sequential()\n",
    "    model.add(layers.Conv2D(\n",
    "        #adding filter \n",
    "        filters=hp.Int('conv_1_filter', min_value=32, max_value=256, step=16),\n",
    "        # adding kernel size\n",
    "        kernel_size=hp.Choice('conv_1_kernel', values = [3,5,7]),\n",
    "        #activation function\n",
    "        activation='relu',\n",
    "        input_shape=[150,150,1],\n",
    "        padding='same',)\n",
    "    )\n",
    "    model.add(\n",
    "    layers.MaxPooling2D(pool_size = hp.Choice('pool_size', values = [2,3,4]),\n",
    "    ),\n",
    "    )\n",
    "    # Tune the number of layers.\n",
    "    for i in range(hp.Int(\"num_cnn_layers\", 1, 5)):\n",
    "        model.add(\n",
    "            layers.Conv2D(\n",
    "                #adding filter \n",
    "                filters=hp.Int(f'conv_{i}_filter', min_value=32, max_value=640, step=16),\n",
    "                # adding kernel size\n",
    "                kernel_size=hp.Choice(f'conv_{i}_kernel', values = [3,5]),\n",
    "                #activation function\n",
    "                activation='relu',\n",
    "                padding='same'),\n",
    "        )\n",
    "        model.add(\n",
    "            layers.MaxPooling2D(\n",
    "                pool_size = 2\n",
    "            ),\n",
    "            )\n",
    "                \n",
    "    model.add(layers.Flatten())        \n",
    "\n",
    "    for i in range(hp.Int(\"num_dense_layers\", 1, 3)):\n",
    "        model.add(\n",
    "            layers.Dense(\n",
    "                units=hp.Int(f\"units_{i}\", min_value=60, max_value=515, step=20),\n",
    "                activation=hp.Choice(\"activation\", [\"relu\", \"tanh\"]),),\n",
    "        )\n",
    "        \n",
    "        if hp.Boolean(\"dropout\"):\n",
    "            model.add(layers.Dropout(rate=hp.Choice(f'rate_{i}', values = [0.25,0.5,0.75])))\n",
    "    \n",
    "    model.add(layers.Dense(1, activation=\"linear\"))\n",
    "\n",
    "    learning_rate = hp.Float(\"lr\", min_value=1e-4, max_value=1e-2, sampling=\"log\")\n",
    "    model.compile(\n",
    "        optimizer=keras.optimizers.RMSprop(learning_rate=learning_rate),\n",
    "        loss=clock_loss_reg_mse,\n",
    "        metrics=[clock_loss_reg_mse],\n",
    "        run_eagerly=True\n",
    "    )\n",
    "    return model\n",
    "\n",
    "build_model_cnn(keras_tuner.HyperParameters())"
   ]
  },
  {
   "cell_type": "code",
   "execution_count": 19,
   "id": "5ff7460e",
   "metadata": {},
   "outputs": [],
   "source": [
    "tuner = keras_tuner.BayesianOptimization(\n",
    "    hypermodel=build_model_cnn,\n",
    "    objective=\"val_loss\",\n",
    "    max_trials=30,\n",
    "    num_initial_points=2,\n",
    "    seed=90,\n",
    "    directory=\"Task_reg\",\n",
    "    project_name=\"CNN\",\n",
    "    overwrite=True,\n",
    "    #executions_per_trial,\n",
    ")"
   ]
  },
  {
   "cell_type": "code",
   "execution_count": 20,
   "id": "46bef339",
   "metadata": {},
   "outputs": [],
   "source": [
    "data_in, data_out = unison_shuffled_copies(data_in, data_out)"
   ]
  },
  {
   "cell_type": "code",
   "execution_count": 21,
   "id": "33c5968f",
   "metadata": {},
   "outputs": [],
   "source": [
    "reg_out = []\n",
    "for i in range(len(data_out)):\n",
    "    hour = data_out[i][0]\n",
    "    minute = data_out[i][1]\n",
    "    hr_min_num = convert_to_num(hour, minute)\n",
    "    reg_out.append(hr_min_num)\n",
    "reg_out = np.array(reg_out)"
   ]
  },
  {
   "cell_type": "code",
   "execution_count": 22,
   "id": "b71a2e09",
   "metadata": {},
   "outputs": [],
   "source": [
    "X_valid, X_train, X_test = data_in[15000: 17000]/np.amax(data_in), data_in[:15000]/np.amax(data_in), data_in[17000:]/np.amax(data_in)\n",
    "y_valid, y_train, y_test = reg_out[15000: 17000], reg_out[:15000], reg_out[17000:]"
   ]
  },
  {
   "cell_type": "code",
   "execution_count": 24,
   "id": "98c9b810",
   "metadata": {},
   "outputs": [
    {
     "name": "stdout",
     "output_type": "stream",
     "text": [
      "\n",
      "Search: Running Trial #1\n",
      "\n",
      "Value             |Best Value So Far |Hyperparameter\n",
      "80                |?                 |conv_1_filter\n",
      "3                 |?                 |conv_1_kernel\n",
      "3                 |?                 |pool_size\n",
      "5                 |?                 |num_cnn_layers\n",
      "368               |?                 |conv_0_filter\n",
      "3                 |?                 |conv_0_kernel\n",
      "2                 |?                 |num_dense_layers\n",
      "140               |?                 |units_0\n",
      "tanh              |?                 |activation\n",
      "False             |?                 |dropout\n",
      "0.00019559        |?                 |lr\n",
      "32                |?                 |conv_2_filter\n",
      "3                 |?                 |conv_2_kernel\n",
      "32                |?                 |conv_3_filter\n",
      "3                 |?                 |conv_3_kernel\n",
      "32                |?                 |conv_4_filter\n",
      "3                 |?                 |conv_4_kernel\n",
      "60                |?                 |units_1\n",
      "\n",
      "Epoch 1/150\n",
      "100/100 [==============================] - 14s 122ms/step - loss: 11.9520 - clock_loss_reg_mse: 11.9520 - val_loss: 12.3033 - val_clock_loss_reg_mse: 12.4196\n",
      "Epoch 2/150\n",
      "100/100 [==============================] - 12s 122ms/step - loss: 12.0610 - clock_loss_reg_mse: 12.0610 - val_loss: 12.0825 - val_clock_loss_reg_mse: 12.0533\n",
      "Epoch 3/150\n",
      "100/100 [==============================] - 12s 118ms/step - loss: 11.9837 - clock_loss_reg_mse: 11.9837 - val_loss: 12.2330 - val_clock_loss_reg_mse: 12.3192\n",
      "Epoch 4/150\n",
      "100/100 [==============================] - 12s 122ms/step - loss: 11.9857 - clock_loss_reg_mse: 11.9857 - val_loss: 12.2949 - val_clock_loss_reg_mse: 12.4139\n",
      "Epoch 5/150\n",
      "100/100 [==============================] - 12s 121ms/step - loss: 11.9475 - clock_loss_reg_mse: 11.9475 - val_loss: 12.2570 - val_clock_loss_reg_mse: 12.3703\n",
      "Epoch 6/150\n",
      "100/100 [==============================] - 12s 120ms/step - loss: 11.6759 - clock_loss_reg_mse: 11.6759 - val_loss: 11.2232 - val_clock_loss_reg_mse: 11.3625\n",
      "Epoch 7/150\n",
      "100/100 [==============================] - 12s 120ms/step - loss: 9.5624 - clock_loss_reg_mse: 9.5624 - val_loss: 8.8002 - val_clock_loss_reg_mse: 8.7913\n",
      "Epoch 8/150\n",
      "100/100 [==============================] - 12s 122ms/step - loss: 8.2018 - clock_loss_reg_mse: 8.2018 - val_loss: 7.8968 - val_clock_loss_reg_mse: 7.9034\n",
      "Epoch 9/150\n",
      "100/100 [==============================] - 12s 122ms/step - loss: 7.5479 - clock_loss_reg_mse: 7.5479 - val_loss: 7.1342 - val_clock_loss_reg_mse: 7.1760\n",
      "Epoch 10/150\n",
      "100/100 [==============================] - 12s 120ms/step - loss: 6.9811 - clock_loss_reg_mse: 6.9811 - val_loss: 6.8024 - val_clock_loss_reg_mse: 6.8623\n",
      "Epoch 11/150\n",
      "100/100 [==============================] - 12s 121ms/step - loss: 6.4777 - clock_loss_reg_mse: 6.4777 - val_loss: 6.1317 - val_clock_loss_reg_mse: 6.1689\n",
      "Epoch 12/150\n",
      "100/100 [==============================] - 12s 118ms/step - loss: 6.1715 - clock_loss_reg_mse: 6.1715 - val_loss: 6.0872 - val_clock_loss_reg_mse: 6.1557\n",
      "Epoch 13/150\n",
      "100/100 [==============================] - 12s 119ms/step - loss: 5.9304 - clock_loss_reg_mse: 5.9304 - val_loss: 6.2803 - val_clock_loss_reg_mse: 6.2412\n",
      "Epoch 14/150\n",
      "100/100 [==============================] - 12s 119ms/step - loss: 5.6306 - clock_loss_reg_mse: 5.6307 - val_loss: 6.5614 - val_clock_loss_reg_mse: 6.5206\n",
      "Epoch 15/150\n",
      "100/100 [==============================] - 12s 119ms/step - loss: 5.3846 - clock_loss_reg_mse: 5.3846 - val_loss: 5.3385 - val_clock_loss_reg_mse: 5.3071\n",
      "Epoch 16/150\n",
      "100/100 [==============================] - 12s 119ms/step - loss: 5.2329 - clock_loss_reg_mse: 5.2329 - val_loss: 5.2766 - val_clock_loss_reg_mse: 5.2465\n",
      "Epoch 17/150\n",
      "100/100 [==============================] - 12s 119ms/step - loss: 5.0232 - clock_loss_reg_mse: 5.0232 - val_loss: 5.0869 - val_clock_loss_reg_mse: 5.0461\n",
      "Epoch 18/150\n",
      "100/100 [==============================] - 12s 120ms/step - loss: 4.8567 - clock_loss_reg_mse: 4.8567 - val_loss: 4.8899 - val_clock_loss_reg_mse: 4.8783\n",
      "Epoch 19/150\n",
      "100/100 [==============================] - 12s 119ms/step - loss: 4.6625 - clock_loss_reg_mse: 4.6625 - val_loss: 5.3880 - val_clock_loss_reg_mse: 5.4387\n",
      "Epoch 20/150\n",
      "100/100 [==============================] - 12s 121ms/step - loss: 4.4543 - clock_loss_reg_mse: 4.4543 - val_loss: 5.0988 - val_clock_loss_reg_mse: 5.1522\n",
      "Epoch 21/150\n",
      "100/100 [==============================] - 12s 122ms/step - loss: 4.3006 - clock_loss_reg_mse: 4.3006 - val_loss: 4.4709 - val_clock_loss_reg_mse: 4.4529\n",
      "Epoch 22/150\n",
      "100/100 [==============================] - 12s 122ms/step - loss: 4.1685 - clock_loss_reg_mse: 4.1685 - val_loss: 4.3660 - val_clock_loss_reg_mse: 4.2995\n",
      "Epoch 23/150\n",
      "100/100 [==============================] - 12s 121ms/step - loss: 3.9925 - clock_loss_reg_mse: 3.9926 - val_loss: 4.4044 - val_clock_loss_reg_mse: 4.3875\n",
      "Epoch 24/150\n",
      "100/100 [==============================] - 12s 122ms/step - loss: 3.8004 - clock_loss_reg_mse: 3.8004 - val_loss: 4.1939 - val_clock_loss_reg_mse: 4.1739\n",
      "Epoch 25/150\n",
      "100/100 [==============================] - 12s 122ms/step - loss: 3.7067 - clock_loss_reg_mse: 3.7067 - val_loss: 4.0411 - val_clock_loss_reg_mse: 3.9865\n",
      "Epoch 26/150\n",
      "100/100 [==============================] - 12s 122ms/step - loss: 3.6055 - clock_loss_reg_mse: 3.6055 - val_loss: 3.9347 - val_clock_loss_reg_mse: 3.8801\n",
      "Epoch 27/150\n",
      "100/100 [==============================] - 12s 122ms/step - loss: 3.4052 - clock_loss_reg_mse: 3.4052 - val_loss: 4.6219 - val_clock_loss_reg_mse: 4.5496\n",
      "Epoch 28/150\n",
      "100/100 [==============================] - 12s 122ms/step - loss: 3.3602 - clock_loss_reg_mse: 3.3602 - val_loss: 3.7105 - val_clock_loss_reg_mse: 3.7088\n",
      "Epoch 29/150\n",
      "100/100 [==============================] - 12s 122ms/step - loss: 3.2586 - clock_loss_reg_mse: 3.2586 - val_loss: 3.6198 - val_clock_loss_reg_mse: 3.5988\n",
      "Epoch 30/150\n",
      "100/100 [==============================] - 12s 122ms/step - loss: 3.1772 - clock_loss_reg_mse: 3.1772 - val_loss: 3.5750 - val_clock_loss_reg_mse: 3.5229\n",
      "Epoch 31/150\n",
      "100/100 [==============================] - 12s 120ms/step - loss: 3.0473 - clock_loss_reg_mse: 3.0473 - val_loss: 3.4857 - val_clock_loss_reg_mse: 3.4576\n",
      "Epoch 32/150\n",
      "100/100 [==============================] - 12s 120ms/step - loss: 2.9650 - clock_loss_reg_mse: 2.9650 - val_loss: 3.4147 - val_clock_loss_reg_mse: 3.4467\n",
      "Epoch 33/150\n",
      "100/100 [==============================] - 12s 121ms/step - loss: 2.8733 - clock_loss_reg_mse: 2.8733 - val_loss: 3.4229 - val_clock_loss_reg_mse: 3.3523\n",
      "Epoch 34/150\n",
      "100/100 [==============================] - 12s 121ms/step - loss: 2.7395 - clock_loss_reg_mse: 2.7395 - val_loss: 3.3055 - val_clock_loss_reg_mse: 3.2670\n",
      "Epoch 35/150\n",
      "100/100 [==============================] - 12s 120ms/step - loss: 2.6726 - clock_loss_reg_mse: 2.6726 - val_loss: 3.3788 - val_clock_loss_reg_mse: 3.3471\n",
      "Epoch 36/150\n",
      "100/100 [==============================] - 12s 120ms/step - loss: 2.5939 - clock_loss_reg_mse: 2.5939 - val_loss: 3.1388 - val_clock_loss_reg_mse: 3.1104\n",
      "Epoch 37/150\n",
      "100/100 [==============================] - 12s 121ms/step - loss: 2.5484 - clock_loss_reg_mse: 2.5484 - val_loss: 3.0453 - val_clock_loss_reg_mse: 3.0208\n",
      "Epoch 38/150\n",
      "100/100 [==============================] - 12s 119ms/step - loss: 2.4729 - clock_loss_reg_mse: 2.4729 - val_loss: 2.9232 - val_clock_loss_reg_mse: 2.8779\n",
      "Epoch 39/150\n",
      "100/100 [==============================] - 12s 121ms/step - loss: 2.4106 - clock_loss_reg_mse: 2.4106 - val_loss: 3.0307 - val_clock_loss_reg_mse: 2.9726\n",
      "Epoch 40/150\n",
      "100/100 [==============================] - 12s 123ms/step - loss: 2.3116 - clock_loss_reg_mse: 2.3116 - val_loss: 2.7339 - val_clock_loss_reg_mse: 2.6929\n",
      "Epoch 41/150\n",
      "100/100 [==============================] - 12s 121ms/step - loss: 2.2380 - clock_loss_reg_mse: 2.2380 - val_loss: 2.8838 - val_clock_loss_reg_mse: 2.8543\n",
      "Epoch 42/150\n",
      " 95/100 [===========================>..] - ETA: 0s - loss: 2.2044 - clock_loss_reg_mse: 2.2044"
     ]
    }
   ],
   "source": [
    "tuner.search(X_train, y_train, epochs=150, validation_data=(X_valid, y_valid), \n",
    "            callbacks=[tf.keras.callbacks.EarlyStopping(monitor=\"val_loss\", patience=10)], batch_size=150)"
   ]
  },
  {
   "cell_type": "code",
   "execution_count": 28,
   "id": "0244f2e8",
   "metadata": {},
   "outputs": [],
   "source": [
    "model = keras.models.Sequential([\n",
    "    keras.layers.Conv2D(64, kernel_size=(5,5), strides=1, \n",
    "                        activation='relu', input_shape=[150,150,1]),\n",
    "    keras.layers.MaxPooling2D(pool_size=(2,2)),\n",
    "    keras.layers.Conv2D(128, kernel_size=(3,3), strides=1, activation='relu'),\n",
    "    keras.layers.MaxPooling2D(pool_size=(2,2)),\n",
    "    keras.layers.Conv2D(256, kernel_size=(3,3), strides=1, activation='relu'),\n",
    "    keras.layers.MaxPooling2D(pool_size=(2,2)),\n",
    "    keras.layers.Conv2D(512, kernel_size=(3,3), strides=1, activation='relu'),\n",
    "    #keras.layers.MaxPooling2D(pool_size=(2,2)),\n",
    "    #keras.layers.Conv2D(640, kernel_size=2, strides=1, activation='relu'),\n",
    "    #keras.layers.MaxPooling2D(pool_size=(2,2)),\n",
    "    #keras.layers.Conv2D(768, kernel_size=2, strides=1, activation='relu'),\n",
    "    keras.layers.Dropout(0.4),\n",
    "    keras.layers.Flatten(),\n",
    "    keras.layers.Dense(500, activation='relu'),\n",
    "    keras.layers.Dense(500, activation='relu'),\n",
    "    keras.layers.Dense(1, activation='linear')\n",
    "])"
   ]
  },
  {
   "cell_type": "code",
   "execution_count": 17,
   "id": "bb1a02d5",
   "metadata": {},
   "outputs": [
    {
     "data": {
      "text/plain": [
       "\"\\nmodel = keras.models.Sequential([\\n    keras.layers.Conv2D(64, 7, activation='relu', padding='same', \\n                        input_shape=[150,150,1]),\\n    keras.layers.MaxPooling2D(2),\\n    keras.layers.Conv2D(128, 3, activation='relu', padding='same'),\\n    keras.layers.Conv2D(128, 3, activation='relu', padding='same'),\\n    keras.layers.MaxPooling2D(2),\\n    keras.layers.Conv2D(256, 3, activation='relu', padding='same'),\\n    keras.layers.Conv2D(256, 3, activation='relu', padding='same'),\\n    keras.layers.MaxPooling2D(2),\\n    keras.layers.Flatten(),\\n    keras.layers.Dense(128, activation='relu'),\\n    keras.layers.Dropout(0.5),\\n    keras.layers.Dense(64, activation='relu'),\\n    keras.layers.Dropout(0.5),\\n    keras.layers.Dense(4)\\n])\\n\""
      ]
     },
     "execution_count": 17,
     "metadata": {},
     "output_type": "execute_result"
    }
   ],
   "source": [
    "'''\n",
    "model = keras.models.Sequential([\n",
    "    keras.layers.Conv2D(64, 7, activation='relu', padding='same', \n",
    "                        input_shape=[150,150,1]),\n",
    "    keras.layers.MaxPooling2D(2),\n",
    "    keras.layers.Conv2D(128, 3, activation='relu', padding='same'),\n",
    "    keras.layers.Conv2D(128, 3, activation='relu', padding='same'),\n",
    "    keras.layers.MaxPooling2D(2),\n",
    "    keras.layers.Conv2D(256, 3, activation='relu', padding='same'),\n",
    "    keras.layers.Conv2D(256, 3, activation='relu', padding='same'),\n",
    "    keras.layers.MaxPooling2D(2),\n",
    "    keras.layers.Flatten(),\n",
    "    keras.layers.Dense(128, activation='relu'),\n",
    "    keras.layers.Dropout(0.5),\n",
    "    keras.layers.Dense(64, activation='relu'),\n",
    "    keras.layers.Dropout(0.5),\n",
    "    keras.layers.Dense(4)\n",
    "])\n",
    "'''"
   ]
  },
  {
   "cell_type": "code",
   "execution_count": 29,
   "id": "bfcd9987",
   "metadata": {},
   "outputs": [],
   "source": [
    "opt = keras.optimizers.SGD(learning_rate=0.001)"
   ]
  },
  {
   "cell_type": "code",
   "execution_count": 31,
   "id": "1b026719",
   "metadata": {},
   "outputs": [
    {
     "name": "stdout",
     "output_type": "stream",
     "text": [
      "Epoch 1/20\n",
      "469/469 [==============================] - 13s 27ms/step - loss: 12.8689 - accuracy: 0.0015 - val_loss: 12.2687 - val_accuracy: 6.6667e-04\n",
      "Epoch 2/20\n",
      "469/469 [==============================] - 12s 26ms/step - loss: 14.3976 - accuracy: 0.0016 - val_loss: 12.1171 - val_accuracy: 6.6667e-04\n",
      "Epoch 3/20\n",
      "469/469 [==============================] - 12s 26ms/step - loss: 12.3218 - accuracy: 0.0019 - val_loss: 12.2465 - val_accuracy: 6.6667e-04\n",
      "Epoch 4/20\n",
      "469/469 [==============================] - 12s 26ms/step - loss: 12.1243 - accuracy: 0.0015 - val_loss: 12.2476 - val_accuracy: 6.6667e-04\n",
      "Epoch 5/20\n",
      "469/469 [==============================] - 12s 26ms/step - loss: 12.6568 - accuracy: 0.0014 - val_loss: 12.2467 - val_accuracy: 6.6667e-04\n",
      "Epoch 6/20\n",
      "469/469 [==============================] - 12s 26ms/step - loss: 13.2911 - accuracy: 0.0019 - val_loss: 12.1598 - val_accuracy: 6.6667e-04\n",
      "Epoch 7/20\n",
      "469/469 [==============================] - 12s 26ms/step - loss: 12.0229 - accuracy: 0.0019 - val_loss: 12.2461 - val_accuracy: 6.6667e-04\n",
      "Epoch 8/20\n",
      "469/469 [==============================] - 12s 26ms/step - loss: 12.1700 - accuracy: 0.0015 - val_loss: 12.0194 - val_accuracy: 6.6667e-04\n",
      "Epoch 9/20\n",
      "469/469 [==============================] - 12s 26ms/step - loss: 11.9899 - accuracy: 0.0018 - val_loss: 12.2425 - val_accuracy: 6.6667e-04\n",
      "Epoch 10/20\n",
      "469/469 [==============================] - 12s 26ms/step - loss: 12.0867 - accuracy: 0.0015 - val_loss: 12.2554 - val_accuracy: 6.6667e-04\n",
      "Epoch 11/20\n",
      "469/469 [==============================] - 12s 26ms/step - loss: 12.0333 - accuracy: 0.0015 - val_loss: 12.2656 - val_accuracy: 6.6667e-04\n",
      "Epoch 12/20\n",
      "469/469 [==============================] - 12s 26ms/step - loss: 11.9749 - accuracy: 0.0015 - val_loss: 12.2444 - val_accuracy: 6.6667e-04\n",
      "Epoch 13/20\n",
      "469/469 [==============================] - 12s 26ms/step - loss: 11.9529 - accuracy: 0.0015 - val_loss: 12.2445 - val_accuracy: 6.6667e-04\n",
      "Epoch 14/20\n",
      "469/469 [==============================] - 12s 26ms/step - loss: 11.9521 - accuracy: 0.0015 - val_loss: 12.2449 - val_accuracy: 6.6667e-04\n",
      "Epoch 15/20\n",
      "469/469 [==============================] - 12s 26ms/step - loss: 11.9526 - accuracy: 0.0015 - val_loss: 12.2448 - val_accuracy: 6.6667e-04\n",
      "Epoch 16/20\n",
      "469/469 [==============================] - 12s 26ms/step - loss: 11.9520 - accuracy: 0.0015 - val_loss: 12.2450 - val_accuracy: 6.6667e-04\n",
      "Epoch 17/20\n",
      "469/469 [==============================] - 12s 26ms/step - loss: 11.9520 - accuracy: 0.0015 - val_loss: 12.2459 - val_accuracy: 6.6667e-04\n",
      "Epoch 18/20\n",
      "469/469 [==============================] - 12s 26ms/step - loss: 11.9520 - accuracy: 0.0015 - val_loss: 12.2462 - val_accuracy: 6.6667e-04\n",
      "Epoch 19/20\n",
      "469/469 [==============================] - 12s 26ms/step - loss: 11.9519 - accuracy: 0.0015 - val_loss: 12.2471 - val_accuracy: 6.6667e-04\n",
      "Epoch 20/20\n",
      "469/469 [==============================] - 12s 26ms/step - loss: 11.9514 - accuracy: 0.0015 - val_loss: 12.2480 - val_accuracy: 6.6667e-04\n"
     ]
    }
   ],
   "source": [
    "model.compile(loss=clock_loss_reg_mse, optimizer=keras.optimizers.RMSprop(), metrics=['accuracy'])\n",
    "history = model.fit(X_train, y_train, batch_size=32, epochs=20,\n",
    "                   validation_data=(X_valid, y_valid))"
   ]
  },
  {
   "cell_type": "code",
   "execution_count": 32,
   "id": "9f9dc326",
   "metadata": {},
   "outputs": [
    {
     "name": "stdout",
     "output_type": "stream",
     "text": [
      "1/1 [==============================] - 0s 432ms/step - loss: 10.7332 - accuracy: 0.0000e+00\n"
     ]
    },
    {
     "data": {
      "text/plain": [
       "[10.733247756958008, 0.0]"
      ]
     },
     "execution_count": 32,
     "metadata": {},
     "output_type": "execute_result"
    }
   ],
   "source": [
    "model.evaluate(X_train[:10], y_valid[:10])\n"
   ]
  },
  {
   "cell_type": "code",
   "execution_count": 36,
   "id": "e2a7b17c",
   "metadata": {},
   "outputs": [
    {
     "name": "stdout",
     "output_type": "stream",
     "text": [
      "94/94 [==============================] - 1s 8ms/step\n"
     ]
    },
    {
     "ename": "InvalidArgumentError",
     "evalue": "cannot compute Mul as input #1(zero-based) was expected to be a float tensor but is a double tensor [Op:Mul]",
     "output_type": "error",
     "traceback": [
      "\u001b[1;31m---------------------------------------------------------------------------\u001b[0m",
      "\u001b[1;31mInvalidArgumentError\u001b[0m                      Traceback (most recent call last)",
      "\u001b[1;32mc:\\Users\\felix.wente\\Github\\DeepLearning\\Assignment_2\\Question_2_reg.ipynb Cell 13\u001b[0m in \u001b[0;36m<cell line: 2>\u001b[1;34m()\u001b[0m\n\u001b[0;32m      <a href='vscode-notebook-cell://ssh-remote%2Bn0rdp0l/c%3A/Users/felix.wente/Github/DeepLearning/Assignment_2/Question_2_reg.ipynb#X22sdnNjb2RlLXJlbW90ZQ%3D%3D?line=0'>1</a>\u001b[0m y_pred \u001b[39m=\u001b[39m model\u001b[39m.\u001b[39mpredict(X_valid)\n\u001b[1;32m----> <a href='vscode-notebook-cell://ssh-remote%2Bn0rdp0l/c%3A/Users/felix.wente/Github/DeepLearning/Assignment_2/Question_2_reg.ipynb#X22sdnNjb2RlLXJlbW90ZQ%3D%3D?line=1'>2</a>\u001b[0m clock_loss_reg_mse(y_valid,y_pred)\n",
      "\u001b[1;32mc:\\Users\\felix.wente\\Github\\DeepLearning\\Assignment_2\\Question_2_reg.ipynb Cell 13\u001b[0m in \u001b[0;36mclock_loss_reg_mse\u001b[1;34m(y_true, y_pred)\u001b[0m\n\u001b[0;32m     <a href='vscode-notebook-cell://ssh-remote%2Bn0rdp0l/c%3A/Users/felix.wente/Github/DeepLearning/Assignment_2/Question_2_reg.ipynb#X22sdnNjb2RlLXJlbW90ZQ%3D%3D?line=10'>11</a>\u001b[0m normdiff \u001b[39m=\u001b[39m K\u001b[39m.\u001b[39mabs(y_pred \u001b[39m-\u001b[39m y_true)\n\u001b[0;32m     <a href='vscode-notebook-cell://ssh-remote%2Bn0rdp0l/c%3A/Users/felix.wente/Github/DeepLearning/Assignment_2/Question_2_reg.ipynb#X22sdnNjb2RlLXJlbW90ZQ%3D%3D?line=11'>12</a>\u001b[0m rounddiff \u001b[39m=\u001b[39m \u001b[39m12\u001b[39m \u001b[39m-\u001b[39m K\u001b[39m.\u001b[39mabs((y_pred \u001b[39m-\u001b[39m y_true))\n\u001b[1;32m---> <a href='vscode-notebook-cell://ssh-remote%2Bn0rdp0l/c%3A/Users/felix.wente/Github/DeepLearning/Assignment_2/Question_2_reg.ipynb#X22sdnNjb2RlLXJlbW90ZQ%3D%3D?line=13'>14</a>\u001b[0m diff \u001b[39m=\u001b[39m norm_c \u001b[39m*\u001b[39;49m normdiff \u001b[39m+\u001b[39m round_c \u001b[39m*\u001b[39m rounddiff\n\u001b[0;32m     <a href='vscode-notebook-cell://ssh-remote%2Bn0rdp0l/c%3A/Users/felix.wente/Github/DeepLearning/Assignment_2/Question_2_reg.ipynb#X22sdnNjb2RlLXJlbW90ZQ%3D%3D?line=14'>15</a>\u001b[0m mse \u001b[39m=\u001b[39m K\u001b[39m.\u001b[39mmean(diff\u001b[39m*\u001b[39m\u001b[39m*\u001b[39m\u001b[39m2\u001b[39m)\n\u001b[0;32m     <a href='vscode-notebook-cell://ssh-remote%2Bn0rdp0l/c%3A/Users/felix.wente/Github/DeepLearning/Assignment_2/Question_2_reg.ipynb#X22sdnNjb2RlLXJlbW90ZQ%3D%3D?line=15'>16</a>\u001b[0m \u001b[39mreturn\u001b[39;00m mse\n",
      "File \u001b[1;32mc:\\Users\\felix.wente\\anaconda3\\envs\\tensorflow_gpuenv\\lib\\site-packages\\tensorflow\\python\\util\\traceback_utils.py:153\u001b[0m, in \u001b[0;36mfilter_traceback.<locals>.error_handler\u001b[1;34m(*args, **kwargs)\u001b[0m\n\u001b[0;32m    151\u001b[0m \u001b[39mexcept\u001b[39;00m \u001b[39mException\u001b[39;00m \u001b[39mas\u001b[39;00m e:\n\u001b[0;32m    152\u001b[0m   filtered_tb \u001b[39m=\u001b[39m _process_traceback_frames(e\u001b[39m.\u001b[39m__traceback__)\n\u001b[1;32m--> 153\u001b[0m   \u001b[39mraise\u001b[39;00m e\u001b[39m.\u001b[39mwith_traceback(filtered_tb) \u001b[39mfrom\u001b[39;00m \u001b[39mNone\u001b[39m\n\u001b[0;32m    154\u001b[0m \u001b[39mfinally\u001b[39;00m:\n\u001b[0;32m    155\u001b[0m   \u001b[39mdel\u001b[39;00m filtered_tb\n",
      "File \u001b[1;32mc:\\Users\\felix.wente\\anaconda3\\envs\\tensorflow_gpuenv\\lib\\site-packages\\tensorflow\\python\\framework\\ops.py:7209\u001b[0m, in \u001b[0;36mraise_from_not_ok_status\u001b[1;34m(e, name)\u001b[0m\n\u001b[0;32m   7207\u001b[0m \u001b[39mdef\u001b[39;00m \u001b[39mraise_from_not_ok_status\u001b[39m(e, name):\n\u001b[0;32m   7208\u001b[0m   e\u001b[39m.\u001b[39mmessage \u001b[39m+\u001b[39m\u001b[39m=\u001b[39m (\u001b[39m\"\u001b[39m\u001b[39m name: \u001b[39m\u001b[39m\"\u001b[39m \u001b[39m+\u001b[39m name \u001b[39mif\u001b[39;00m name \u001b[39mis\u001b[39;00m \u001b[39mnot\u001b[39;00m \u001b[39mNone\u001b[39;00m \u001b[39melse\u001b[39;00m \u001b[39m\"\u001b[39m\u001b[39m\"\u001b[39m)\n\u001b[1;32m-> 7209\u001b[0m   \u001b[39mraise\u001b[39;00m core\u001b[39m.\u001b[39m_status_to_exception(e) \u001b[39mfrom\u001b[39;00m \u001b[39mNone\u001b[39m\n",
      "\u001b[1;31mInvalidArgumentError\u001b[0m: cannot compute Mul as input #1(zero-based) was expected to be a float tensor but is a double tensor [Op:Mul]"
     ]
    }
   ],
   "source": [
    "y_pred = model.predict(X_valid)\n",
    "clock_loss_reg_mse(y_valid,y_pred)cannot compute Mul as input #1(zero-based) was expected to be a float tensor but is a double tensor [Op:Mul]"
   ]
  },
  {
   "cell_type": "code",
   "execution_count": 21,
   "id": "6ba6e7df",
   "metadata": {},
   "outputs": [
    {
     "data": {
      "image/png": "[encoded data removed]",
      "text/plain": [
       "<Figure size 800x500 with 1 Axes>"
      ]
     },
     "metadata": {},
     "output_type": "display_data"
    }
   ],
   "source": [
    "pd.DataFrame(history.history).plot(figsize=(8,5))\n",
    "plt.grid(True)\n",
    "plt.gca().set_ylim(0,15) # set the vertical range to [0-1]\n",
    "plt.gca().set_xlim(0,29)\n",
    "plt.show()"
   ]
  },
  {
   "cell_type": "code",
   "execution_count": null,
   "id": "69af2849",
   "metadata": {},
   "outputs": [],
   "source": []
  },
  {
   "cell_type": "code",
   "execution_count": null,
   "id": "d8a11f15",
   "metadata": {},
   "outputs": [],
   "source": []
  }
 ],
 "metadata": {
  "kernelspec": {
   "display_name": "Python 3.9.13 ('tensorflow_gpuenv')",
   "language": "python",
   "name": "python3"
  },
  "language_info": {
   "codemirror_mode": {
    "name": "ipython",
    "version": 3
   },
   "file_extension": ".py",
   "mimetype": "text/x-python",
   "name": "python",
   "nbconvert_exporter": "python",
   "pygments_lexer": "ipython3",
   "version": "3.9.13"
  },
  "vscode": {
   "interpreter": {
    "hash": "0fc6bd0f3244fbce09ddd135616ccb443141c000fc5b86aab99a2628dd8f046c"
   }
  }
 },
 "nbformat": 4,
 "nbformat_minor": 5
}
